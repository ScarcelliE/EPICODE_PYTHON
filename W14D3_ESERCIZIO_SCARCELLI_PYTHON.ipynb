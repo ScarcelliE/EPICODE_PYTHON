{
 "cells": [
  {
   "cell_type": "markdown",
   "id": "a463483d-65ca-44eb-9969-0b16e26bbabf",
   "metadata": {},
   "source": [
    "# ESERCIZI W14D3"
   ]
  },
  {
   "cell_type": "code",
   "execution_count": 1,
   "id": "4ed09964-a747-4f4c-889d-e883fe00fd6b",
   "metadata": {},
   "outputs": [],
   "source": [
    "import numpy as np\n",
    "import pandas as pd"
   ]
  },
  {
   "cell_type": "markdown",
   "id": "432b4809-0fd1-4240-970d-18eafc3cb2f3",
   "metadata": {},
   "source": [
    "**Esercizio**\n",
    "Abbiamo una lista di liste: \n",
    "* mat = [[0, 1, 2, 3, 4], [5, 6, 7, 8, 9], [10, 11, 12, 13, 14]]\n",
    "\n",
    "Che tipo di struttura dati o matematica potrebbe rappresentare? Notare che tutte le liste \"interne\" sono della stessa dimensione Come facciamo per accedere ad un elemento in particolare?"
   ]
  },
  {
   "cell_type": "code",
   "execution_count": 2,
   "id": "9e8056ec-4eb8-47fe-9558-5830650c540d",
   "metadata": {},
   "outputs": [
    {
     "data": {
      "text/plain": [
       "array([[ 0,  1,  2,  3,  4],\n",
       "       [ 5,  6,  7,  8,  9],\n",
       "       [10, 11, 12, 13, 14]])"
      ]
     },
     "execution_count": 2,
     "metadata": {},
     "output_type": "execute_result"
    }
   ],
   "source": [
    "#MATRICE\n",
    "mat = [[0, 1, 2, 3, 4], [5, 6, 7, 8, 9], [10, 11, 12, 13, 14]]\n",
    "mat=np.array(mat)\n",
    "mat"
   ]
  },
  {
   "cell_type": "code",
   "execution_count": 3,
   "id": "6d4d0db5-3e46-45fa-9ff7-920f64442295",
   "metadata": {},
   "outputs": [
    {
     "data": {
      "text/plain": [
       "4"
      ]
     },
     "execution_count": 3,
     "metadata": {},
     "output_type": "execute_result"
    }
   ],
   "source": [
    "mat[0][-1] # accedo con gli indici"
   ]
  },
  {
   "cell_type": "markdown",
   "id": "da71feba-5bc6-487e-97ec-f62b67f58090",
   "metadata": {},
   "source": [
    "**Esercizio**\n",
    "\n",
    "Importiamo il modulo math e proviamo a usare le funzioni \n",
    "* .sin() \n",
    "* .cos() \n",
    "* .factorial() \n",
    "\n",
    "e la variabile .pi la riconoscete?"
   ]
  },
  {
   "cell_type": "code",
   "execution_count": 4,
   "id": "c2ce6038-de86-4fee-a493-c0cd1d3e5f1d",
   "metadata": {},
   "outputs": [],
   "source": [
    "import math"
   ]
  },
  {
   "cell_type": "code",
   "execution_count": 5,
   "id": "b93f1123-7ffb-48a6-8c88-912f018679a5",
   "metadata": {},
   "outputs": [
    {
     "data": {
      "text/plain": [
       "0.9129452507276277"
      ]
     },
     "execution_count": 5,
     "metadata": {},
     "output_type": "execute_result"
    }
   ],
   "source": [
    "math.sin(20)"
   ]
  },
  {
   "cell_type": "code",
   "execution_count": 6,
   "id": "21df26c1-7ad3-4716-baec-da1b057123e1",
   "metadata": {},
   "outputs": [
    {
     "data": {
      "text/plain": [
       "0.40808206181339196"
      ]
     },
     "execution_count": 6,
     "metadata": {},
     "output_type": "execute_result"
    }
   ],
   "source": [
    "math.cos(20)"
   ]
  },
  {
   "cell_type": "code",
   "execution_count": 7,
   "id": "be5b1e85-de63-4b81-b387-774fbef76f8f",
   "metadata": {},
   "outputs": [
    {
     "data": {
      "text/plain": [
       "120"
      ]
     },
     "execution_count": 7,
     "metadata": {},
     "output_type": "execute_result"
    }
   ],
   "source": [
    "math.factorial(5)"
   ]
  },
  {
   "cell_type": "code",
   "execution_count": 8,
   "id": "72796f50-7b22-4781-93b8-4a0198efff35",
   "metadata": {},
   "outputs": [
    {
     "name": "stdout",
     "output_type": "stream",
     "text": [
      "Help on built-in function factorial in module math:\n",
      "\n",
      "factorial(n, /)\n",
      "    Find n!.\n",
      "    \n",
      "    Raise a ValueError if x is negative or non-integral.\n",
      "\n"
     ]
    }
   ],
   "source": [
    "help(math.factorial)"
   ]
  },
  {
   "cell_type": "code",
   "execution_count": 9,
   "id": "84224c1b-eff8-4a8d-9614-17791a45e61b",
   "metadata": {},
   "outputs": [
    {
     "name": "stdout",
     "output_type": "stream",
     "text": [
      "3.141592653589793\n"
     ]
    }
   ],
   "source": [
    "print(math.pi) # variabile pi greco"
   ]
  },
  {
   "cell_type": "markdown",
   "id": "9365a554-01fc-4b2f-bce2-7d9052e818d5",
   "metadata": {},
   "source": [
    "**Esercizio**\n",
    "\n",
    "Proviamo a eseguire\n",
    "\n",
    "*math.degrees(math.pi)*\n",
    "\n",
    "Qual è e cosa significa il risultato? Per saperne di più su questa funzione possiamo usare \n",
    "\n",
    "*help(math.degrees)*"
   ]
  },
  {
   "cell_type": "code",
   "execution_count": 10,
   "id": "5d1414d7-3369-4df3-a2ac-e8920d844595",
   "metadata": {},
   "outputs": [
    {
     "data": {
      "text/plain": [
       "3.141592653589793"
      ]
     },
     "execution_count": 10,
     "metadata": {},
     "output_type": "execute_result"
    }
   ],
   "source": [
    "math.pi # pi greco"
   ]
  },
  {
   "cell_type": "code",
   "execution_count": 11,
   "id": "4cdf0522-38c7-4800-ad53-11a71f3e843a",
   "metadata": {},
   "outputs": [
    {
     "data": {
      "text/plain": [
       "180.0"
      ]
     },
     "execution_count": 11,
     "metadata": {},
     "output_type": "execute_result"
    }
   ],
   "source": [
    "math.degrees(math.pi) # il radiante del pi greco è un angolo piatto 180°"
   ]
  },
  {
   "cell_type": "code",
   "execution_count": 12,
   "id": "44bf06f3-4184-4a32-b192-9eda08cc6d48",
   "metadata": {},
   "outputs": [
    {
     "name": "stdout",
     "output_type": "stream",
     "text": [
      "Help on built-in function degrees in module math:\n",
      "\n",
      "degrees(x, /)\n",
      "    Convert angle x from radians to degrees.\n",
      "\n"
     ]
    }
   ],
   "source": [
    "help(math.degrees)"
   ]
  },
  {
   "cell_type": "markdown",
   "id": "c2e6c3dc-9d9b-449b-8a45-2b555a4737b3",
   "metadata": {},
   "source": [
    "**Esercizio**\n",
    "\n",
    "L'azienda Object SpA ha creato una lista di quanti oggetti ha venduto ogni mese nell'ultimo anno:\n",
    "\n",
    "*lst = [2000, 5500, 7200, 4320, 1280, 1900, 2500, 3900, 6410, 8150, 7100, 5350]*\n",
    "\n",
    "trasformiamola in un array NumPy (casting): \n",
    "\n",
    "*lst = np.array(lst)*\n",
    "\n",
    "e rispondiamo alle domande del CEO della Object SpA:\n",
    "* qual è stata la vendita massima mensile? E quella minima?\n",
    "* quali sono le vendite mensili maggiori di 4999 oggetti? E quante ne sono?\n",
    "* quali sono le vendite minori di 3000 oggetti?\n",
    "* in media quanti oggetti sono stati venduti al mese?"
   ]
  },
  {
   "cell_type": "code",
   "execution_count": 13,
   "id": "4be2da8a-a7fe-496a-ad91-78b954a052da",
   "metadata": {},
   "outputs": [],
   "source": [
    "lst = [2000, 5500, 7200, 4320, 1280, 1900, 2500, 3900, 6410, 8150, 7100, 5350]"
   ]
  },
  {
   "cell_type": "code",
   "execution_count": 14,
   "id": "e6f1432b-025d-41e7-a5dc-5fac8dda54c7",
   "metadata": {},
   "outputs": [
    {
     "name": "stdout",
     "output_type": "stream",
     "text": [
      "la vendita mensile massima è pari a: 8150 oggetti\n",
      "la vendita mensile minima è paria a: 1280 oggetti\n",
      "lista vendite mensile maggiori di 4999 oggetti: [5500, 7200, 6410, 8150, 7100, 5350]\n",
      "il conteggio delle vendite mensile maggiori di 4999 oggetti sono: 6\n",
      "lista vendite mensile minori di 3000 oggetti: [2000, 1280, 1900, 2500]\n",
      "Le vendite maggiori di 4999 sono: [5500 7200 6410 8150 7100 5350]\n",
      "Le vendite minori di 3000 sono: [2000 1280 1900 2500]\n",
      "la media delle vendite mensili: 4634.166666666667\n"
     ]
    }
   ],
   "source": [
    "lst=np.array(lst)\n",
    "print(\"la vendita mensile massima è pari a:\",lst.max(),'oggetti')\n",
    "print(\"la vendita mensile minima è paria a:\",lst.min(),'oggetti')\n",
    "# conteggio >4999\n",
    "conteggio=0\n",
    "list_4999=[]\n",
    "for i in lst:\n",
    "    if i>4999:\n",
    "        conteggio+=1\n",
    "        list_4999.append(i)\n",
    "print(\"lista vendite mensile maggiori di 4999 oggetti:\",list_4999)\n",
    "print(\"il conteggio delle vendite mensile maggiori di 4999 oggetti sono:\",conteggio)\n",
    "# conteggio <3000\n",
    "conteggio=0\n",
    "list_3000=[]\n",
    "for i in lst:\n",
    "    if i<3000:\n",
    "        conteggio+=1\n",
    "        list_3000.append(i)\n",
    "print(\"lista vendite mensile minori di 3000 oggetti:\",list_3000)\n",
    "\n",
    "# con i filtri\n",
    "filtro=lst>4999\n",
    "print(\"Le vendite maggiori di 4999 sono:\",lst[filtro])\n",
    "print(\"Le vendite minori di 3000 sono:\",lst[lst<3000])\n",
    "# la media\n",
    "print(\"la media delle vendite mensili:\",lst.mean())"
   ]
  },
  {
   "cell_type": "markdown",
   "id": "ca1769bb-ef62-4495-b91d-20daec480eaa",
   "metadata": {},
   "source": [
    "**Esercizio**\n",
    "\n",
    "Consideriamo il seguente dizionario: \n",
    "\n",
    "*fatturati_dict = {1997: 12_000, 1998: 15_000, 1999: 20_000, 2000: 23_000, 2001: 25_000, 2002: 17_000, 2003: 14_000, 2004: 21_000}*\n",
    "Consideriamo ora la seguente Series: \n",
    "\n",
    "*fatturati_series = pd.Series([12_000, 15_000, 20_000, 23_000, 25_000, 17_000, 14_000, 21_000], index=range(1997, 2005))* \n",
    "\n",
    "Possiamo accedere alle stesse informazioni nello stesso modo: \n",
    "\n",
    "*fatturati_dict[1997]* \n",
    "\n",
    "*fatturati_series[1997]* \n",
    "\n",
    "Dunque qual è la differenza tra i due tipi di dato?\n",
    "Cosa potremmo fare con la Series che non possiamo fare con il dizionario?"
   ]
  },
  {
   "cell_type": "code",
   "execution_count": 15,
   "id": "5da67543-dbba-47b1-a53b-a4cc6032b9be",
   "metadata": {},
   "outputs": [],
   "source": [
    "fatturati_dict = {1997: 12_000, 1998: 15_000, 1999: 20_000, 2000: 23_000, 2001: 25_000, 2002: 17_000, 2003: 14_000, 2004: 21_000}\n",
    "\n",
    "fatturati_series = pd.Series([12_000, 15_000, 20_000, 23_000, 25_000, 17_000, 14_000, 21_000], index=range(1997, 2005)) "
   ]
  },
  {
   "cell_type": "code",
   "execution_count": 16,
   "id": "d345573b-0717-4d85-840f-792166de27c1",
   "metadata": {},
   "outputs": [
    {
     "data": {
      "text/plain": [
       "{1997: 12000,\n",
       " 1998: 15000,\n",
       " 1999: 20000,\n",
       " 2000: 23000,\n",
       " 2001: 25000,\n",
       " 2002: 17000,\n",
       " 2003: 14000,\n",
       " 2004: 21000}"
      ]
     },
     "execution_count": 16,
     "metadata": {},
     "output_type": "execute_result"
    }
   ],
   "source": [
    "fatturati_dict"
   ]
  },
  {
   "cell_type": "code",
   "execution_count": 17,
   "id": "0babfca8-1885-4946-ad10-863cff153ddf",
   "metadata": {},
   "outputs": [
    {
     "data": {
      "text/plain": [
       "12000"
      ]
     },
     "execution_count": 17,
     "metadata": {},
     "output_type": "execute_result"
    }
   ],
   "source": [
    "fatturati_dict[1997]"
   ]
  },
  {
   "cell_type": "code",
   "execution_count": 18,
   "id": "13976207-964f-46ca-8795-38395e88a8d8",
   "metadata": {},
   "outputs": [
    {
     "data": {
      "text/plain": [
       "1997    12000\n",
       "1998    15000\n",
       "1999    20000\n",
       "2000    23000\n",
       "2001    25000\n",
       "2002    17000\n",
       "2003    14000\n",
       "2004    21000\n",
       "dtype: int64"
      ]
     },
     "execution_count": 18,
     "metadata": {},
     "output_type": "execute_result"
    }
   ],
   "source": [
    "fatturati_series"
   ]
  },
  {
   "cell_type": "code",
   "execution_count": 19,
   "id": "517e5e4a-24b2-4089-b1ab-8f23cf64d36f",
   "metadata": {},
   "outputs": [
    {
     "data": {
      "text/plain": [
       "12000"
      ]
     },
     "execution_count": 19,
     "metadata": {},
     "output_type": "execute_result"
    }
   ],
   "source": [
    "fatturati_series[1997]"
   ]
  },
  {
   "cell_type": "markdown",
   "id": "0bf2b1d8-9462-485c-8d9c-7870bb666948",
   "metadata": {},
   "source": [
    "La serie ha i dati organizzati in ordine quindi ci posso accedere con gli indici, estrazioni e tutte le funzioni annesse"
   ]
  },
  {
   "cell_type": "markdown",
   "id": "fa7ffa2e-da0b-4f9c-a96a-8d84a4d7fdef",
   "metadata": {},
   "source": [
    "**Esercizio**\n",
    "\n",
    "L'azienda Object SpA ha un dataset con tutti gli stipendi dei dipendenti, memorizzato in un ndarray: \n",
    "\n",
    "*import numpy as np stipendi = np.array( [100, 200, 300, 400, 500,  600, 700, 800, 900, 1000] )*\n",
    "\n",
    "L'azienda ci chiede di raddoppiare tutti gli stipendi; facciamolo in due modi: \n",
    "* con un ciclo for\n",
    "* con il masking"
   ]
  },
  {
   "cell_type": "code",
   "execution_count": 20,
   "id": "765175a8-09ef-4b06-a192-8313576d4df1",
   "metadata": {},
   "outputs": [],
   "source": [
    "stipendi = np.array( [100, 200, 300, 400, 500, 600, 700, 800, 900, 1000] )"
   ]
  },
  {
   "cell_type": "code",
   "execution_count": 21,
   "id": "e08dfc5d-6377-45fc-acf2-e7e37e6d4ee7",
   "metadata": {},
   "outputs": [
    {
     "name": "stdout",
     "output_type": "stream",
     "text": [
      "stipendi raddoppiati ciclo for [200, 400, 600, 800, 1000, 1200, 1400, 1600, 1800, 2000]\n",
      "stipendi raddoppiati masking [ 200  400  600  800 1000 1200 1400 1600 1800 2000]\n"
     ]
    }
   ],
   "source": [
    "stipenti_aumentati=[]\n",
    "for stipendio in stipendi:\n",
    "    stipenti_aumentati.append(stipendio*2)\n",
    "print(\"stipendi raddoppiati ciclo for\", stipenti_aumentati)\n",
    "print(\"stipendi raddoppiati masking\", stipendi*2)"
   ]
  },
  {
   "cell_type": "code",
   "execution_count": null,
   "id": "ef06bc6a-075d-4cc8-a410-fa429988718d",
   "metadata": {},
   "outputs": [],
   "source": []
  }
 ],
 "metadata": {
  "kernelspec": {
   "display_name": "Python 3 (ipykernel)",
   "language": "python",
   "name": "python3"
  },
  "language_info": {
   "codemirror_mode": {
    "name": "ipython",
    "version": 3
   },
   "file_extension": ".py",
   "mimetype": "text/x-python",
   "name": "python",
   "nbconvert_exporter": "python",
   "pygments_lexer": "ipython3",
   "version": "3.11.7"
  }
 },
 "nbformat": 4,
 "nbformat_minor": 5
}
