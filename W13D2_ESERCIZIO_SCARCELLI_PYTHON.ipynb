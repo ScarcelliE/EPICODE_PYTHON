{
 "cells": [
  {
   "cell_type": "markdown",
   "id": "a39bf6aa-5648-4eef-8835-c9dfd58969aa",
   "metadata": {},
   "source": [
    "**Esercizio** \n",
    "\n",
    "Abbiamo la stringa:\n",
    "* nome_scuola = \"Epicode\n",
    "\n",
    "Stampare ogni carattere della stringa, uno su ogni riga, utilizzando un costrutto while."
   ]
  },
  {
   "cell_type": "code",
   "execution_count": 1,
   "id": "228abc96-9326-4e8e-a32b-c4c602883828",
   "metadata": {},
   "outputs": [],
   "source": [
    "nome_scuola='Epicode'\n",
    "variabile=0"
   ]
  },
  {
   "cell_type": "code",
   "execution_count": 2,
   "id": "8e5bfd39-6fca-45dd-80a6-e712c3293d43",
   "metadata": {},
   "outputs": [
    {
     "name": "stdout",
     "output_type": "stream",
     "text": [
      "- E\n",
      "- p\n",
      "- i\n",
      "- c\n",
      "- o\n",
      "- d\n",
      "- e\n"
     ]
    }
   ],
   "source": [
    "while variabile<len(nome_scuola):\n",
    "    print('-',nome_scuola[variabile])\n",
    "    variabile+=1"
   ]
  },
  {
   "cell_type": "markdown",
   "id": "c3c17b6e-bb3c-4912-ba75-bfb815ef90fe",
   "metadata": {},
   "source": [
    "**Esercizio**\n",
    "\n",
    "Stampare a video tutti i numeri da 0 a 20 utilizzando il costrutto while. Utilizzeremo: \n",
    "* un ciclo while \n",
    "* la funzione print() \n",
    "* una variabile, che dovrà essere inizializzata \n",
    "* una procedura di incremento"
   ]
  },
  {
   "cell_type": "code",
   "execution_count": 3,
   "id": "7bd5cb62-29f6-4989-bfc7-51f7d543665c",
   "metadata": {},
   "outputs": [
    {
     "name": "stdout",
     "output_type": "stream",
     "text": [
      "0\n",
      "1\n",
      "2\n",
      "3\n",
      "4\n",
      "5\n",
      "6\n",
      "7\n",
      "8\n",
      "9\n",
      "10\n",
      "11\n",
      "12\n",
      "13\n",
      "14\n",
      "15\n",
      "16\n",
      "17\n",
      "18\n",
      "19\n",
      "20\n"
     ]
    }
   ],
   "source": [
    "variabile=0\n",
    "while variabile<=20:\n",
    "    print(variabile)\n",
    "    variabile+=1"
   ]
  },
  {
   "cell_type": "markdown",
   "id": "8d5b0c53-31fe-4cb2-9197-a0408889f982",
   "metadata": {},
   "source": [
    "**Esercizio**\n",
    "\n",
    "Calcolare e stampare tutte le prime 10 potenze di 2 (e.g., 2⁰, 2¹, 2², …) utilizzando un ciclo while."
   ]
  },
  {
   "cell_type": "code",
   "execution_count": 4,
   "id": "5c4ec0fb-1de8-47cc-8402-920354f8e03d",
   "metadata": {},
   "outputs": [
    {
     "name": "stdout",
     "output_type": "stream",
     "text": [
      "1\n",
      "2\n",
      "4\n",
      "8\n",
      "16\n",
      "32\n",
      "64\n",
      "128\n",
      "256\n",
      "512\n",
      "1024\n"
     ]
    }
   ],
   "source": [
    "potenza=0\n",
    "while potenza<=10:\n",
    "    variabile=2**potenza\n",
    "    print(variabile)\n",
    "    potenza+=1"
   ]
  },
  {
   "cell_type": "markdown",
   "id": "e0b3ebaf-d933-4111-8716-32b35f357e97",
   "metadata": {},
   "source": [
    "**Esercizio**\n",
    "\n",
    "Calcolare e stampare tutte le prime N potenze di 2 utilizzando un ciclo while, domandando all'utente di inserire N."
   ]
  },
  {
   "cell_type": "code",
   "execution_count": 5,
   "id": "f5513eb9-77f8-422d-817f-466fc6206d45",
   "metadata": {},
   "outputs": [
    {
     "name": "stdin",
     "output_type": "stream",
     "text": [
      "Inserisci il numero n a cui elevera a potenza 2: 10\n"
     ]
    }
   ],
   "source": [
    "n_potenza=int(input(\"Inserisci il numero n a cui elevera a potenza 2:\"))"
   ]
  },
  {
   "cell_type": "code",
   "execution_count": 6,
   "id": "dc7d08a5-87c1-4842-90fb-8ead23805676",
   "metadata": {},
   "outputs": [
    {
     "name": "stdout",
     "output_type": "stream",
     "text": [
      "1\n",
      "2\n",
      "4\n",
      "8\n",
      "16\n",
      "32\n",
      "64\n",
      "128\n",
      "256\n",
      "512\n",
      "1024\n"
     ]
    }
   ],
   "source": [
    "n_potenza\n",
    "potenza=0\n",
    "while potenza<=n_potenza:\n",
    "    variabile=2**potenza\n",
    "    print(variabile)\n",
    "    potenza+=1"
   ]
  },
  {
   "cell_type": "markdown",
   "id": "c74770b5-a773-4a14-916a-57234d452cfe",
   "metadata": {},
   "source": [
    "**Esercizio**\n",
    "\n",
    "Calcolare e stampare tutte le potenze di 2 minori di 25000."
   ]
  },
  {
   "cell_type": "code",
   "execution_count": 7,
   "id": "2b20396b-2655-47c3-9fad-98a0350293c2",
   "metadata": {},
   "outputs": [
    {
     "name": "stdout",
     "output_type": "stream",
     "text": [
      "2^ 0 = 1\n",
      "2^ 1 = 2\n",
      "2^ 2 = 4\n",
      "2^ 3 = 8\n",
      "2^ 4 = 16\n",
      "2^ 5 = 32\n",
      "2^ 6 = 64\n",
      "2^ 7 = 128\n",
      "2^ 8 = 256\n",
      "2^ 9 = 512\n",
      "2^ 10 = 1024\n",
      "2^ 11 = 2048\n",
      "2^ 12 = 4096\n",
      "2^ 13 = 8192\n",
      "2^ 14 = 16384\n"
     ]
    }
   ],
   "source": [
    "potenza=0\n",
    "variabile=2**potenza\n",
    "while variabile<=25000:\n",
    "    variabile=2**potenza\n",
    "    if variabile<=25000:\n",
    "        print('2^',potenza,'=',variabile)\n",
    "    potenza+=1"
   ]
  },
  {
   "cell_type": "markdown",
   "id": "ee25af4d-d961-4a27-bb39-31423e0cc5ab",
   "metadata": {},
   "source": [
    "**Esercizio (1/2)**\n",
    "\n",
    "Abbiamo due liste, una di studenti e una di corsi: \n",
    "* studenti = [\"Alex\", \"Bob\", \"Cindy\", \"Dan\", \"Emma\", \"Faith\", \"Grace\", \"Henry\"] \n",
    "* corsi = [\"Cybersecurity\", \"Data Analyst\", \"Backend\", \"Frontend\", \"Data Analyst\", \"Backend\"]"
   ]
  },
  {
   "cell_type": "code",
   "execution_count": 8,
   "id": "0e58b27c-ec1b-4291-9011-4c16800c299e",
   "metadata": {},
   "outputs": [],
   "source": [
    "studenti = [\"Alex\", \"Bob\", \"Cindy\", \"Dan\", \"Emma\", \"Faith\", \"Grace\", \"Henry\"]"
   ]
  },
  {
   "cell_type": "code",
   "execution_count": 9,
   "id": "ad303dcd-d1ee-4a85-87f0-c3e7f0de8de7",
   "metadata": {},
   "outputs": [],
   "source": [
    "corsi = [\"Cybersecurity\", \"Data Analyst\", \"Backend\", \"Frontend\", \"Data Analyst\", \"Backend\"]"
   ]
  },
  {
   "cell_type": "markdown",
   "id": "cef3286c-4c46-4bc3-afb9-93533cf64a2a",
   "metadata": {},
   "source": [
    "**Esercizio (2/2)**\n",
    "\n",
    "Aggiungere i dati mancanti alla lista corsi, sapendo che \n",
    "* Emma segue Data Analyst\n",
    "* Faith segue Backend\n",
    "* Grace segue Frontend\n",
    "* Henry segue Cybersecurity\n",
    "\n",
    "Aggiungeremo i dati mancanti uno alla volta con il metodo per appendere in coda alle liste, poi verificheremo che sono della stessa lunghezza e se lo sono stamperemo la lista corsi. Se alcuni dati sono già presenti non vanno aggiunti di nuovo."
   ]
  },
  {
   "cell_type": "code",
   "execution_count": 10,
   "id": "707fbd0d-3f53-402e-ac33-5a545e0eeaf3",
   "metadata": {},
   "outputs": [
    {
     "data": {
      "text/plain": [
       "['Cybersecurity',\n",
       " 'Data Analyst',\n",
       " 'Backend',\n",
       " 'Frontend',\n",
       " 'Data Analyst',\n",
       " 'Backend',\n",
       " 'Frontend',\n",
       " 'Cybersecurity']"
      ]
     },
     "execution_count": 10,
     "metadata": {},
     "output_type": "execute_result"
    }
   ],
   "source": [
    "corsi.append(\"Frontend\")\n",
    "corsi.append(\"Cybersecurity\")\n",
    "corsi"
   ]
  },
  {
   "cell_type": "code",
   "execution_count": 11,
   "id": "71a96121-cbb2-4235-91fe-702488d670dc",
   "metadata": {},
   "outputs": [
    {
     "name": "stdout",
     "output_type": "stream",
     "text": [
      "{'Data Analyst', 'Cybersecurity', 'Backend', 'Frontend'}\n"
     ]
    }
   ],
   "source": [
    "if len(studenti)==len(corsi):\n",
    "    print(set(corsi))  # casto la lista in set per avere elementi univoci"
   ]
  },
  {
   "cell_type": "markdown",
   "id": "34e54cdb-8e75-4c46-a0e9-f5bb07279ec9",
   "metadata": {},
   "source": [
    "**Esercizio**\n",
    "\n",
    "Scriviamo un programma che chiede in input all'utente una stringa e visualizza i primi 3 caratteri, seguiti da 3 punti di sospensione e quindi gli ultimi 3 caratteri, similmente all'esercizio della lezione scorsa. Stavolta facciamo attenzione a tutti i casi particolari, ovvero implementare soluzioni ad hoc per stringhe di lunghezza inferiore a 6 caratteri."
   ]
  },
  {
   "cell_type": "markdown",
   "id": "12913127-6f15-4c64-a2ea-2bd61d536d68",
   "metadata": {},
   "source": [
    "Inserire un stringa"
   ]
  },
  {
   "cell_type": "code",
   "execution_count": 12,
   "id": "72abcec0-69ed-4411-bdbe-6bc68c25e8bc",
   "metadata": {},
   "outputs": [
    {
     "name": "stdin",
     "output_type": "stream",
     "text": [
      "Inserisci una stringa: W13D2_ESERCIZIO_SCARCELLI_PYTHON.ipynb\n"
     ]
    }
   ],
   "source": [
    "str_=input(\"Inserisci una stringa:\")"
   ]
  },
  {
   "cell_type": "code",
   "execution_count": 13,
   "id": "def4857e-1a8b-48ba-b127-d5444b66a1e2",
   "metadata": {},
   "outputs": [
    {
     "name": "stdout",
     "output_type": "stream",
     "text": [
      "W13 ... ynb\n"
     ]
    }
   ],
   "source": [
    "if len(str_)<6:\n",
    "    print(str_[0:3],'...')\n",
    "else:\n",
    "    print(str_[0:3],'...',str_[-3::])"
   ]
  },
  {
   "cell_type": "markdown",
   "id": "0da2950d-a525-400b-8f91-690ca58abc20",
   "metadata": {},
   "source": [
    "**Esercizio**\n",
    "\n",
    "Memorizza e stampa tutti i fattori di un numero dato in input. Esempio: \n",
    "* input: 150\n",
    "* output: [2, 3, 5, 5]"
   ]
  },
  {
   "cell_type": "code",
   "execution_count": 14,
   "id": "58feeb18-1116-4ae0-a56d-c985b8179ef9",
   "metadata": {},
   "outputs": [
    {
     "name": "stdin",
     "output_type": "stream",
     "text": [
      "Inserisci un numero: 150\n"
     ]
    },
    {
     "name": "stdout",
     "output_type": "stream",
     "text": [
      "numero: 150 divisore: 2\n",
      "numero: 75 divisore: 3\n",
      "numero: 25 divisore: 5\n",
      "numero: 5 divisore: 5\n",
      "[2, 3, 5, 5]\n"
     ]
    }
   ],
   "source": [
    "numero=int(input('Inserisci un numero:'))\n",
    "fattori=[]\n",
    "div=2\n",
    "while div<=numero:\n",
    "    if numero%div==0:\n",
    "        print(\"numero:\",numero,\"divisore:\",div)\n",
    "        numero//=div\n",
    "        fattori.append(div)\n",
    "        while numero%div==0:\n",
    "            print(\"numero:\",numero,\"divisore:\",div)\n",
    "            numero//=div\n",
    "            fattori.append(div)        \n",
    "    div+=1\n",
    "print(fattori)"
   ]
  },
  {
   "cell_type": "markdown",
   "id": "8ecc85ed-aa53-4852-86a0-83b741f3a3ed",
   "metadata": {},
   "source": [
    "**Esercizio**\n",
    "\n",
    "Abbiamo la stringa: nome_scuola = \"Epicode\" Stampare ogni carattere della stringa, uno su ogni riga, utilizzando un costrutto for."
   ]
  },
  {
   "cell_type": "code",
   "execution_count": 15,
   "id": "f940e56b-e41f-4412-b4b3-387820a925e8",
   "metadata": {},
   "outputs": [],
   "source": [
    "nome_scuola=\"Epicode\""
   ]
  },
  {
   "cell_type": "code",
   "execution_count": 16,
   "id": "82612648-03e2-4fd3-98f7-dbb14b33e23b",
   "metadata": {},
   "outputs": [
    {
     "name": "stdout",
     "output_type": "stream",
     "text": [
      "- E\n",
      "- p\n",
      "- i\n",
      "- c\n",
      "- o\n",
      "- d\n",
      "- e\n"
     ]
    }
   ],
   "source": [
    "for i in nome_scuola:\n",
    "    print(\"-\",i)"
   ]
  },
  {
   "cell_type": "markdown",
   "id": "8cec780c-7a2e-4de4-893d-ee3f9e739b50",
   "metadata": {},
   "source": [
    "**Esercizio**\n",
    "\n",
    "Calcolare e stampare tutte le prime 10 potenze di 2 utilizzando un ciclo. Utilizzeremo: \n",
    "* un ciclo per generare i primi 10 numeri, e.g.:\n",
    "  \n",
    "*range_numerico = list()  # init \n",
    "\n",
    "num = 1  # init\n",
    "\n",
    "while num <= 10: \n",
    "\n",
    "range_numerico.append(num) \n",
    "\n",
    "num += 1*"
   ]
  },
  {
   "cell_type": "code",
   "execution_count": 17,
   "id": "46ebb41f-3cd3-4e84-829e-788ec5a22a7c",
   "metadata": {},
   "outputs": [
    {
     "name": "stdout",
     "output_type": "stream",
     "text": [
      "[1, 2, 3, 4, 5, 6, 7, 8, 9, 10]\n"
     ]
    }
   ],
   "source": [
    "range_numerico = list()   \n",
    "num = 1 \n",
    "while num <= 10:\n",
    "    range_numerico.append(num) \n",
    "    num += 1\n",
    "print(range_numerico)"
   ]
  },
  {
   "cell_type": "code",
   "execution_count": 18,
   "id": "6fa0e141-a092-4125-ae6b-241f8bba8fb6",
   "metadata": {},
   "outputs": [
    {
     "name": "stdout",
     "output_type": "stream",
     "text": [
      "2^ 1 = 2\n",
      "2^ 2 = 4\n",
      "2^ 3 = 8\n",
      "2^ 4 = 16\n",
      "2^ 5 = 32\n",
      "2^ 6 = 64\n",
      "2^ 7 = 128\n",
      "2^ 8 = 256\n",
      "2^ 9 = 512\n",
      "2^ 10 = 1024\n"
     ]
    }
   ],
   "source": [
    "for i in range_numerico:\n",
    "    potenza=2**i\n",
    "    print(\"2^\",i,\"=\",potenza)"
   ]
  },
  {
   "cell_type": "markdown",
   "id": "c8522eca-b71a-4078-9351-05f10c825cd8",
   "metadata": {},
   "source": [
    "**Esercizio**\n",
    "\n",
    "Calcolare (ma non stampare) le prime N potenze di K; ognuna di esse andrà memorizzata in coda a una lista. \n",
    "\n",
    "Alla fine, stampare la lista risultante. Proviamo con diversi valori di K, oppure facciamola inserire all'utente. \n",
    "\n",
    "Realizzare due versioni: \n",
    "*con un ciclo while,\n",
    "*con un ciclo for."
   ]
  },
  {
   "cell_type": "code",
   "execution_count": 19,
   "id": "f59f6514-8fcf-4f33-af8c-843e3479f810",
   "metadata": {},
   "outputs": [
    {
     "name": "stdin",
     "output_type": "stream",
     "text": [
      "Inserisci il valore k: 4\n",
      "Inserisci le n potenze di k: 4\n"
     ]
    }
   ],
   "source": [
    "variabile_K=int(input(\"Inserisci il valore k:\"))\n",
    "potenza=int(input(\"Inserisci le n potenze di k:\"))"
   ]
  },
  {
   "cell_type": "markdown",
   "id": "3400b460-e89d-4b5d-95b9-f1365a8c3aa4",
   "metadata": {},
   "source": [
    "**versione ciclo while**"
   ]
  },
  {
   "cell_type": "code",
   "execution_count": 20,
   "id": "604d52eb-a9a0-47d5-b982-5ac6ec02b1dd",
   "metadata": {},
   "outputs": [
    {
     "name": "stdout",
     "output_type": "stream",
     "text": [
      "valori potenze di 4 alla n: [1, 4, 16, 64, 256]\n"
     ]
    }
   ],
   "source": [
    "potenza_b=0\n",
    "valori_potenze=[]\n",
    "while potenza_b<=potenza:\n",
    "    valori_potenze.append(variabile_K**potenza_b)\n",
    "    potenza_b+=1\n",
    "print(\"valori potenze di\",variabile_K,\"alla n:\",valori_potenze)\n"
   ]
  },
  {
   "cell_type": "markdown",
   "id": "93a8fa9b-7889-435f-b353-71966fcb95d9",
   "metadata": {},
   "source": [
    "**versione ciclo for**"
   ]
  },
  {
   "cell_type": "code",
   "execution_count": 21,
   "id": "7c9a410a-9217-4170-8070-7720be29b633",
   "metadata": {},
   "outputs": [
    {
     "name": "stdout",
     "output_type": "stream",
     "text": [
      "lista potenze [0, 1, 2, 3, 4]\n",
      "valori potenze di 4 alla n: [1, 4, 16, 64, 256]\n"
     ]
    }
   ],
   "source": [
    "lista_potenza=[]\n",
    "valori_potenze_b=[]\n",
    "potenza_c=0\n",
    "while potenza_c <= potenza:\n",
    "    lista_potenza.append(potenza_c)\n",
    "    potenza_c+=1\n",
    "for i in lista_potenza:\n",
    "    valori_potenze_b.append(variabile_K**i)\n",
    "print(\"lista potenze\",lista_potenza)\n",
    "print(\"valori potenze di\",variabile_K,\"alla n:\",valori_potenze_b)\n"
   ]
  },
  {
   "cell_type": "markdown",
   "id": "fd3d0168-18dc-453b-9736-df40c991b069",
   "metadata": {},
   "source": [
    "**Esercizio**\n",
    "\n",
    "Abbiamo una lista con i guadagni degli ultimi 12 mesi: \n",
    "* guadagni = [100, 90, 70, 40, 50, 80, 90, 120, 80, 20, 50, 50]\n",
    "\n",
    "usando un costrutto for, calcolare la media dei guadagni e stamparla a video."
   ]
  },
  {
   "cell_type": "code",
   "execution_count": 22,
   "id": "fdbe41da-ad91-45bb-b4fb-009ff7a903b3",
   "metadata": {},
   "outputs": [],
   "source": [
    "guadagni = [100, 90, 70, 40, 50, 80, 90, 120, 80, 20, 50, 50]"
   ]
  },
  {
   "cell_type": "code",
   "execution_count": 23,
   "id": "eedbd187-ac38-4172-8043-691e7ec7292f",
   "metadata": {},
   "outputs": [
    {
     "name": "stdout",
     "output_type": "stream",
     "text": [
      "media guadagni 70.0\n"
     ]
    }
   ],
   "source": [
    "somma_guadagni=0\n",
    "for i in guadagni:\n",
    "    somma_guadagni+= i\n",
    "print(\"media guadagni\",somma_guadagni/len(guadagni))"
   ]
  },
  {
   "cell_type": "code",
   "execution_count": 24,
   "id": "c10ff13d-067a-433d-b1ad-b321b2872eee",
   "metadata": {},
   "outputs": [
    {
     "name": "stdout",
     "output_type": "stream",
     "text": [
      "media guadagni = 70.0\n"
     ]
    }
   ],
   "source": [
    "print(\"media guadagni =\",sum(guadagni)/len(guadagni))"
   ]
  },
  {
   "cell_type": "markdown",
   "id": "eeebe1b1-8193-4b4d-9853-382d48c0d0fc",
   "metadata": {},
   "source": [
    "**Esercizio**\n",
    "\n",
    "Abbiamo una lista di parole:\n",
    "* parole = [\"Albergo\", \"Sedia\", \"Borgo\", \"Petalo\", \"Eremo\", \"Belvedere\", \"Semestre\", \"Esteta\", \"Sosta\", \"Orpello\", \"Abete\", \"Orologio\", \"Cesta\", \"Ermellino\"]\n",
    "\n",
    "stampiamo, per ogni parola, quante volte appare la lettera \"e\"; facciamo attenzione al fatto che appare sia maiuscola che minuscola."
   ]
  },
  {
   "cell_type": "code",
   "execution_count": 25,
   "id": "51ed81e6-1bc4-4e07-a4e8-79534a605e2f",
   "metadata": {},
   "outputs": [],
   "source": [
    "parole = [\"Albergo\", \"Sedia\", \"Borgo\", \"Petalo\", \"Eremo\", \"Belvedere\", \"Semestre\", \"Esteta\", \"Sosta\", \"Orpello\", \"Abete\", \"Orologio\", \"Cesta\", \"Ermellino\"]"
   ]
  },
  {
   "cell_type": "code",
   "execution_count": 26,
   "id": "d948933e-be68-474f-8d9a-2ad5d6cbf8d2",
   "metadata": {},
   "outputs": [
    {
     "name": "stdout",
     "output_type": "stream",
     "text": [
      "Albergo , contine: 1 lettere e\n",
      "Sedia , contine: 1 lettere e\n",
      "Borgo , contine: 0 lettere e\n",
      "Petalo , contine: 1 lettere e\n",
      "Eremo , contine: 2 lettere e\n",
      "Belvedere , contine: 4 lettere e\n",
      "Semestre , contine: 3 lettere e\n",
      "Esteta , contine: 2 lettere e\n",
      "Sosta , contine: 0 lettere e\n",
      "Orpello , contine: 1 lettere e\n",
      "Abete , contine: 2 lettere e\n",
      "Orologio , contine: 0 lettere e\n",
      "Cesta , contine: 1 lettere e\n",
      "Ermellino , contine: 2 lettere e\n"
     ]
    }
   ],
   "source": [
    "for i in parole:\n",
    "    print(i,\", contine:\",i.lower().count(\"e\"),\"lettere e\")"
   ]
  },
  {
   "cell_type": "markdown",
   "id": "3e4d6fb8-9368-4e9a-a1b3-cfb7da47215b",
   "metadata": {},
   "source": [
    "**Esercizio** \n",
    "\n",
    "Creiamo un dizionario che assegni ad ogni proprietario la sua auto, sapendo che: \n",
    "* Ada guida una Punto\n",
    "* Ben guida una Multipla\n",
    "* Charlie guida una Golf\n",
    "* Debbie guida una 107\n",
    "\n",
    "Stampiamo il dizionario per intero, e poi l'auto associata a Debbie."
   ]
  },
  {
   "cell_type": "code",
   "execution_count": 27,
   "id": "5897ad07-95d5-41ea-8a3b-42eefee62f61",
   "metadata": {},
   "outputs": [],
   "source": [
    "auto={'ada':'punto','ben':'multipla','charlie':'golf','debbie':'107'}"
   ]
  },
  {
   "cell_type": "code",
   "execution_count": 28,
   "id": "7e02b31b-3575-4c30-be36-839a3e384907",
   "metadata": {},
   "outputs": [
    {
     "data": {
      "text/plain": [
       "{'ada': 'punto', 'ben': 'multipla', 'charlie': 'golf', 'debbie': '107'}"
      ]
     },
     "execution_count": 28,
     "metadata": {},
     "output_type": "execute_result"
    }
   ],
   "source": [
    "auto"
   ]
  },
  {
   "cell_type": "code",
   "execution_count": 29,
   "id": "59573e0c-cdb5-4e79-88ed-6c53471e649b",
   "metadata": {},
   "outputs": [
    {
     "name": "stdout",
     "output_type": "stream",
     "text": [
      "auto associata a debbie è: 107\n"
     ]
    }
   ],
   "source": [
    "print(\"auto associata a debbie è:\",auto.get('debbie'))"
   ]
  },
  {
   "cell_type": "markdown",
   "id": "4de4e5d4-a077-4637-85c2-446bba0a3852",
   "metadata": {},
   "source": [
    "**Esercizio**\n",
    "\n",
    "Abbiamo un dizionario che assegna ad ogni proprietario la sua auto: \n",
    "* dizionario_auto = {\"Ada\": \"Punto\", \"Ben\": \"Multipla\", \"Charlie\": \"Golf\", \"Debbie\": \"107\"}\n",
    "\n",
    "Con un ciclo, e usando il metodo .values(), stampiamo a video tutte le auto che non sono una Multipla."
   ]
  },
  {
   "cell_type": "code",
   "execution_count": 30,
   "id": "6e89bc9d-9ac9-4e45-a1f4-7249b958b773",
   "metadata": {},
   "outputs": [],
   "source": [
    "dizionario_auto = {\"Ada\": \"Punto\", \"Ben\": \"Multipla\", \"Charlie\": \"Golf\", \"Debbie\": \"107\"}"
   ]
  },
  {
   "cell_type": "code",
   "execution_count": 31,
   "id": "ae5058fa-4ade-4231-bffd-896060458fd4",
   "metadata": {},
   "outputs": [
    {
     "name": "stdout",
     "output_type": "stream",
     "text": [
      "Punto\n",
      "Golf\n",
      "107\n"
     ]
    }
   ],
   "source": [
    "for i in dizionario_auto.values():\n",
    "    if i !='Multipla':\n",
    "        print(i)"
   ]
  },
  {
   "cell_type": "markdown",
   "id": "f0e02e21-9133-436a-b41c-5e07c2ff3843",
   "metadata": {},
   "source": [
    "**Esercizio**\n",
    "\n",
    "Abbiamo due dizionari che assegnano ad ogni proprietario la propria auto: \n",
    "* dizionario_auto = {\"Ada\": \"Punto\", \"Ben\": \"Multipla\", \"Charlie\": \"Golf\", \"Debbie\": \"107\", \"Emily\": \"A1\"}\n",
    "* nuovi_proprietari = {\"Ben\": \"Polo\", \"Fred\": \"Octavia\", \"Grace\": \"Yaris\", \"Hugh\": \"Clio\"}\n",
    "\n",
    "Aggiornare il dizionario dizionario_auto con i dati contenuti in nuovi_proprietari e stamparlo. Cosa è successo a Ben?"
   ]
  },
  {
   "cell_type": "code",
   "execution_count": 32,
   "id": "6d87473e-7ca1-46f8-b6f7-3b28fe053685",
   "metadata": {},
   "outputs": [],
   "source": [
    "dizionario_auto = {\"Ada\": \"Punto\", \"Ben\": \"Multipla\", \"Charlie\": \"Golf\", \"Debbie\": \"107\", \"Emily\": \"A1\"}\n",
    "nuovi_proprietari = {\"Ben\": \"Polo\", \"Fred\": \"Octavia\", \"Grace\": \"Yaris\", \"Hugh\": \"Clio\"}"
   ]
  },
  {
   "cell_type": "code",
   "execution_count": 33,
   "id": "dff46c06-afb4-4304-b2c9-fad0d022d601",
   "metadata": {},
   "outputs": [],
   "source": [
    "dizionario_auto.update(nuovi_proprietari)"
   ]
  },
  {
   "cell_type": "code",
   "execution_count": 34,
   "id": "9df0ae19-a077-4aba-a64c-681f4767a9ae",
   "metadata": {},
   "outputs": [
    {
     "name": "stdout",
     "output_type": "stream",
     "text": [
      "{'Ada': 'Punto', 'Ben': 'Polo', 'Charlie': 'Golf', 'Debbie': '107', 'Emily': 'A1', 'Fred': 'Octavia', 'Grace': 'Yaris', 'Hugh': 'Clio'}\n",
      "Ben attualmente possiede una Polo , la sua auto precedente era Multipla\n"
     ]
    }
   ],
   "source": [
    "print(dizionario_auto)\n",
    "print(\"Ben attualmente possiede una\",dizionario_auto.get(\"Ben\"),\", la sua auto precedente era Multipla\")"
   ]
  },
  {
   "cell_type": "markdown",
   "id": "5eccea04-1e2c-45ce-8e4a-b5356da2f683",
   "metadata": {},
   "source": [
    "**Esercizio**\n",
    "\n",
    "Osservando la sintassi dei dizionari, possiamo notare qualche affinità con il formato JSON?"
   ]
  },
  {
   "cell_type": "markdown",
   "id": "fe5596f4-f23a-4380-acad-bf79d6d2501d",
   "metadata": {},
   "source": [
    "I file JSON sono degli enormi dizionari"
   ]
  },
  {
   "cell_type": "markdown",
   "id": "cd524ae7-02dd-4c3f-af56-81e560996936",
   "metadata": {},
   "source": [
    "**Esercizio**\n",
    "\n",
    "Scrivere un programma che, data una lista di numeri, fornisca in output il minimo e il massimo (possiamo usare o meno le funzioni built-in min() e max())."
   ]
  },
  {
   "cell_type": "code",
   "execution_count": 35,
   "id": "289db0b3-e322-45f7-b391-0f709b5dd3e9",
   "metadata": {},
   "outputs": [
    {
     "name": "stdout",
     "output_type": "stream",
     "text": [
      "il minimo della lista è il numero: 1\n",
      "il massimo della lista è il numero: 281\n"
     ]
    }
   ],
   "source": [
    "numero_min=1\n",
    "numero_max=281\n",
    "lista_numeri=[]\n",
    "while numero_min<=numero_max:\n",
    "    lista_numeri.append(numero_min)\n",
    "    numero_min+=1\n",
    "print('il minimo della lista è il numero:',min(lista_numeri))\n",
    "print('il massimo della lista è il numero:',max(lista_numeri))"
   ]
  },
  {
   "cell_type": "markdown",
   "id": "2a6890b5-8eaf-41f8-8655-44b160048d13",
   "metadata": {},
   "source": [
    "**Esercizio**\n",
    "\n",
    "Scrivere un programma che, data una lista di numeri, fornisca in output i tre numeri più grandi; gestire il caso in cui la lista sia più corta di tre, e quando uno o più dei numeri selezionati sono uguali."
   ]
  },
  {
   "cell_type": "code",
   "execution_count": 36,
   "id": "9fd70142-ac7b-43a3-bfaa-df48c4c00272",
   "metadata": {},
   "outputs": [
    {
     "name": "stdout",
     "output_type": "stream",
     "text": [
      "i tre numeri grandi [279, 280, 281]\n"
     ]
    }
   ],
   "source": [
    "numero_min=1\n",
    "numero_max=281\n",
    "lista_numeri=[]\n",
    "while numero_min<=numero_max:\n",
    "    lista_numeri.append(numero_min)\n",
    "    numero_min+=1\n",
    "if len(lista_numeri)>=3:\n",
    "    print(\"i tre numeri grandi\",lista_numeri[-3:])\n",
    "else:\n",
    "    print(\"i numeri più grandi\",lista_numeri[-3:])\n",
    "# i numeri non possono essere uguali perchè sono creati progressivamente"
   ]
  },
  {
   "cell_type": "markdown",
   "id": "7307e378-98d6-4ed3-b135-e4b974ff5c8f",
   "metadata": {},
   "source": [
    "**Esercizio** \n",
    "\n",
    "Scrivere un programma che in input acquisisce una lista di numeri e un numero K, in output, dovrà restituire la media di tutti i numeri nella lista maggiori o uguali a K, se non ce ne dovesse essere nessuno, dovrà stampare a schermo un messaggio adeguato."
   ]
  },
  {
   "cell_type": "code",
   "execution_count": 37,
   "id": "1654d817-5fe4-40b6-9096-fa4c1725699e",
   "metadata": {},
   "outputs": [
    {
     "name": "stdin",
     "output_type": "stream",
     "text": [
      "inserisci lunghezza lista 5\n"
     ]
    }
   ],
   "source": [
    "list=[]\n",
    "l_list=int(input(\"inserisci lunghezza lista\"))"
   ]
  },
  {
   "cell_type": "code",
   "execution_count": 38,
   "id": "eb2e9ddd-96bd-45a0-942a-ee2b3d502574",
   "metadata": {},
   "outputs": [
    {
     "name": "stdin",
     "output_type": "stream",
     "text": [
      "inserisci la variabile k 3\n",
      "inserisci un numero nella lista: 1\n",
      "inserisci un numero nella lista: 3\n",
      "inserisci un numero nella lista: 5\n",
      "inserisci un numero nella lista: 7\n",
      "inserisci un numero nella lista: 9\n"
     ]
    },
    {
     "name": "stdout",
     "output_type": "stream",
     "text": [
      "media numeri maggiori di k 6.0\n"
     ]
    }
   ],
   "source": [
    "numero_k=int(input(\"inserisci la variabile k\"))\n",
    "i=0\n",
    "while i<l_list:\n",
    "    list.append(int(input(\"inserisci un numero nella lista:\")))\n",
    "    i+=1\n",
    "numeri_somma=0\n",
    "contatore=0\n",
    "for i in list:\n",
    "    if i>=numero_k:\n",
    "        numeri_somma+=i\n",
    "        contatore+=1\n",
    "if numeri_somma==0:\n",
    "    print(\"nessun numero è maggiore di k=\",numero_k)\n",
    "else: print(\"media numeri maggiori di k\",numeri_somma/contatore)\n",
    "\n"
   ]
  },
  {
   "cell_type": "code",
   "execution_count": 39,
   "id": "ee4638c8-9156-4dd6-bedb-d0773889b7d7",
   "metadata": {},
   "outputs": [
    {
     "data": {
      "text/plain": [
       "[1, 3, 5, 7, 9]"
      ]
     },
     "execution_count": 39,
     "metadata": {},
     "output_type": "execute_result"
    }
   ],
   "source": [
    "list"
   ]
  },
  {
   "cell_type": "markdown",
   "id": "7f268b39-decd-442f-b84d-2f4aaf1fe71d",
   "metadata": {},
   "source": [
    "**Esercizio**\n",
    "\n",
    "Scrivere un programma che, data una lista di numeri, come output stamperà lo stesso numero di asterischi su righe diverse, ottenendo una semplice visualizzazione grafica Esempio, supponendo di avere il seguente input: \n",
    "\n",
    "*numeri = [5, 2, 3, 4]*\n",
    "\n",
    "L'output sarà: ***** ** *** ****"
   ]
  },
  {
   "cell_type": "code",
   "execution_count": 40,
   "id": "ca96d8c6-17cc-4fe6-8091-8371453870ca",
   "metadata": {},
   "outputs": [],
   "source": [
    "numeri=[5,2,3,4]"
   ]
  },
  {
   "cell_type": "code",
   "execution_count": 41,
   "id": "096359b2-edb8-4c91-b2c0-17655bebc8aa",
   "metadata": {},
   "outputs": [
    {
     "name": "stdout",
     "output_type": "stream",
     "text": [
      "*****\n",
      "**\n",
      "***\n",
      "****\n"
     ]
    }
   ],
   "source": [
    "for i in numeri:\n",
    "     print('*'*i)"
   ]
  },
  {
   "cell_type": "markdown",
   "id": "1bf77e9f-2223-4e58-9520-c998cbf88ed3",
   "metadata": {},
   "source": [
    "**Esercizio**\n",
    "\n",
    "Abbiamo una lista di codici fiscali:\n",
    "*lista_cf = [\"ABCDEF95G01A123B\", \"GHIJKL91M02A321C\", \"MNOPQR89S03A456D\", \"STUVWX95Z04A654E\", \"XYZABC01D05A789F\", \"DEFGHI95J06A987G\"] \n",
    "\n",
    "trovare i codici fiscali che contengono \"95\", metterli in una lista, e alla fine stamparla; inoltre, per ognuno di essi, stampare a video i caratteri relativi al nome e quelli relativi al cognome."
   ]
  },
  {
   "cell_type": "code",
   "execution_count": 42,
   "id": "6f9bdee7-106a-43e0-bbbc-64d5b243f1f6",
   "metadata": {},
   "outputs": [],
   "source": [
    "lista_cf = [\"ABCDEF95G01A123B\", \"GHIJKL91M02A321C\", \"MNOPQR89S03A456D\", \"STUVWX95Z04A654E\", \"XYZABC01D05A789F\", \"DEFGHI95J06A987G\"]"
   ]
  },
  {
   "cell_type": "code",
   "execution_count": 43,
   "id": "29cf34a2-22b1-47a1-91c6-fa0cb913138d",
   "metadata": {},
   "outputs": [
    {
     "name": "stdout",
     "output_type": "stream",
     "text": [
      "nome: DEF cognome: ABC del cf: ABCDEF95G01A123B\n",
      "nome: VWX cognome: STU del cf: STUVWX95Z04A654E\n",
      "nome: GHI cognome: DEF del cf: DEFGHI95J06A987G\n",
      "['ABCDEF95G01A123B', 'STUVWX95Z04A654E', 'DEFGHI95J06A987G']\n"
     ]
    }
   ],
   "source": [
    "lista_cf_95=[]\n",
    "for i in lista_cf:\n",
    "    if \"95\" in i:\n",
    "        lista_cf_95.append(i)\n",
    "        print('nome:',i[3:6],'cognome:',i[0:3],'del cf:',i)\n",
    "print(lista_cf_95)"
   ]
  },
  {
   "cell_type": "markdown",
   "id": "e30f5353-766c-44d4-ab74-484bb32ca7ff",
   "metadata": {},
   "source": [
    "**Esercizio**\n",
    "\n",
    "Abbiamo tre liste della stessa lunghezza, dove ogni elemento nella medesima posizione si riferisce ai dati dello stesso studente: \n",
    "* studenti = [\"Alex\", \"Bob\", \"Cindy\", \"Dan\", \"Emma\", \"Faith\", \"Grace\", \"Henry\"]\n",
    "* corsi = [\"Cybersecurity\", \"Data Analyst\", \"Backend\", \"Frontend\", \"Data Analyst\", \"Backend\", \"Frontend\", \"Cybersecurity\"]\n",
    "* edizioni = [1, 2, 3, 2, 2, 1, 3, 3] \n",
    "\n",
    "Stampare a video tutti e soli gli studenti che frequentano una prima edizione; non tutti i dati potrebbero essere necessari. Riuscite a vedere una similarità con la logica che si usa in SQL e le tabelle relazionali?"
   ]
  },
  {
   "cell_type": "code",
   "execution_count": 44,
   "id": "c86b8828-7a83-48fd-9bf8-169bf8cf9e11",
   "metadata": {},
   "outputs": [
    {
     "name": "stdout",
     "output_type": "stream",
     "text": [
      "Studente che partecipa a prima edizione: Alex\n",
      "Studente che partecipa a prima edizione: Faith\n"
     ]
    }
   ],
   "source": [
    "studenti = [\"Alex\", \"Bob\", \"Cindy\", \"Dan\", \"Emma\", \"Faith\", \"Grace\", \"Henry\"]\n",
    "corsi = [\"Cybersecurity\", \"Data Analyst\", \"Backend\", \"Frontend\", \"Data Analyst\", \"Backend\", \"Frontend\", \"Cybersecurity\"]\n",
    "edizioni = [1, 2, 3, 2, 2, 1, 3, 3]\n",
    "\n",
    "indice=0\n",
    "for i in edizioni:\n",
    "    if i==1:\n",
    "        print(\"Studente che partecipa a prima edizione:\", studenti[indice])\n",
    "    indice+=1     "
   ]
  },
  {
   "cell_type": "markdown",
   "id": "950cface-dd3b-48f9-aaed-fdf08ccd71a1",
   "metadata": {},
   "source": [
    "**Esercizio**\n",
    "\n",
    "Abbiamo una lista di stringhe di prezzi in dollari, che erroneamente sono stati scritti con il simbolo dell'euro: \n",
    "* prezzi = [\"100 €\", \"200 €\", \"500 €\", \"10 €\", \"50 €\", \"70 €\"] \n",
    "\n",
    "cambiare il simbolo dell'euro (€) in quello del dollaro ($) per ogni stringa nella lista; il risultato sarà memorizzato in un'altra lista."
   ]
  },
  {
   "cell_type": "code",
   "execution_count": 45,
   "id": "559e4702-09a6-4689-bc8b-e7226ccca39d",
   "metadata": {},
   "outputs": [],
   "source": [
    "prezzi = [\"100 €\", \"200 €\", \"500 €\", \"10 €\", \"50 €\", \"70 €\"]"
   ]
  },
  {
   "cell_type": "code",
   "execution_count": 46,
   "id": "64b783fe-bd74-4261-b648-d8be0db4d60a",
   "metadata": {},
   "outputs": [
    {
     "name": "stdout",
     "output_type": "stream",
     "text": [
      "prezzi_$= ['100 $', '200 $', '500 $', '10 $', '50 $', '70 $']\n"
     ]
    }
   ],
   "source": [
    "prezzi_dollari=[]\n",
    "for i in prezzi:\n",
    "    prezzi_dollari.append(i.replace('€','$'))\n",
    "print(\"prezzi_$=\",prezzi_dollari)    "
   ]
  },
  {
   "cell_type": "markdown",
   "id": "e687be77-5b62-4145-ba73-90092929ca78",
   "metadata": {},
   "source": [
    "**Esercizio**\n",
    "\n",
    "Abbiamo una lista di studenti: \n",
    "* studenti = [\"Alex\", \"Bob\", \"Cindy\", \"Dan\", \"Emma\", \"Faith\", \"Grace\", \"Henry\", \"Isabelle\", \"John\"]\n",
    "\n",
    "vogliamo dividere gli studenti in due squadre per un campionato di Uno nel seguente modo: selezioneremo i nomi in posizione pari per un squadra, e i nomi in posizione dispari per l'altra. Creiamo due liste per ogni squadra, e alla fine visualizziamole."
   ]
  },
  {
   "cell_type": "code",
   "execution_count": 47,
   "id": "df5ab7a5-5931-485e-a1f7-7752d8051ab5",
   "metadata": {},
   "outputs": [
    {
     "name": "stdout",
     "output_type": "stream",
     "text": [
      "squadra 1: ['Alex', 'Cindy', 'Emma', 'Grace', 'Isabelle']\n",
      "squadra 2: ['Bob', 'Dan', 'Faith', 'Henry', 'John']\n"
     ]
    }
   ],
   "source": [
    "studenti = [\"Alex\", \"Bob\", \"Cindy\", \"Dan\", \"Emma\", \"Faith\", \"Grace\", \"Henry\", \"Isabelle\", \"John\"]\n",
    "squadra_1=studenti[0::2]\n",
    "squadra_2=studenti[1::2]\n",
    "print(\"squadra 1:\", squadra_1)\n",
    "print(\"squadra 2:\", squadra_2)"
   ]
  },
  {
   "cell_type": "markdown",
   "id": "15ba355e-d307-4316-9092-8bf7fccd308f",
   "metadata": {},
   "source": [
    "**Esercizio**\n",
    "\n",
    "Abbiamo una lista con i guadagni degli ultimi 12 mesi (supponiamo da Gennaio a Dicembre): \n",
    "* guadagni = [100, 90, 70, 40, 50, 80, 90, 120, 80, 20, 50, 50]\n",
    "\n",
    "dobbiamo confrontare, stampando tutto a video, il guadagno di ogni mese con la media dei guadagni precedenti, e specificare nell'output se il guadagno attuale è maggiore o minore della media dei precedenti. Esempio di un possibile output: Mese 1: 100 € Mese 2: 90 € (media prec: 100 € - il guadagno attuale è minore) Mese 3: 70 € (media prec: 95 € - il guadagno attuale è minore)"
   ]
  },
  {
   "cell_type": "code",
   "execution_count": 48,
   "id": "ef9b31b2-3fcc-4cc2-92b9-c29f0a3c21f2",
   "metadata": {},
   "outputs": [
    {
     "name": "stdout",
     "output_type": "stream",
     "text": [
      "Mese 1 : 100 € il guadagno attuale è maggiore della media\n",
      "Mese 2 : 90 € il guadagno attuale è mimore della media\n",
      "Mese 3 : 70 € il guadagno attuale è mimore della media\n",
      "Mese 4 : 40 € il guadagno attuale è mimore della media\n",
      "Mese 5 : 50 € il guadagno attuale è mimore della media\n",
      "Mese 6 : 80 € il guadagno attuale è maggiore della media\n",
      "Mese 7 : 90 € il guadagno attuale è maggiore della media\n",
      "Mese 8 : 120 € il guadagno attuale è maggiore della media\n",
      "Mese 9 : 80 € il guadagno attuale è maggiore della media\n",
      "Mese 10 : 20 € il guadagno attuale è mimore della media\n",
      "Mese 11 : 50 € il guadagno attuale è mimore della media\n",
      "Mese 12 : 50 € il guadagno attuale è mimore della media\n"
     ]
    }
   ],
   "source": [
    "guadagni = [100, 90, 70, 40, 50, 80, 90, 120, 80, 20, 50, 50]\n",
    "mese=1\n",
    "progressivo_guadagni=0\n",
    "for guadagno in guadagni:\n",
    "    progressivo_guadagni+=guadagno\n",
    "    media=progressivo_guadagni/mese\n",
    "    if media<=guadagno:\n",
    "        print(\"Mese\", mese, \":\", guadagno, \"€\", \"il guadagno attuale è maggiore della media\")\n",
    "    else:\n",
    "        print(\"Mese\", mese, \":\", guadagno, \"€\", \"il guadagno attuale è mimore della media\")\n",
    "    mese+=1 "
   ]
  },
  {
   "cell_type": "code",
   "execution_count": null,
   "id": "b4e6ccb7-ac55-45d6-b40f-fdfa6c0a5bbb",
   "metadata": {},
   "outputs": [],
   "source": []
  }
 ],
 "metadata": {
  "kernelspec": {
   "display_name": "Python 3 (ipykernel)",
   "language": "python",
   "name": "python3"
  },
  "language_info": {
   "codemirror_mode": {
    "name": "ipython",
    "version": 3
   },
   "file_extension": ".py",
   "mimetype": "text/x-python",
   "name": "python",
   "nbconvert_exporter": "python",
   "pygments_lexer": "ipython3",
   "version": "3.11.7"
  }
 },
 "nbformat": 4,
 "nbformat_minor": 5
}
