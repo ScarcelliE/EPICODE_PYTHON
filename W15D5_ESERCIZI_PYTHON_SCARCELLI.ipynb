{
 "cells": [
  {
   "cell_type": "markdown",
   "id": "0a5dc8c5-0dfe-45a8-8bd9-00927d040811",
   "metadata": {},
   "source": [
    "# Esercizio 1/2 \n",
    "\n",
    "Andiamo su http://www.datiopen.it/it/opendata/Mappa_dei_pub_circoli_locali_in_Italia e scarichiamo il file (in formato JSON) della mappa dei pub, circoli e locali in Italia\n",
    "\n",
    "Nota: per leggerlo nella funzione open() dovremo aggiungere il parametro encoding=\"latin1\", ad esempio: f = open(file_path, \"r\", encoding=\"latin1\") dove file_path è chiaramente la posizione del file nel nostro calcolatore."
   ]
  },
  {
   "cell_type": "code",
   "execution_count": 1,
   "id": "c25f2e33-4b21-425a-a2a5-c84c06a03787",
   "metadata": {},
   "outputs": [
    {
     "data": {
      "text/html": [
       "<div>\n",
       "<style scoped>\n",
       "    .dataframe tbody tr th:only-of-type {\n",
       "        vertical-align: middle;\n",
       "    }\n",
       "\n",
       "    .dataframe tbody tr th {\n",
       "        vertical-align: top;\n",
       "    }\n",
       "\n",
       "    .dataframe thead th {\n",
       "        text-align: right;\n",
       "    }\n",
       "</style>\n",
       "<table border=\"1\" class=\"dataframe\">\n",
       "  <thead>\n",
       "    <tr style=\"text-align: right;\">\n",
       "      <th></th>\n",
       "      <th>ccomune</th>\n",
       "      <th>cprovincia</th>\n",
       "      <th>cregione</th>\n",
       "      <th>cnome</th>\n",
       "      <th>canno_inserimento</th>\n",
       "      <th>cdata_e_ora_inserimento</th>\n",
       "      <th>cidentificatore_in_openstreetmap</th>\n",
       "      <th>clongitudine</th>\n",
       "      <th>clatitudine</th>\n",
       "    </tr>\n",
       "  </thead>\n",
       "  <tbody>\n",
       "    <tr>\n",
       "      <th>0</th>\n",
       "      <td>ALTRO</td>\n",
       "      <td>ALTRO</td>\n",
       "      <td>ALTRO</td>\n",
       "      <td></td>\n",
       "      <td>2011</td>\n",
       "      <td>2011-06-25T23:17:43Z</td>\n",
       "      <td>1339088150</td>\n",
       "      <td>13.733257</td>\n",
       "      <td>45.575830</td>\n",
       "    </tr>\n",
       "    <tr>\n",
       "      <th>1</th>\n",
       "      <td>ALTRO</td>\n",
       "      <td>ALTRO</td>\n",
       "      <td>ALTRO</td>\n",
       "      <td>Lenny's Pub</td>\n",
       "      <td>2011</td>\n",
       "      <td>2011-07-29T17:22:56Z</td>\n",
       "      <td>1375887295</td>\n",
       "      <td>12.418681</td>\n",
       "      <td>46.747584</td>\n",
       "    </tr>\n",
       "    <tr>\n",
       "      <th>2</th>\n",
       "      <td>ALTRO</td>\n",
       "      <td>ALTRO</td>\n",
       "      <td>ALTRO</td>\n",
       "      <td>Murrayfield Pub</td>\n",
       "      <td>2015</td>\n",
       "      <td>2015-10-24T09:28:06Z</td>\n",
       "      <td>3323888102</td>\n",
       "      <td>9.029585</td>\n",
       "      <td>45.831340</td>\n",
       "    </tr>\n",
       "    <tr>\n",
       "      <th>3</th>\n",
       "      <td>ALTRO</td>\n",
       "      <td>ALTRO</td>\n",
       "      <td>ALTRO</td>\n",
       "      <td>Snop?e</td>\n",
       "      <td>2010</td>\n",
       "      <td>2010-09-22T08:32:52Z</td>\n",
       "      <td>921157802</td>\n",
       "      <td>13.640939</td>\n",
       "      <td>45.954607</td>\n",
       "    </tr>\n",
       "    <tr>\n",
       "      <th>4</th>\n",
       "      <td>Ala di Stura</td>\n",
       "      <td>TORINO</td>\n",
       "      <td>Piemonte</td>\n",
       "      <td></td>\n",
       "      <td>2012</td>\n",
       "      <td>2012-05-21T14:28:45Z</td>\n",
       "      <td>1760949034</td>\n",
       "      <td>7.307306</td>\n",
       "      <td>45.313150</td>\n",
       "    </tr>\n",
       "    <tr>\n",
       "      <th>...</th>\n",
       "      <td>...</td>\n",
       "      <td>...</td>\n",
       "      <td>...</td>\n",
       "      <td>...</td>\n",
       "      <td>...</td>\n",
       "      <td>...</td>\n",
       "      <td>...</td>\n",
       "      <td>...</td>\n",
       "      <td>...</td>\n",
       "    </tr>\n",
       "    <tr>\n",
       "      <th>2492</th>\n",
       "      <td>Barletta (BT)</td>\n",
       "      <td>BARLETTA ANDRIA TRANI</td>\n",
       "      <td>Puglia</td>\n",
       "      <td>Santa Croce</td>\n",
       "      <td>2010</td>\n",
       "      <td>2010-01-17T16:15:08Z</td>\n",
       "      <td>615632993</td>\n",
       "      <td>16.285782</td>\n",
       "      <td>41.320671</td>\n",
       "    </tr>\n",
       "    <tr>\n",
       "      <th>2493</th>\n",
       "      <td>Bisceglie (BT)</td>\n",
       "      <td>BARLETTA ANDRIA TRANI</td>\n",
       "      <td>Puglia</td>\n",
       "      <td>Auld Dublin</td>\n",
       "      <td>2014</td>\n",
       "      <td>2014-03-03T20:56:16Z</td>\n",
       "      <td>2613737619</td>\n",
       "      <td>16.497204</td>\n",
       "      <td>41.241814</td>\n",
       "    </tr>\n",
       "    <tr>\n",
       "      <th>2494</th>\n",
       "      <td>Bisceglie (BT)</td>\n",
       "      <td>BARLETTA ANDRIA TRANI</td>\n",
       "      <td>Puglia</td>\n",
       "      <td>Ferus</td>\n",
       "      <td>2014</td>\n",
       "      <td>2014-01-07T19:22:18Z</td>\n",
       "      <td>2613737620</td>\n",
       "      <td>16.506175</td>\n",
       "      <td>41.240957</td>\n",
       "    </tr>\n",
       "    <tr>\n",
       "      <th>2495</th>\n",
       "      <td>Trani (BT)</td>\n",
       "      <td>BARLETTA ANDRIA TRANI</td>\n",
       "      <td>Puglia</td>\n",
       "      <td>Re Artù</td>\n",
       "      <td>2009</td>\n",
       "      <td>2009-09-04T07:57:05Z</td>\n",
       "      <td>482836935</td>\n",
       "      <td>16.418124</td>\n",
       "      <td>41.281518</td>\n",
       "    </tr>\n",
       "    <tr>\n",
       "      <th>2496</th>\n",
       "      <td>Trani (BT)</td>\n",
       "      <td>BARLETTA ANDRIA TRANI</td>\n",
       "      <td>Puglia</td>\n",
       "      <td>Well's Fargo</td>\n",
       "      <td>2009</td>\n",
       "      <td>2009-08-10T12:44:03Z</td>\n",
       "      <td>387223648</td>\n",
       "      <td>16.436765</td>\n",
       "      <td>41.267264</td>\n",
       "    </tr>\n",
       "  </tbody>\n",
       "</table>\n",
       "<p>2497 rows × 9 columns</p>\n",
       "</div>"
      ],
      "text/plain": [
       "             ccomune             cprovincia  cregione            cnome  \\\n",
       "0              ALTRO                  ALTRO     ALTRO                    \n",
       "1              ALTRO                  ALTRO     ALTRO      Lenny's Pub   \n",
       "2              ALTRO                  ALTRO     ALTRO  Murrayfield Pub   \n",
       "3              ALTRO                  ALTRO     ALTRO           Snop?e   \n",
       "4       Ala di Stura                 TORINO  Piemonte                    \n",
       "...              ...                    ...       ...              ...   \n",
       "2492   Barletta (BT)  BARLETTA ANDRIA TRANI    Puglia      Santa Croce   \n",
       "2493  Bisceglie (BT)  BARLETTA ANDRIA TRANI    Puglia      Auld Dublin   \n",
       "2494  Bisceglie (BT)  BARLETTA ANDRIA TRANI    Puglia            Ferus   \n",
       "2495      Trani (BT)  BARLETTA ANDRIA TRANI    Puglia          Re Artù   \n",
       "2496      Trani (BT)  BARLETTA ANDRIA TRANI    Puglia     Well's Fargo   \n",
       "\n",
       "      canno_inserimento cdata_e_ora_inserimento  \\\n",
       "0                  2011    2011-06-25T23:17:43Z   \n",
       "1                  2011    2011-07-29T17:22:56Z   \n",
       "2                  2015    2015-10-24T09:28:06Z   \n",
       "3                  2010    2010-09-22T08:32:52Z   \n",
       "4                  2012    2012-05-21T14:28:45Z   \n",
       "...                 ...                     ...   \n",
       "2492               2010    2010-01-17T16:15:08Z   \n",
       "2493               2014    2014-03-03T20:56:16Z   \n",
       "2494               2014    2014-01-07T19:22:18Z   \n",
       "2495               2009    2009-09-04T07:57:05Z   \n",
       "2496               2009    2009-08-10T12:44:03Z   \n",
       "\n",
       "      cidentificatore_in_openstreetmap  clongitudine  clatitudine  \n",
       "0                           1339088150     13.733257    45.575830  \n",
       "1                           1375887295     12.418681    46.747584  \n",
       "2                           3323888102      9.029585    45.831340  \n",
       "3                            921157802     13.640939    45.954607  \n",
       "4                           1760949034      7.307306    45.313150  \n",
       "...                                ...           ...          ...  \n",
       "2492                         615632993     16.285782    41.320671  \n",
       "2493                        2613737619     16.497204    41.241814  \n",
       "2494                        2613737620     16.506175    41.240957  \n",
       "2495                         482836935     16.418124    41.281518  \n",
       "2496                         387223648     16.436765    41.267264  \n",
       "\n",
       "[2497 rows x 9 columns]"
      ]
     },
     "execution_count": 1,
     "metadata": {},
     "output_type": "execute_result"
    }
   ],
   "source": [
    "import pandas as pd\n",
    "import os\n",
    "percorso_attuale=os.getcwd()\n",
    "path='/beginner_datasets/Mappa-dei-pub-circoli-locali-in-Italia.json'\n",
    "df=pd.read_json(percorso_attuale+path,encoding=\"latin1\")\n",
    "df"
   ]
  },
  {
   "cell_type": "markdown",
   "id": "f636d4a2-a550-4ba1-941e-f98d6078f1e2",
   "metadata": {},
   "source": [
    "# Esercizio 2/2 \n",
    "\n",
    "Esaminiamo il dataset: \n",
    "* quanti dati ci sono in totale?\n",
    "* quali sono i metadati?\n",
    "* stampiamo il primo elemento \n",
    "* stampiamo l'ultimo elemento\n",
    "* riusciamo a stampare un elemento a caso?\n",
    "* quali sono gli anni di inserimento presenti?\n",
    "* quante attività ci sono nel quadrato di longitudine 9-10 e latitudine 45-46?\n",
    "* quante attività ci sono nella provincia di Vicenza?\n",
    "* quante enoteche ci sono, e come si chiamano?\n",
    "* quante attività ci sono in Lazio e Abruzzo assieme?"
   ]
  },
  {
   "cell_type": "code",
   "execution_count": 2,
   "id": "6005ef3f-e8a2-466f-aa92-918d38e2d753",
   "metadata": {},
   "outputs": [
    {
     "data": {
      "text/plain": [
       "(2497, 9)"
      ]
     },
     "execution_count": 2,
     "metadata": {},
     "output_type": "execute_result"
    }
   ],
   "source": [
    "df.shape"
   ]
  },
  {
   "cell_type": "code",
   "execution_count": 3,
   "id": "10ff5d57-5f28-4058-8c7c-3680107a4244",
   "metadata": {},
   "outputs": [
    {
     "data": {
      "text/plain": [
       "Index(['ccomune', 'cprovincia', 'cregione', 'cnome', 'canno_inserimento',\n",
       "       'cdata_e_ora_inserimento', 'cidentificatore_in_openstreetmap',\n",
       "       'clongitudine', 'clatitudine'],\n",
       "      dtype='object')"
      ]
     },
     "execution_count": 3,
     "metadata": {},
     "output_type": "execute_result"
    }
   ],
   "source": [
    "df.columns"
   ]
  },
  {
   "cell_type": "code",
   "execution_count": 4,
   "id": "6560e829-f13b-4eb3-88e3-c4d23d8fe728",
   "metadata": {},
   "outputs": [
    {
     "data": {
      "text/html": [
       "<div>\n",
       "<style scoped>\n",
       "    .dataframe tbody tr th:only-of-type {\n",
       "        vertical-align: middle;\n",
       "    }\n",
       "\n",
       "    .dataframe tbody tr th {\n",
       "        vertical-align: top;\n",
       "    }\n",
       "\n",
       "    .dataframe thead th {\n",
       "        text-align: right;\n",
       "    }\n",
       "</style>\n",
       "<table border=\"1\" class=\"dataframe\">\n",
       "  <thead>\n",
       "    <tr style=\"text-align: right;\">\n",
       "      <th></th>\n",
       "      <th>ccomune</th>\n",
       "      <th>cprovincia</th>\n",
       "      <th>cregione</th>\n",
       "      <th>cnome</th>\n",
       "      <th>canno_inserimento</th>\n",
       "      <th>cdata_e_ora_inserimento</th>\n",
       "      <th>cidentificatore_in_openstreetmap</th>\n",
       "      <th>clongitudine</th>\n",
       "      <th>clatitudine</th>\n",
       "    </tr>\n",
       "  </thead>\n",
       "  <tbody>\n",
       "    <tr>\n",
       "      <th>0</th>\n",
       "      <td>ALTRO</td>\n",
       "      <td>ALTRO</td>\n",
       "      <td>ALTRO</td>\n",
       "      <td></td>\n",
       "      <td>2011</td>\n",
       "      <td>2011-06-25T23:17:43Z</td>\n",
       "      <td>1339088150</td>\n",
       "      <td>13.733257</td>\n",
       "      <td>45.57583</td>\n",
       "    </tr>\n",
       "  </tbody>\n",
       "</table>\n",
       "</div>"
      ],
      "text/plain": [
       "  ccomune cprovincia cregione cnome  canno_inserimento  \\\n",
       "0   ALTRO      ALTRO    ALTRO                     2011   \n",
       "\n",
       "  cdata_e_ora_inserimento  cidentificatore_in_openstreetmap  clongitudine  \\\n",
       "0    2011-06-25T23:17:43Z                        1339088150     13.733257   \n",
       "\n",
       "   clatitudine  \n",
       "0     45.57583  "
      ]
     },
     "execution_count": 4,
     "metadata": {},
     "output_type": "execute_result"
    }
   ],
   "source": [
    "df.head(1)"
   ]
  },
  {
   "cell_type": "code",
   "execution_count": 5,
   "id": "2fcdb007-e080-4e19-8654-d315270e531e",
   "metadata": {},
   "outputs": [
    {
     "data": {
      "text/html": [
       "<div>\n",
       "<style scoped>\n",
       "    .dataframe tbody tr th:only-of-type {\n",
       "        vertical-align: middle;\n",
       "    }\n",
       "\n",
       "    .dataframe tbody tr th {\n",
       "        vertical-align: top;\n",
       "    }\n",
       "\n",
       "    .dataframe thead th {\n",
       "        text-align: right;\n",
       "    }\n",
       "</style>\n",
       "<table border=\"1\" class=\"dataframe\">\n",
       "  <thead>\n",
       "    <tr style=\"text-align: right;\">\n",
       "      <th></th>\n",
       "      <th>ccomune</th>\n",
       "      <th>cprovincia</th>\n",
       "      <th>cregione</th>\n",
       "      <th>cnome</th>\n",
       "      <th>canno_inserimento</th>\n",
       "      <th>cdata_e_ora_inserimento</th>\n",
       "      <th>cidentificatore_in_openstreetmap</th>\n",
       "      <th>clongitudine</th>\n",
       "      <th>clatitudine</th>\n",
       "    </tr>\n",
       "  </thead>\n",
       "  <tbody>\n",
       "    <tr>\n",
       "      <th>2496</th>\n",
       "      <td>Trani (BT)</td>\n",
       "      <td>BARLETTA ANDRIA TRANI</td>\n",
       "      <td>Puglia</td>\n",
       "      <td>Well's Fargo</td>\n",
       "      <td>2009</td>\n",
       "      <td>2009-08-10T12:44:03Z</td>\n",
       "      <td>387223648</td>\n",
       "      <td>16.436765</td>\n",
       "      <td>41.267264</td>\n",
       "    </tr>\n",
       "  </tbody>\n",
       "</table>\n",
       "</div>"
      ],
      "text/plain": [
       "         ccomune             cprovincia cregione         cnome  \\\n",
       "2496  Trani (BT)  BARLETTA ANDRIA TRANI   Puglia  Well's Fargo   \n",
       "\n",
       "      canno_inserimento cdata_e_ora_inserimento  \\\n",
       "2496               2009    2009-08-10T12:44:03Z   \n",
       "\n",
       "      cidentificatore_in_openstreetmap  clongitudine  clatitudine  \n",
       "2496                         387223648     16.436765    41.267264  "
      ]
     },
     "execution_count": 5,
     "metadata": {},
     "output_type": "execute_result"
    }
   ],
   "source": [
    "df.tail(1)"
   ]
  },
  {
   "cell_type": "code",
   "execution_count": 6,
   "id": "0211895c-7eca-44f1-aebb-175e2450e3e2",
   "metadata": {},
   "outputs": [
    {
     "data": {
      "text/html": [
       "<div>\n",
       "<style scoped>\n",
       "    .dataframe tbody tr th:only-of-type {\n",
       "        vertical-align: middle;\n",
       "    }\n",
       "\n",
       "    .dataframe tbody tr th {\n",
       "        vertical-align: top;\n",
       "    }\n",
       "\n",
       "    .dataframe thead th {\n",
       "        text-align: right;\n",
       "    }\n",
       "</style>\n",
       "<table border=\"1\" class=\"dataframe\">\n",
       "  <thead>\n",
       "    <tr style=\"text-align: right;\">\n",
       "      <th></th>\n",
       "      <th>ccomune</th>\n",
       "      <th>cprovincia</th>\n",
       "      <th>cregione</th>\n",
       "      <th>cnome</th>\n",
       "      <th>canno_inserimento</th>\n",
       "      <th>cdata_e_ora_inserimento</th>\n",
       "      <th>cidentificatore_in_openstreetmap</th>\n",
       "      <th>clongitudine</th>\n",
       "      <th>clatitudine</th>\n",
       "    </tr>\n",
       "  </thead>\n",
       "  <tbody>\n",
       "    <tr>\n",
       "      <th>1290</th>\n",
       "      <td>Fogliano Redipuglia</td>\n",
       "      <td>GORIZIA</td>\n",
       "      <td>Friuli-Venezia Giulia</td>\n",
       "      <td>Rosy's Bar</td>\n",
       "      <td>2009</td>\n",
       "      <td>2009-10-09T16:24:59Z</td>\n",
       "      <td>527237382</td>\n",
       "      <td>13.482003</td>\n",
       "      <td>45.865736</td>\n",
       "    </tr>\n",
       "  </tbody>\n",
       "</table>\n",
       "</div>"
      ],
      "text/plain": [
       "                  ccomune cprovincia               cregione       cnome  \\\n",
       "1290  Fogliano Redipuglia    GORIZIA  Friuli-Venezia Giulia  Rosy's Bar   \n",
       "\n",
       "      canno_inserimento cdata_e_ora_inserimento  \\\n",
       "1290               2009    2009-10-09T16:24:59Z   \n",
       "\n",
       "      cidentificatore_in_openstreetmap  clongitudine  clatitudine  \n",
       "1290                         527237382     13.482003    45.865736  "
      ]
     },
     "execution_count": 6,
     "metadata": {},
     "output_type": "execute_result"
    }
   ],
   "source": [
    "df.sample(1)"
   ]
  },
  {
   "cell_type": "code",
   "execution_count": 7,
   "id": "f4050089-fee3-43fb-a28e-80c277b27797",
   "metadata": {},
   "outputs": [
    {
     "data": {
      "text/plain": [
       "array([2007, 2008, 2009, 2010, 2011, 2012, 2013, 2014, 2015, 2016],\n",
       "      dtype=int64)"
      ]
     },
     "execution_count": 7,
     "metadata": {},
     "output_type": "execute_result"
    }
   ],
   "source": [
    "anni=df.canno_inserimento.unique()\n",
    "anni.sort()\n",
    "anni"
   ]
  },
  {
   "cell_type": "code",
   "execution_count": 8,
   "id": "fa59933f-dda8-4a47-8dcd-007af7fde204",
   "metadata": {},
   "outputs": [
    {
     "name": "stdout",
     "output_type": "stream",
     "text": [
      "le attività presenti nel quadrato di longitudine 9-10 e latitudine 45-46 sono: 303\n"
     ]
    }
   ],
   "source": [
    "filtro_long=(9<=df.clongitudine)&(df.clongitudine<=10)\n",
    "filtro_lat=(45<=df.clatitudine)&(df.clatitudine<=46)\n",
    "filtro_long_lat=filtro_long&filtro_lat\n",
    "df_ll=df.loc[filtro_long_lat]\n",
    "print('le attività presenti nel quadrato di longitudine 9-10 e latitudine 45-46 sono:',df_ll.clatitudine.count())"
   ]
  },
  {
   "cell_type": "code",
   "execution_count": 9,
   "id": "4dc2c2af-b3c3-44c8-96c3-a0c3bd6c3cd0",
   "metadata": {},
   "outputs": [
    {
     "data": {
      "text/plain": [
       "array(['ALTRO', 'TORINO', 'VERCELLI', 'NOVARA', 'CUNEO', 'ASTI',\n",
       "       'ALESSANDRIA', 'AOSTA', 'IMPERIA', 'SAVONA', 'GENOVA', 'LA SPEZIA',\n",
       "       'VARESE', 'COMO', 'SONDRIO', 'MILANO', 'BERGAMO', 'BRESCIA',\n",
       "       'PAVIA', 'CREMONA', 'MANTOVA', 'BOLZANO', 'TRENTO', 'VERONA',\n",
       "       'VICENZA', 'BELLUNO', 'TREVISO', 'VENEZIA', 'PADOVA', 'ROVIGO',\n",
       "       'UDINE', 'GORIZIA', 'TRIESTE', 'PIACENZA', 'PARMA',\n",
       "       'REGGIO EMILIA', 'MODENA', 'BOLOGNA', 'FERRARA', 'RAVENNA',\n",
       "       \"FORLI'\", 'PESARO E URBINO', 'ANCONA', 'MACERATA', 'ASCOLI PICENO',\n",
       "       'MASSA-CARRARA', 'LUCCA', 'PISTOIA', 'FIRENZE', 'LIVORNO', 'PISA',\n",
       "       'AREZZO', 'SIENA', 'GROSSETO', 'PERUGIA', 'TERNI', 'VITERBO',\n",
       "       'RIETI', 'ROMA', 'LATINA', 'FROSINONE', 'CASERTA', 'BENEVENTO',\n",
       "       'NAPOLI', 'AVELLINO', 'SALERNO', \"L'AQUILA\", 'TERAMO', 'PESCARA',\n",
       "       'CHIETI', 'CAMPOBASSO', 'FOGGIA', 'BARI', 'TARANTO', 'BRINDISI',\n",
       "       'LECCE', 'POTENZA', 'MATERA', 'COSENZA', 'CATANZARO',\n",
       "       'REGGIO CALABRIA', 'TRAPANI', 'PALERMO', 'MESSINA', 'AGRIGENTO',\n",
       "       'CALTANISSETTA', 'CATANIA', 'RAGUSA', 'SIRACUSA', 'SASSARI',\n",
       "       'NUORO', 'CAGLIARI', 'PORDENONE', 'ORISTANO', 'BIELLA', 'LECCO',\n",
       "       'LODI', 'RIMINI', 'PRATO', 'CROTONE', 'VERBANIA', 'OLBIA-TEMPIO',\n",
       "       'MEDIO CAMPIDANO', 'CARBONIA IGLESIAS', 'MONZA E DELLA BRIANZA',\n",
       "       'FERMO', 'BARLETTA ANDRIA TRANI'], dtype=object)"
      ]
     },
     "execution_count": 9,
     "metadata": {},
     "output_type": "execute_result"
    }
   ],
   "source": [
    "df.cprovincia.unique()"
   ]
  },
  {
   "cell_type": "code",
   "execution_count": 10,
   "id": "c2808b56-b74d-4707-8d4a-079d4a1efeda",
   "metadata": {},
   "outputs": [
    {
     "name": "stdout",
     "output_type": "stream",
     "text": [
      "il numero di attività nella provincia di Vicenza è: 73\n"
     ]
    }
   ],
   "source": [
    "df.cprovincia=df.cprovincia.str.upper()\n",
    "filtro_vic=df.cprovincia==\"VICENZA\"\n",
    "print('il numero di attività nella provincia di Vicenza è:',df.loc[filtro_vic].cprovincia.count()) "
   ]
  },
  {
   "cell_type": "code",
   "execution_count": 11,
   "id": "c1919a9a-a3f6-4c34-bbd2-d08405f963d4",
   "metadata": {},
   "outputs": [
    {
     "name": "stdout",
     "output_type": "stream",
     "text": [
      "il numero di enoteche è: 6\n",
      "di seguito il nome delle enoteche:\n",
      " 64      enoteca con cucina\"\"tirolin\"\"\n",
      "493                 concordia enoteca\n",
      "1000                  enoteca umberto\n",
      "1472          enoteca \"\"al brindisi\"\"\n",
      "1473           enoteca \"\"da massimo\"\"\n",
      "1704         enoteca il violino rosso\n",
      "Name: cnome_lower, dtype: object\n"
     ]
    }
   ],
   "source": [
    "df[\"cnome_lower\"]=df.cnome.str.lower()\n",
    "filtro_enoteca=df.cnome_lower.str.contains(\"enoteca\")\n",
    "print('il numero di enoteche è:', df.loc[filtro_enoteca].cnome.count())\n",
    "print('di seguito il nome delle enoteche:\\n',df.loc[filtro_enoteca].cnome_lower) "
   ]
  },
  {
   "cell_type": "code",
   "execution_count": 12,
   "id": "9eff988b-34cc-4f78-8ceb-97974f9a5a65",
   "metadata": {},
   "outputs": [
    {
     "name": "stdout",
     "output_type": "stream",
     "text": [
      "le attività in Lazio e Abruzzo sono: 237\n"
     ]
    }
   ],
   "source": [
    "filtro_lazio=df.cregione==\"Lazio\"\n",
    "filtro_abruzzo=df.cregione==\"Abruzzo\"\n",
    "filtro_combinato=filtro_lazio|filtro_abruzzo\n",
    "print('le attività in Lazio e Abruzzo sono:',df.loc[filtro_combinato]['cregione'].count())"
   ]
  },
  {
   "cell_type": "markdown",
   "id": "478fcca0-53fb-41b0-8388-c65dedd51c85",
   "metadata": {},
   "source": [
    "# Esercizio \n",
    "Il dataset insurance.csv dei beginner_datasets contiene dati su caratteristiche e abitudini delle persone rispetto ai costi individuali per le cure mediche come premio per le assicurazioni sulla salute. \n",
    "* Visualizziamone le dimensioni, un'anteprima, e osserviamo i nomi di colonna;\n",
    "* Quali sono le medie di charges rispetto a region? Ci sono differenze significative?\n",
    "* E rispetto a smoker? E a sex?\n",
    "* Quali sono i descrittori statistici di bmi? Quali sono minimo, media e massimo di charges rispetto ai diversi quartili dei valori di bmi? Nota: è lo stesso esercizio della volta scorsa, ma stavolta da eseguire con il metodo groupby()"
   ]
  },
  {
   "cell_type": "code",
   "execution_count": 13,
   "id": "d259e46e-4790-42f3-a050-473358e458d4",
   "metadata": {},
   "outputs": [],
   "source": [
    "import pandas as pd\n",
    "import os\n",
    "percorso_attuale=os.getcwd()\n",
    "path='/beginner_datasets/insurance.csv'\n",
    "dfi=pd.read_csv(percorso_attuale+path)"
   ]
  },
  {
   "cell_type": "code",
   "execution_count": 14,
   "id": "2dbf1bef-5fa1-4924-a1c2-fe7419d0306a",
   "metadata": {},
   "outputs": [
    {
     "data": {
      "text/plain": [
       "(1338, 7)"
      ]
     },
     "execution_count": 14,
     "metadata": {},
     "output_type": "execute_result"
    }
   ],
   "source": [
    "dfi.shape"
   ]
  },
  {
   "cell_type": "code",
   "execution_count": 15,
   "id": "13f0fa27-8e97-4648-af68-47237636e095",
   "metadata": {},
   "outputs": [
    {
     "data": {
      "text/html": [
       "<div>\n",
       "<style scoped>\n",
       "    .dataframe tbody tr th:only-of-type {\n",
       "        vertical-align: middle;\n",
       "    }\n",
       "\n",
       "    .dataframe tbody tr th {\n",
       "        vertical-align: top;\n",
       "    }\n",
       "\n",
       "    .dataframe thead th {\n",
       "        text-align: right;\n",
       "    }\n",
       "</style>\n",
       "<table border=\"1\" class=\"dataframe\">\n",
       "  <thead>\n",
       "    <tr style=\"text-align: right;\">\n",
       "      <th></th>\n",
       "      <th>age</th>\n",
       "      <th>sex</th>\n",
       "      <th>bmi</th>\n",
       "      <th>children</th>\n",
       "      <th>smoker</th>\n",
       "      <th>region</th>\n",
       "      <th>charges</th>\n",
       "    </tr>\n",
       "  </thead>\n",
       "  <tbody>\n",
       "    <tr>\n",
       "      <th>564</th>\n",
       "      <td>18</td>\n",
       "      <td>female</td>\n",
       "      <td>32.120</td>\n",
       "      <td>2</td>\n",
       "      <td>no</td>\n",
       "      <td>southeast</td>\n",
       "      <td>2801.25880</td>\n",
       "    </tr>\n",
       "    <tr>\n",
       "      <th>391</th>\n",
       "      <td>19</td>\n",
       "      <td>female</td>\n",
       "      <td>37.430</td>\n",
       "      <td>0</td>\n",
       "      <td>no</td>\n",
       "      <td>northwest</td>\n",
       "      <td>2138.07070</td>\n",
       "    </tr>\n",
       "    <tr>\n",
       "      <th>215</th>\n",
       "      <td>41</td>\n",
       "      <td>female</td>\n",
       "      <td>37.100</td>\n",
       "      <td>2</td>\n",
       "      <td>no</td>\n",
       "      <td>southwest</td>\n",
       "      <td>7371.77200</td>\n",
       "    </tr>\n",
       "    <tr>\n",
       "      <th>1179</th>\n",
       "      <td>31</td>\n",
       "      <td>male</td>\n",
       "      <td>29.810</td>\n",
       "      <td>0</td>\n",
       "      <td>yes</td>\n",
       "      <td>southeast</td>\n",
       "      <td>19350.36890</td>\n",
       "    </tr>\n",
       "    <tr>\n",
       "      <th>369</th>\n",
       "      <td>18</td>\n",
       "      <td>male</td>\n",
       "      <td>30.400</td>\n",
       "      <td>3</td>\n",
       "      <td>no</td>\n",
       "      <td>northeast</td>\n",
       "      <td>3481.86800</td>\n",
       "    </tr>\n",
       "    <tr>\n",
       "      <th>528</th>\n",
       "      <td>46</td>\n",
       "      <td>male</td>\n",
       "      <td>39.425</td>\n",
       "      <td>1</td>\n",
       "      <td>no</td>\n",
       "      <td>northeast</td>\n",
       "      <td>8342.90875</td>\n",
       "    </tr>\n",
       "    <tr>\n",
       "      <th>1102</th>\n",
       "      <td>29</td>\n",
       "      <td>male</td>\n",
       "      <td>38.940</td>\n",
       "      <td>1</td>\n",
       "      <td>no</td>\n",
       "      <td>southeast</td>\n",
       "      <td>3471.40960</td>\n",
       "    </tr>\n",
       "    <tr>\n",
       "      <th>910</th>\n",
       "      <td>22</td>\n",
       "      <td>male</td>\n",
       "      <td>28.310</td>\n",
       "      <td>1</td>\n",
       "      <td>no</td>\n",
       "      <td>northwest</td>\n",
       "      <td>2639.04290</td>\n",
       "    </tr>\n",
       "    <tr>\n",
       "      <th>707</th>\n",
       "      <td>49</td>\n",
       "      <td>male</td>\n",
       "      <td>28.690</td>\n",
       "      <td>3</td>\n",
       "      <td>no</td>\n",
       "      <td>northwest</td>\n",
       "      <td>10264.44210</td>\n",
       "    </tr>\n",
       "    <tr>\n",
       "      <th>139</th>\n",
       "      <td>22</td>\n",
       "      <td>female</td>\n",
       "      <td>36.000</td>\n",
       "      <td>0</td>\n",
       "      <td>no</td>\n",
       "      <td>southwest</td>\n",
       "      <td>2166.73200</td>\n",
       "    </tr>\n",
       "  </tbody>\n",
       "</table>\n",
       "</div>"
      ],
      "text/plain": [
       "      age     sex     bmi  children smoker     region      charges\n",
       "564    18  female  32.120         2     no  southeast   2801.25880\n",
       "391    19  female  37.430         0     no  northwest   2138.07070\n",
       "215    41  female  37.100         2     no  southwest   7371.77200\n",
       "1179   31    male  29.810         0    yes  southeast  19350.36890\n",
       "369    18    male  30.400         3     no  northeast   3481.86800\n",
       "528    46    male  39.425         1     no  northeast   8342.90875\n",
       "1102   29    male  38.940         1     no  southeast   3471.40960\n",
       "910    22    male  28.310         1     no  northwest   2639.04290\n",
       "707    49    male  28.690         3     no  northwest  10264.44210\n",
       "139    22  female  36.000         0     no  southwest   2166.73200"
      ]
     },
     "execution_count": 15,
     "metadata": {},
     "output_type": "execute_result"
    }
   ],
   "source": [
    "dfi.sample(10)"
   ]
  },
  {
   "cell_type": "code",
   "execution_count": 16,
   "id": "fc749b1e-24fd-46ba-bb2c-a7689cfe4cf9",
   "metadata": {},
   "outputs": [
    {
     "data": {
      "text/plain": [
       "Index(['age', 'sex', 'bmi', 'children', 'smoker', 'region', 'charges'], dtype='object')"
      ]
     },
     "execution_count": 16,
     "metadata": {},
     "output_type": "execute_result"
    }
   ],
   "source": [
    "dfi.columns"
   ]
  },
  {
   "cell_type": "code",
   "execution_count": 17,
   "id": "89c1bdfe-0ef6-420d-b0c5-6a025aa10a09",
   "metadata": {},
   "outputs": [
    {
     "name": "stdout",
     "output_type": "stream",
     "text": [
      "['southwest' 'southeast' 'northwest' 'northeast']\n"
     ]
    }
   ],
   "source": [
    "print(dfi.region.unique())"
   ]
  },
  {
   "cell_type": "code",
   "execution_count": 18,
   "id": "1e69c5cc-1ff1-4f79-a5b6-a0d3a6ccdccf",
   "metadata": {},
   "outputs": [
    {
     "data": {
      "text/plain": [
       "region\n",
       "northeast    13406.384516\n",
       "northwest    12417.575374\n",
       "southeast    14735.411438\n",
       "southwest    12346.937377\n",
       "Name: charges, dtype: float64"
      ]
     },
     "execution_count": 18,
     "metadata": {},
     "output_type": "execute_result"
    }
   ],
   "source": [
    "dfi.groupby('region')['charges'].mean() # nel west il premio è più basso rispetto a heast e \n",
    "                                     # nel sud-est il prezzo è il più alto"
   ]
  },
  {
   "cell_type": "code",
   "execution_count": 19,
   "id": "b6697ee3-9fdc-45cb-9e0d-e030afee9748",
   "metadata": {},
   "outputs": [
    {
     "data": {
      "text/plain": [
       "smoker\n",
       "no      8434.268298\n",
       "yes    32050.231832\n",
       "Name: charges, dtype: float64"
      ]
     },
     "execution_count": 19,
     "metadata": {},
     "output_type": "execute_result"
    }
   ],
   "source": [
    "dfi.groupby('smoker').charges.mean() # per i fumatori il premio è molto più alto"
   ]
  },
  {
   "cell_type": "code",
   "execution_count": 20,
   "id": "478c48dd-5a4f-4c28-8b7c-c74b9afe0cea",
   "metadata": {},
   "outputs": [
    {
     "data": {
      "text/plain": [
       "sex\n",
       "female    12569.578844\n",
       "male      13956.751178\n",
       "Name: charges, dtype: float64"
      ]
     },
     "execution_count": 20,
     "metadata": {},
     "output_type": "execute_result"
    }
   ],
   "source": [
    "dfi.groupby('sex').charges.mean() # per i maschi il premio è più alto"
   ]
  },
  {
   "cell_type": "code",
   "execution_count": 21,
   "id": "0d0e2610-e20a-40d2-aecc-76bde7eeeecc",
   "metadata": {},
   "outputs": [
    {
     "data": {
      "text/plain": [
       "count    1338.000000\n",
       "mean       30.663397\n",
       "std         6.098187\n",
       "min        15.960000\n",
       "25%        26.296250\n",
       "50%        30.400000\n",
       "75%        34.693750\n",
       "max        53.130000\n",
       "Name: bmi, dtype: float64"
      ]
     },
     "execution_count": 21,
     "metadata": {},
     "output_type": "execute_result"
    }
   ],
   "source": [
    "bmid=dfi.bmi.describe()\n",
    "bmid"
   ]
  },
  {
   "cell_type": "code",
   "execution_count": 22,
   "id": "3b68f28b-eadf-41d2-85b3-f41fe56514ac",
   "metadata": {},
   "outputs": [
    {
     "name": "stdout",
     "output_type": "stream",
     "text": [
      "per il quartile da min a 25% il charges minimo è: 1121.8739\n",
      "per il quartile da min a 25% il charges medio è: 10360.662825492538\n",
      "per il quartile da min a 25% il charges massimo è: 38245.59327\n"
     ]
    }
   ],
   "source": [
    "inizio='min'\n",
    "fine='25%'\n",
    "filtro_inizio=dfi.bmi>=bmid[inizio]\n",
    "filtro_fine=dfi.bmi<=bmid[fine]\n",
    "print('per il quartile da', inizio,'a', fine,'il charges minimo è:',dfi[(filtro_inizio)&(filtro_fine)].charges.min())\n",
    "print('per il quartile da', inizio,'a', fine,'il charges medio è:',dfi[(filtro_inizio)&(filtro_fine)].charges.mean())\n",
    "print('per il quartile da', inizio,'a', fine,'il charges massimo è:',dfi[(filtro_inizio)&(filtro_fine)].charges.max())"
   ]
  },
  {
   "cell_type": "code",
   "execution_count": 23,
   "id": "51fabe3d-cbf6-4849-814c-0cf9fd4cde99",
   "metadata": {},
   "outputs": [
    {
     "name": "stdout",
     "output_type": "stream",
     "text": [
      "per il quartile da 25% a 50% il charges minimo è: 1131.5066\n",
      "per il quartile da 25% a 50% il charges medio è: 11407.831467689348\n",
      "per il quartile da 25% a 50% il charges massimo è: 62592.87309\n"
     ]
    }
   ],
   "source": [
    "inizio='25%'\n",
    "fine='50%'\n",
    "filtro_inizio=dfi.bmi>=bmid[inizio]\n",
    "filtro_fine=dfi.bmi<=bmid[fine]\n",
    "print('per il quartile da', inizio,'a', fine,'il charges minimo è:',dfi[(filtro_inizio)&(filtro_fine)].charges.min())\n",
    "print('per il quartile da', inizio,'a', fine,'il charges medio è:',dfi[(filtro_inizio)&(filtro_fine)].charges.mean())\n",
    "print('per il quartile da', inizio,'a', fine,'il charges massimo è:',dfi[(filtro_inizio)&(filtro_fine)].charges.max())"
   ]
  },
  {
   "cell_type": "code",
   "execution_count": 24,
   "id": "9b972784-92e9-45a9-834b-26aab962c994",
   "metadata": {},
   "outputs": [
    {
     "name": "stdout",
     "output_type": "stream",
     "text": [
      "per il quartile da 50% a 75% il charges minimo è: 1135.9407\n",
      "per il quartile da 50% a 75% il charges medio è: 14323.550841999999\n",
      "per il quartile da 50% a 75% il charges massimo è: 60021.39897\n"
     ]
    }
   ],
   "source": [
    "inizio='50%'\n",
    "fine='75%'\n",
    "filtro_inizio=dfi.bmi>=bmid[inizio]\n",
    "filtro_fine=dfi.bmi<=bmid[fine]\n",
    "print('per il quartile da', inizio,'a', fine,'il charges minimo è:',dfi[(filtro_inizio)&(filtro_fine)].charges.min())\n",
    "print('per il quartile da', inizio,'a', fine,'il charges medio è:',dfi[(filtro_inizio)&(filtro_fine)].charges.mean())\n",
    "print('per il quartile da', inizio,'a', fine,'il charges massimo è:',dfi[(filtro_inizio)&(filtro_fine)].charges.max())"
   ]
  },
  {
   "cell_type": "code",
   "execution_count": 25,
   "id": "659a4a35-2012-41e9-b951-9c4d05ec646d",
   "metadata": {},
   "outputs": [
    {
     "name": "stdout",
     "output_type": "stream",
     "text": [
      "per il quartile da 75% a max il charges minimo è: 1141.4451\n",
      "per il quartile da 75% a max il charges medio è: 16987.936690955226\n",
      "per il quartile da 75% a max il charges massimo è: 63770.42801\n"
     ]
    }
   ],
   "source": [
    "inizio='75%'\n",
    "fine='max'\n",
    "filtro_inizio=dfi.bmi>=bmid[inizio]\n",
    "filtro_fine=dfi.bmi<=bmid[fine]\n",
    "print('per il quartile da', inizio,'a', fine,'il charges minimo è:',dfi[(filtro_inizio)&(filtro_fine)].charges.min())\n",
    "print('per il quartile da', inizio,'a', fine,'il charges medio è:',dfi[(filtro_inizio)&(filtro_fine)].charges.mean())\n",
    "print('per il quartile da', inizio,'a', fine,'il charges massimo è:',dfi[(filtro_inizio)&(filtro_fine)].charges.max())"
   ]
  },
  {
   "cell_type": "markdown",
   "id": "e04eb803-3268-4dbf-b14c-daff37e72545",
   "metadata": {},
   "source": [
    "# Esercizio \n",
    "Carichiamo in un DataFrame il dataset iris.csv dei beginner_datasets e calcoliamo:\n",
    "* La media della lunghezza dei petali di tutto il dataset\n",
    "* La media della lunghezza dei petali per ogni specie di Iris, utilizzando il metodo .groupby()\n",
    "* Media, minimo e massimo della larghezza dei sepali per ogni specie, utilizzando .groupby() e .agg()"
   ]
  },
  {
   "cell_type": "code",
   "execution_count": 26,
   "id": "12e7e7a7-bcd4-4678-83a3-1b7c5c333070",
   "metadata": {},
   "outputs": [
    {
     "data": {
      "text/html": [
       "<div>\n",
       "<style scoped>\n",
       "    .dataframe tbody tr th:only-of-type {\n",
       "        vertical-align: middle;\n",
       "    }\n",
       "\n",
       "    .dataframe tbody tr th {\n",
       "        vertical-align: top;\n",
       "    }\n",
       "\n",
       "    .dataframe thead th {\n",
       "        text-align: right;\n",
       "    }\n",
       "</style>\n",
       "<table border=\"1\" class=\"dataframe\">\n",
       "  <thead>\n",
       "    <tr style=\"text-align: right;\">\n",
       "      <th></th>\n",
       "      <th>sepal_length</th>\n",
       "      <th>sepal_width</th>\n",
       "      <th>petal_length</th>\n",
       "      <th>petal_width</th>\n",
       "      <th>species</th>\n",
       "    </tr>\n",
       "  </thead>\n",
       "  <tbody>\n",
       "    <tr>\n",
       "      <th>0</th>\n",
       "      <td>5.1</td>\n",
       "      <td>3.5</td>\n",
       "      <td>1.4</td>\n",
       "      <td>0.2</td>\n",
       "      <td>Iris-setosa</td>\n",
       "    </tr>\n",
       "    <tr>\n",
       "      <th>1</th>\n",
       "      <td>4.9</td>\n",
       "      <td>3.0</td>\n",
       "      <td>1.4</td>\n",
       "      <td>0.2</td>\n",
       "      <td>Iris-setosa</td>\n",
       "    </tr>\n",
       "    <tr>\n",
       "      <th>2</th>\n",
       "      <td>4.7</td>\n",
       "      <td>3.2</td>\n",
       "      <td>1.3</td>\n",
       "      <td>0.2</td>\n",
       "      <td>Iris-setosa</td>\n",
       "    </tr>\n",
       "    <tr>\n",
       "      <th>3</th>\n",
       "      <td>4.6</td>\n",
       "      <td>3.1</td>\n",
       "      <td>1.5</td>\n",
       "      <td>0.2</td>\n",
       "      <td>Iris-setosa</td>\n",
       "    </tr>\n",
       "    <tr>\n",
       "      <th>4</th>\n",
       "      <td>5.0</td>\n",
       "      <td>3.6</td>\n",
       "      <td>1.4</td>\n",
       "      <td>0.2</td>\n",
       "      <td>Iris-setosa</td>\n",
       "    </tr>\n",
       "    <tr>\n",
       "      <th>...</th>\n",
       "      <td>...</td>\n",
       "      <td>...</td>\n",
       "      <td>...</td>\n",
       "      <td>...</td>\n",
       "      <td>...</td>\n",
       "    </tr>\n",
       "    <tr>\n",
       "      <th>145</th>\n",
       "      <td>6.7</td>\n",
       "      <td>3.0</td>\n",
       "      <td>5.2</td>\n",
       "      <td>2.3</td>\n",
       "      <td>Iris-virginica</td>\n",
       "    </tr>\n",
       "    <tr>\n",
       "      <th>146</th>\n",
       "      <td>6.3</td>\n",
       "      <td>2.5</td>\n",
       "      <td>5.0</td>\n",
       "      <td>1.9</td>\n",
       "      <td>Iris-virginica</td>\n",
       "    </tr>\n",
       "    <tr>\n",
       "      <th>147</th>\n",
       "      <td>6.5</td>\n",
       "      <td>3.0</td>\n",
       "      <td>5.2</td>\n",
       "      <td>2.0</td>\n",
       "      <td>Iris-virginica</td>\n",
       "    </tr>\n",
       "    <tr>\n",
       "      <th>148</th>\n",
       "      <td>6.2</td>\n",
       "      <td>3.4</td>\n",
       "      <td>5.4</td>\n",
       "      <td>2.3</td>\n",
       "      <td>Iris-virginica</td>\n",
       "    </tr>\n",
       "    <tr>\n",
       "      <th>149</th>\n",
       "      <td>5.9</td>\n",
       "      <td>3.0</td>\n",
       "      <td>5.1</td>\n",
       "      <td>1.8</td>\n",
       "      <td>Iris-virginica</td>\n",
       "    </tr>\n",
       "  </tbody>\n",
       "</table>\n",
       "<p>150 rows × 5 columns</p>\n",
       "</div>"
      ],
      "text/plain": [
       "     sepal_length  sepal_width  petal_length  petal_width         species\n",
       "0             5.1          3.5           1.4          0.2     Iris-setosa\n",
       "1             4.9          3.0           1.4          0.2     Iris-setosa\n",
       "2             4.7          3.2           1.3          0.2     Iris-setosa\n",
       "3             4.6          3.1           1.5          0.2     Iris-setosa\n",
       "4             5.0          3.6           1.4          0.2     Iris-setosa\n",
       "..            ...          ...           ...          ...             ...\n",
       "145           6.7          3.0           5.2          2.3  Iris-virginica\n",
       "146           6.3          2.5           5.0          1.9  Iris-virginica\n",
       "147           6.5          3.0           5.2          2.0  Iris-virginica\n",
       "148           6.2          3.4           5.4          2.3  Iris-virginica\n",
       "149           5.9          3.0           5.1          1.8  Iris-virginica\n",
       "\n",
       "[150 rows x 5 columns]"
      ]
     },
     "execution_count": 26,
     "metadata": {},
     "output_type": "execute_result"
    }
   ],
   "source": [
    "import pandas as pd\n",
    "import os\n",
    "percorso_attuale=os.getcwd()\n",
    "path='/beginner_datasets/iris.csv'\n",
    "dfiris=pd.read_csv(percorso_attuale+path)\n",
    "dfiris"
   ]
  },
  {
   "cell_type": "code",
   "execution_count": 27,
   "id": "fe707927-b40a-4b9d-9888-3fa3833f2b22",
   "metadata": {},
   "outputs": [
    {
     "name": "stdout",
     "output_type": "stream",
     "text": [
      "La media della lunghezza dei petali di tutto il dataset è: 3.758666666666666\n"
     ]
    }
   ],
   "source": [
    "print('La media della lunghezza dei petali di tutto il dataset è:', dfiris.petal_length.mean())"
   ]
  },
  {
   "cell_type": "code",
   "execution_count": 28,
   "id": "e489e01d-bb23-489f-a8f0-a7bce0f5caef",
   "metadata": {},
   "outputs": [
    {
     "data": {
      "text/plain": [
       "species\n",
       "Iris-setosa        1.464\n",
       "Iris-versicolor    4.260\n",
       "Iris-virginica     5.552\n",
       "Name: petal_length, dtype: float64"
      ]
     },
     "execution_count": 28,
     "metadata": {},
     "output_type": "execute_result"
    }
   ],
   "source": [
    "dfiris.groupby('species').petal_length.mean()  # media della lunghezza dei petali per ogni specie"
   ]
  },
  {
   "cell_type": "code",
   "execution_count": 29,
   "id": "86e08ab2-e265-494d-9336-e40f4c22263c",
   "metadata": {},
   "outputs": [
    {
     "data": {
      "text/html": [
       "<div>\n",
       "<style scoped>\n",
       "    .dataframe tbody tr th:only-of-type {\n",
       "        vertical-align: middle;\n",
       "    }\n",
       "\n",
       "    .dataframe tbody tr th {\n",
       "        vertical-align: top;\n",
       "    }\n",
       "\n",
       "    .dataframe thead th {\n",
       "        text-align: right;\n",
       "    }\n",
       "</style>\n",
       "<table border=\"1\" class=\"dataframe\">\n",
       "  <thead>\n",
       "    <tr style=\"text-align: right;\">\n",
       "      <th></th>\n",
       "      <th>mean</th>\n",
       "      <th>min</th>\n",
       "      <th>max</th>\n",
       "    </tr>\n",
       "    <tr>\n",
       "      <th>species</th>\n",
       "      <th></th>\n",
       "      <th></th>\n",
       "      <th></th>\n",
       "    </tr>\n",
       "  </thead>\n",
       "  <tbody>\n",
       "    <tr>\n",
       "      <th>Iris-setosa</th>\n",
       "      <td>3.418</td>\n",
       "      <td>2.3</td>\n",
       "      <td>4.4</td>\n",
       "    </tr>\n",
       "    <tr>\n",
       "      <th>Iris-versicolor</th>\n",
       "      <td>2.770</td>\n",
       "      <td>2.0</td>\n",
       "      <td>3.4</td>\n",
       "    </tr>\n",
       "    <tr>\n",
       "      <th>Iris-virginica</th>\n",
       "      <td>2.974</td>\n",
       "      <td>2.2</td>\n",
       "      <td>3.8</td>\n",
       "    </tr>\n",
       "  </tbody>\n",
       "</table>\n",
       "</div>"
      ],
      "text/plain": [
       "                  mean  min  max\n",
       "species                         \n",
       "Iris-setosa      3.418  2.3  4.4\n",
       "Iris-versicolor  2.770  2.0  3.4\n",
       "Iris-virginica   2.974  2.2  3.8"
      ]
     },
     "execution_count": 29,
     "metadata": {},
     "output_type": "execute_result"
    }
   ],
   "source": [
    "dfiris.groupby('species').sepal_width.agg(['mean','min','max']) # media,minimo e massima larghezza dei sepali per ogni specie"
   ]
  },
  {
   "cell_type": "markdown",
   "id": "a8e276f7-bf30-4c5c-90bb-b35523e99333",
   "metadata": {},
   "source": [
    "# Esercizio \n",
    "Nei beginner_datasets, il dataset wine.csv contiene delle analisi organolettiche su diverse qualità di vini:\n",
    "* Qual è la media di concentrazione alcolica per ogni qualità? Ci sono differenze? E rispetto alla media totale?\n",
    "* C'è differenza nella concentrazione alcolica per vini bianchi e vini rossi?\n",
    "* Rifacendo le analisi delle domande precedenti ma per il pH, cambia qualcosa?\n",
    "* E per i solfati?"
   ]
  },
  {
   "cell_type": "code",
   "execution_count": 30,
   "id": "749e3ab8-10a5-4958-9f9f-711225ca342c",
   "metadata": {},
   "outputs": [],
   "source": [
    "percorso_attuale=os.getcwd()\n",
    "path='/beginner_datasets/wine.csv'\n",
    "dfw=pd.read_csv(percorso_attuale+path)"
   ]
  },
  {
   "cell_type": "code",
   "execution_count": 31,
   "id": "2b34bd7d-b872-422c-8e2e-75d3c4021aa4",
   "metadata": {},
   "outputs": [
    {
     "data": {
      "text/plain": [
       "(6497, 13)"
      ]
     },
     "execution_count": 31,
     "metadata": {},
     "output_type": "execute_result"
    }
   ],
   "source": [
    "dfw.shape"
   ]
  },
  {
   "cell_type": "code",
   "execution_count": 32,
   "id": "cf0b7917-2b72-49e6-a35f-ddd69bdce159",
   "metadata": {},
   "outputs": [
    {
     "data": {
      "text/plain": [
       "Index(['fixed acidity', 'volatile acidity', 'citric acid', 'residual sugar',\n",
       "       'chlorides', 'free sulfur dioxide', 'total sulfur dioxide', 'density',\n",
       "       'pH', 'sulphates', 'alcohol', 'quality', 'type'],\n",
       "      dtype='object')"
      ]
     },
     "execution_count": 32,
     "metadata": {},
     "output_type": "execute_result"
    }
   ],
   "source": [
    "dfw.columns"
   ]
  },
  {
   "cell_type": "code",
   "execution_count": 33,
   "id": "a505455b-becd-46f8-9355-30618417b153",
   "metadata": {},
   "outputs": [
    {
     "data": {
      "text/html": [
       "<div>\n",
       "<style scoped>\n",
       "    .dataframe tbody tr th:only-of-type {\n",
       "        vertical-align: middle;\n",
       "    }\n",
       "\n",
       "    .dataframe tbody tr th {\n",
       "        vertical-align: top;\n",
       "    }\n",
       "\n",
       "    .dataframe thead th {\n",
       "        text-align: right;\n",
       "    }\n",
       "</style>\n",
       "<table border=\"1\" class=\"dataframe\">\n",
       "  <thead>\n",
       "    <tr style=\"text-align: right;\">\n",
       "      <th></th>\n",
       "      <th>fixed acidity</th>\n",
       "      <th>volatile acidity</th>\n",
       "      <th>citric acid</th>\n",
       "      <th>residual sugar</th>\n",
       "      <th>chlorides</th>\n",
       "      <th>free sulfur dioxide</th>\n",
       "      <th>total sulfur dioxide</th>\n",
       "      <th>density</th>\n",
       "      <th>pH</th>\n",
       "      <th>sulphates</th>\n",
       "      <th>alcohol</th>\n",
       "      <th>quality</th>\n",
       "      <th>type</th>\n",
       "    </tr>\n",
       "  </thead>\n",
       "  <tbody>\n",
       "    <tr>\n",
       "      <th>451</th>\n",
       "      <td>8.4</td>\n",
       "      <td>0.37</td>\n",
       "      <td>0.53</td>\n",
       "      <td>1.8</td>\n",
       "      <td>0.413</td>\n",
       "      <td>9.0</td>\n",
       "      <td>26.0</td>\n",
       "      <td>0.99790</td>\n",
       "      <td>3.06</td>\n",
       "      <td>1.06</td>\n",
       "      <td>9.1</td>\n",
       "      <td>6</td>\n",
       "      <td>red</td>\n",
       "    </tr>\n",
       "    <tr>\n",
       "      <th>4994</th>\n",
       "      <td>6.6</td>\n",
       "      <td>0.26</td>\n",
       "      <td>0.46</td>\n",
       "      <td>7.8</td>\n",
       "      <td>0.047</td>\n",
       "      <td>48.0</td>\n",
       "      <td>186.0</td>\n",
       "      <td>0.99580</td>\n",
       "      <td>3.20</td>\n",
       "      <td>0.54</td>\n",
       "      <td>9.1</td>\n",
       "      <td>5</td>\n",
       "      <td>white</td>\n",
       "    </tr>\n",
       "    <tr>\n",
       "      <th>3901</th>\n",
       "      <td>6.0</td>\n",
       "      <td>0.26</td>\n",
       "      <td>0.18</td>\n",
       "      <td>7.0</td>\n",
       "      <td>0.055</td>\n",
       "      <td>50.0</td>\n",
       "      <td>194.0</td>\n",
       "      <td>0.99591</td>\n",
       "      <td>3.21</td>\n",
       "      <td>0.43</td>\n",
       "      <td>9.0</td>\n",
       "      <td>5</td>\n",
       "      <td>white</td>\n",
       "    </tr>\n",
       "    <tr>\n",
       "      <th>1891</th>\n",
       "      <td>7.4</td>\n",
       "      <td>0.28</td>\n",
       "      <td>0.42</td>\n",
       "      <td>19.8</td>\n",
       "      <td>0.066</td>\n",
       "      <td>53.0</td>\n",
       "      <td>195.0</td>\n",
       "      <td>1.00000</td>\n",
       "      <td>2.96</td>\n",
       "      <td>0.44</td>\n",
       "      <td>9.1</td>\n",
       "      <td>5</td>\n",
       "      <td>white</td>\n",
       "    </tr>\n",
       "    <tr>\n",
       "      <th>684</th>\n",
       "      <td>9.8</td>\n",
       "      <td>0.98</td>\n",
       "      <td>0.32</td>\n",
       "      <td>2.3</td>\n",
       "      <td>0.078</td>\n",
       "      <td>35.0</td>\n",
       "      <td>152.0</td>\n",
       "      <td>0.99800</td>\n",
       "      <td>3.25</td>\n",
       "      <td>0.48</td>\n",
       "      <td>9.4</td>\n",
       "      <td>5</td>\n",
       "      <td>red</td>\n",
       "    </tr>\n",
       "    <tr>\n",
       "      <th>4056</th>\n",
       "      <td>8.1</td>\n",
       "      <td>0.33</td>\n",
       "      <td>0.36</td>\n",
       "      <td>7.4</td>\n",
       "      <td>0.037</td>\n",
       "      <td>36.0</td>\n",
       "      <td>156.0</td>\n",
       "      <td>0.99592</td>\n",
       "      <td>3.19</td>\n",
       "      <td>0.54</td>\n",
       "      <td>10.6</td>\n",
       "      <td>6</td>\n",
       "      <td>white</td>\n",
       "    </tr>\n",
       "    <tr>\n",
       "      <th>1228</th>\n",
       "      <td>5.1</td>\n",
       "      <td>0.42</td>\n",
       "      <td>0.00</td>\n",
       "      <td>1.8</td>\n",
       "      <td>0.044</td>\n",
       "      <td>18.0</td>\n",
       "      <td>88.0</td>\n",
       "      <td>0.99157</td>\n",
       "      <td>3.68</td>\n",
       "      <td>0.73</td>\n",
       "      <td>13.6</td>\n",
       "      <td>7</td>\n",
       "      <td>red</td>\n",
       "    </tr>\n",
       "    <tr>\n",
       "      <th>4054</th>\n",
       "      <td>7.8</td>\n",
       "      <td>0.32</td>\n",
       "      <td>0.33</td>\n",
       "      <td>10.4</td>\n",
       "      <td>0.031</td>\n",
       "      <td>47.0</td>\n",
       "      <td>194.0</td>\n",
       "      <td>0.99692</td>\n",
       "      <td>3.07</td>\n",
       "      <td>0.58</td>\n",
       "      <td>9.6</td>\n",
       "      <td>6</td>\n",
       "      <td>white</td>\n",
       "    </tr>\n",
       "    <tr>\n",
       "      <th>1656</th>\n",
       "      <td>6.0</td>\n",
       "      <td>0.19</td>\n",
       "      <td>0.26</td>\n",
       "      <td>12.4</td>\n",
       "      <td>0.048</td>\n",
       "      <td>50.0</td>\n",
       "      <td>147.0</td>\n",
       "      <td>0.99720</td>\n",
       "      <td>3.30</td>\n",
       "      <td>0.36</td>\n",
       "      <td>8.9</td>\n",
       "      <td>6</td>\n",
       "      <td>white</td>\n",
       "    </tr>\n",
       "    <tr>\n",
       "      <th>2367</th>\n",
       "      <td>6.7</td>\n",
       "      <td>0.11</td>\n",
       "      <td>0.34</td>\n",
       "      <td>8.8</td>\n",
       "      <td>0.043</td>\n",
       "      <td>41.0</td>\n",
       "      <td>113.0</td>\n",
       "      <td>0.99620</td>\n",
       "      <td>3.42</td>\n",
       "      <td>0.40</td>\n",
       "      <td>9.3</td>\n",
       "      <td>7</td>\n",
       "      <td>white</td>\n",
       "    </tr>\n",
       "  </tbody>\n",
       "</table>\n",
       "</div>"
      ],
      "text/plain": [
       "      fixed acidity  volatile acidity  citric acid  residual sugar  chlorides  \\\n",
       "451             8.4              0.37         0.53             1.8      0.413   \n",
       "4994            6.6              0.26         0.46             7.8      0.047   \n",
       "3901            6.0              0.26         0.18             7.0      0.055   \n",
       "1891            7.4              0.28         0.42            19.8      0.066   \n",
       "684             9.8              0.98         0.32             2.3      0.078   \n",
       "4056            8.1              0.33         0.36             7.4      0.037   \n",
       "1228            5.1              0.42         0.00             1.8      0.044   \n",
       "4054            7.8              0.32         0.33            10.4      0.031   \n",
       "1656            6.0              0.19         0.26            12.4      0.048   \n",
       "2367            6.7              0.11         0.34             8.8      0.043   \n",
       "\n",
       "      free sulfur dioxide  total sulfur dioxide  density    pH  sulphates  \\\n",
       "451                   9.0                  26.0  0.99790  3.06       1.06   \n",
       "4994                 48.0                 186.0  0.99580  3.20       0.54   \n",
       "3901                 50.0                 194.0  0.99591  3.21       0.43   \n",
       "1891                 53.0                 195.0  1.00000  2.96       0.44   \n",
       "684                  35.0                 152.0  0.99800  3.25       0.48   \n",
       "4056                 36.0                 156.0  0.99592  3.19       0.54   \n",
       "1228                 18.0                  88.0  0.99157  3.68       0.73   \n",
       "4054                 47.0                 194.0  0.99692  3.07       0.58   \n",
       "1656                 50.0                 147.0  0.99720  3.30       0.36   \n",
       "2367                 41.0                 113.0  0.99620  3.42       0.40   \n",
       "\n",
       "      alcohol  quality   type  \n",
       "451       9.1        6    red  \n",
       "4994      9.1        5  white  \n",
       "3901      9.0        5  white  \n",
       "1891      9.1        5  white  \n",
       "684       9.4        5    red  \n",
       "4056     10.6        6  white  \n",
       "1228     13.6        7    red  \n",
       "4054      9.6        6  white  \n",
       "1656      8.9        6  white  \n",
       "2367      9.3        7  white  "
      ]
     },
     "execution_count": 33,
     "metadata": {},
     "output_type": "execute_result"
    }
   ],
   "source": [
    "dfw.sample(10)"
   ]
  },
  {
   "cell_type": "code",
   "execution_count": 34,
   "id": "48d1f92f-731e-4401-8016-4c2f5f3b82dd",
   "metadata": {},
   "outputs": [
    {
     "data": {
      "text/plain": [
       "quality\n",
       "3    10.215000\n",
       "4    10.180093\n",
       "5     9.837783\n",
       "6    10.587553\n",
       "7    11.386006\n",
       "8    11.678756\n",
       "9    12.180000\n",
       "Name: alcohol, dtype: float64"
      ]
     },
     "execution_count": 34,
     "metadata": {},
     "output_type": "execute_result"
    }
   ],
   "source": [
    "dfw.groupby('quality')['alcohol'].mean() # la concetrazione alcolica tende ad aumentare con la qualità ci sono differenze"
   ]
  },
  {
   "cell_type": "code",
   "execution_count": 35,
   "id": "83408668-68d0-45ec-9c5d-ea3a434d8ef6",
   "metadata": {},
   "outputs": [
    {
     "data": {
      "text/plain": [
       "10.491800831149453"
      ]
     },
     "execution_count": 35,
     "metadata": {},
     "output_type": "execute_result"
    }
   ],
   "source": [
    "dfw['alcohol'].mean()"
   ]
  },
  {
   "cell_type": "code",
   "execution_count": 36,
   "id": "62628b9b-c73d-4292-8ddd-85050610acfc",
   "metadata": {},
   "outputs": [
    {
     "data": {
      "text/plain": [
       "type\n",
       "red      10.422983\n",
       "white    10.514267\n",
       "Name: alcohol, dtype: float64"
      ]
     },
     "execution_count": 36,
     "metadata": {},
     "output_type": "execute_result"
    }
   ],
   "source": [
    "dfw.groupby('type')['alcohol'].mean() # la concentrazione alcolica tra vini bianchi e rossi è sostanzialemte uguale"
   ]
  },
  {
   "cell_type": "code",
   "execution_count": 37,
   "id": "5e2fe100-2103-43e5-b0ad-3e5f4b6e3c6f",
   "metadata": {},
   "outputs": [
    {
     "data": {
      "text/plain": [
       "quality\n",
       "3    10.215000\n",
       "4    10.180093\n",
       "5     9.837783\n",
       "6    10.587553\n",
       "7    11.386006\n",
       "8    11.678756\n",
       "9    12.180000\n",
       "Name: alcohol, dtype: float64"
      ]
     },
     "execution_count": 37,
     "metadata": {},
     "output_type": "execute_result"
    }
   ],
   "source": [
    "dfw.groupby('quality')['alcohol'].mean()"
   ]
  },
  {
   "cell_type": "code",
   "execution_count": 38,
   "id": "18686fd2-f7aa-4c31-92f5-88979e3719a2",
   "metadata": {},
   "outputs": [
    {
     "data": {
      "text/plain": [
       "quality\n",
       "3    3.257667\n",
       "4    3.231620\n",
       "5    3.212189\n",
       "6    3.217726\n",
       "7    3.228072\n",
       "8    3.223212\n",
       "9    3.308000\n",
       "Name: pH, dtype: float64"
      ]
     },
     "execution_count": 38,
     "metadata": {},
     "output_type": "execute_result"
    }
   ],
   "source": [
    "dfw.groupby('quality')['pH'].mean() # le differenze di ph sono minime"
   ]
  },
  {
   "cell_type": "code",
   "execution_count": 39,
   "id": "7820b5d7-de03-4b1e-ba02-c6bb4377faed",
   "metadata": {},
   "outputs": [
    {
     "data": {
      "text/plain": [
       "3.2185008465445586"
      ]
     },
     "execution_count": 39,
     "metadata": {},
     "output_type": "execute_result"
    }
   ],
   "source": [
    "dfw['pH'].mean()"
   ]
  },
  {
   "cell_type": "code",
   "execution_count": 40,
   "id": "dbfed30c-76d1-4806-82e3-70c5e04a70d8",
   "metadata": {},
   "outputs": [
    {
     "data": {
      "text/plain": [
       "type\n",
       "red      3.311113\n",
       "white    3.188267\n",
       "Name: pH, dtype: float64"
      ]
     },
     "execution_count": 40,
     "metadata": {},
     "output_type": "execute_result"
    }
   ],
   "source": [
    "dfw.groupby('type')['pH'].mean() # i vini bianchi sono più acidi dei rossi"
   ]
  },
  {
   "cell_type": "code",
   "execution_count": 41,
   "id": "faea3b30-4a43-46c0-8fb4-a5203e335a2b",
   "metadata": {},
   "outputs": [
    {
     "data": {
      "text/plain": [
       "quality\n",
       "3    0.506333\n",
       "4    0.505648\n",
       "5    0.526403\n",
       "6    0.532549\n",
       "7    0.547025\n",
       "8    0.512487\n",
       "9    0.466000\n",
       "Name: sulphates, dtype: float64"
      ]
     },
     "execution_count": 41,
     "metadata": {},
     "output_type": "execute_result"
    }
   ],
   "source": [
    "dfw.groupby('quality')['sulphates'].mean() # i solifiti diminuiscono con l'aumentare della qualità"
   ]
  },
  {
   "cell_type": "code",
   "execution_count": 42,
   "id": "73875fa2-a676-44e3-9aa2-c0edeb76e155",
   "metadata": {},
   "outputs": [
    {
     "data": {
      "text/plain": [
       "0.5312682776666154"
      ]
     },
     "execution_count": 42,
     "metadata": {},
     "output_type": "execute_result"
    }
   ],
   "source": [
    "dfw['sulphates'].mean()"
   ]
  },
  {
   "cell_type": "code",
   "execution_count": 43,
   "id": "c4f46d1d-dd24-4696-9ba4-1eb297364f89",
   "metadata": {},
   "outputs": [
    {
     "data": {
      "text/plain": [
       "type\n",
       "red      0.658149\n",
       "white    0.489847\n",
       "Name: sulphates, dtype: float64"
      ]
     },
     "execution_count": 43,
     "metadata": {},
     "output_type": "execute_result"
    }
   ],
   "source": [
    "dfw.groupby('type')['sulphates'].mean() #i vini bianchi hanno una più bassa concetrazione di solfiti"
   ]
  },
  {
   "cell_type": "markdown",
   "id": "8f5ec2cd-4cb4-4991-a064-912966b257c2",
   "metadata": {},
   "source": [
    "# Esercizio 1/3 \n",
    "Nei beginner_datasets, il file boston.csv contiene il Boston Housing Dataset, che deriva dalle informazioni raccolte dal Census Service degli Stati Uniti sulle abitazioni nell'area di Boston. Di seguito vengono descritte le colonne del dataset:\n",
    "* CRIM - tasso di criminalità pro capite per città\n",
    "* ZN - proporzione di terreni residenziali suddivisi in zone per lotti superiori a 25.000 piedi quadrati.\n",
    "* INDUS - percentuale di acri di attività commerciali non al dettaglio per città.\n",
    "* CHAS - variabile dummy del fiume Charles (1 se il tratto costeggia il fiume; 0 altrimenti)"
   ]
  },
  {
   "cell_type": "markdown",
   "id": "fc7b12ed-d539-4e47-88c9-17f01211b204",
   "metadata": {},
   "source": [
    "# Esercizio 2/3\n",
    "* NOX - concentrazione di ossidi di azoto (parti per 10 milioni).\n",
    "* RM - numero medio di stanze per abitazione\n",
    "* AGE - proporzione di unità abitative occupate da proprietari costruite prima del 1940\n",
    "* DIS - distanze ponderate da cinque centri occupazionali di Boston\n",
    "* RAD - indice di accessibilità alle autostrade radiali\n",
    "* TAX - aliquota dell'imposta fondiaria sul valore pieno per 10.000 dollari\n",
    "* PTRATIO - rapporto alunni-insegnanti per città\n",
    "* BLACK - la percentuale di neri per città\n",
    "* LSTAT - % di popolazione di condizione più bassa\n",
    "* MEDV - Valore mediano delle case, espresso in migliaia di dollari"
   ]
  },
  {
   "cell_type": "code",
   "execution_count": 44,
   "id": "97f437fe-120b-43aa-bb46-64cf88bae614",
   "metadata": {},
   "outputs": [
    {
     "data": {
      "text/html": [
       "<div>\n",
       "<style scoped>\n",
       "    .dataframe tbody tr th:only-of-type {\n",
       "        vertical-align: middle;\n",
       "    }\n",
       "\n",
       "    .dataframe tbody tr th {\n",
       "        vertical-align: top;\n",
       "    }\n",
       "\n",
       "    .dataframe thead th {\n",
       "        text-align: right;\n",
       "    }\n",
       "</style>\n",
       "<table border=\"1\" class=\"dataframe\">\n",
       "  <thead>\n",
       "    <tr style=\"text-align: right;\">\n",
       "      <th></th>\n",
       "      <th>crim</th>\n",
       "      <th>zn</th>\n",
       "      <th>indus</th>\n",
       "      <th>chas</th>\n",
       "      <th>nox</th>\n",
       "      <th>rm</th>\n",
       "      <th>age</th>\n",
       "      <th>dis</th>\n",
       "      <th>rad</th>\n",
       "      <th>tax</th>\n",
       "      <th>ptratio</th>\n",
       "      <th>black</th>\n",
       "      <th>lstat</th>\n",
       "      <th>medv</th>\n",
       "    </tr>\n",
       "  </thead>\n",
       "  <tbody>\n",
       "    <tr>\n",
       "      <th>0</th>\n",
       "      <td>0.00632</td>\n",
       "      <td>18.0</td>\n",
       "      <td>2.31</td>\n",
       "      <td>0</td>\n",
       "      <td>0.538</td>\n",
       "      <td>6.575</td>\n",
       "      <td>65.2</td>\n",
       "      <td>4.0900</td>\n",
       "      <td>1</td>\n",
       "      <td>296</td>\n",
       "      <td>15.3</td>\n",
       "      <td>396.90</td>\n",
       "      <td>4.98</td>\n",
       "      <td>24.0</td>\n",
       "    </tr>\n",
       "    <tr>\n",
       "      <th>1</th>\n",
       "      <td>0.02731</td>\n",
       "      <td>0.0</td>\n",
       "      <td>7.07</td>\n",
       "      <td>0</td>\n",
       "      <td>0.469</td>\n",
       "      <td>6.421</td>\n",
       "      <td>78.9</td>\n",
       "      <td>4.9671</td>\n",
       "      <td>2</td>\n",
       "      <td>242</td>\n",
       "      <td>17.8</td>\n",
       "      <td>396.90</td>\n",
       "      <td>9.14</td>\n",
       "      <td>21.6</td>\n",
       "    </tr>\n",
       "    <tr>\n",
       "      <th>2</th>\n",
       "      <td>0.02729</td>\n",
       "      <td>0.0</td>\n",
       "      <td>7.07</td>\n",
       "      <td>0</td>\n",
       "      <td>0.469</td>\n",
       "      <td>7.185</td>\n",
       "      <td>61.1</td>\n",
       "      <td>4.9671</td>\n",
       "      <td>2</td>\n",
       "      <td>242</td>\n",
       "      <td>17.8</td>\n",
       "      <td>392.83</td>\n",
       "      <td>4.03</td>\n",
       "      <td>34.7</td>\n",
       "    </tr>\n",
       "    <tr>\n",
       "      <th>3</th>\n",
       "      <td>0.03237</td>\n",
       "      <td>0.0</td>\n",
       "      <td>2.18</td>\n",
       "      <td>0</td>\n",
       "      <td>0.458</td>\n",
       "      <td>6.998</td>\n",
       "      <td>45.8</td>\n",
       "      <td>6.0622</td>\n",
       "      <td>3</td>\n",
       "      <td>222</td>\n",
       "      <td>18.7</td>\n",
       "      <td>394.63</td>\n",
       "      <td>2.94</td>\n",
       "      <td>33.4</td>\n",
       "    </tr>\n",
       "    <tr>\n",
       "      <th>4</th>\n",
       "      <td>0.06905</td>\n",
       "      <td>0.0</td>\n",
       "      <td>2.18</td>\n",
       "      <td>0</td>\n",
       "      <td>0.458</td>\n",
       "      <td>7.147</td>\n",
       "      <td>54.2</td>\n",
       "      <td>6.0622</td>\n",
       "      <td>3</td>\n",
       "      <td>222</td>\n",
       "      <td>18.7</td>\n",
       "      <td>396.90</td>\n",
       "      <td>5.33</td>\n",
       "      <td>36.2</td>\n",
       "    </tr>\n",
       "    <tr>\n",
       "      <th>...</th>\n",
       "      <td>...</td>\n",
       "      <td>...</td>\n",
       "      <td>...</td>\n",
       "      <td>...</td>\n",
       "      <td>...</td>\n",
       "      <td>...</td>\n",
       "      <td>...</td>\n",
       "      <td>...</td>\n",
       "      <td>...</td>\n",
       "      <td>...</td>\n",
       "      <td>...</td>\n",
       "      <td>...</td>\n",
       "      <td>...</td>\n",
       "      <td>...</td>\n",
       "    </tr>\n",
       "    <tr>\n",
       "      <th>501</th>\n",
       "      <td>0.06263</td>\n",
       "      <td>0.0</td>\n",
       "      <td>11.93</td>\n",
       "      <td>0</td>\n",
       "      <td>0.573</td>\n",
       "      <td>6.593</td>\n",
       "      <td>69.1</td>\n",
       "      <td>2.4786</td>\n",
       "      <td>1</td>\n",
       "      <td>273</td>\n",
       "      <td>21.0</td>\n",
       "      <td>391.99</td>\n",
       "      <td>9.67</td>\n",
       "      <td>22.4</td>\n",
       "    </tr>\n",
       "    <tr>\n",
       "      <th>502</th>\n",
       "      <td>0.04527</td>\n",
       "      <td>0.0</td>\n",
       "      <td>11.93</td>\n",
       "      <td>0</td>\n",
       "      <td>0.573</td>\n",
       "      <td>6.120</td>\n",
       "      <td>76.7</td>\n",
       "      <td>2.2875</td>\n",
       "      <td>1</td>\n",
       "      <td>273</td>\n",
       "      <td>21.0</td>\n",
       "      <td>396.90</td>\n",
       "      <td>9.08</td>\n",
       "      <td>20.6</td>\n",
       "    </tr>\n",
       "    <tr>\n",
       "      <th>503</th>\n",
       "      <td>0.06076</td>\n",
       "      <td>0.0</td>\n",
       "      <td>11.93</td>\n",
       "      <td>0</td>\n",
       "      <td>0.573</td>\n",
       "      <td>6.976</td>\n",
       "      <td>91.0</td>\n",
       "      <td>2.1675</td>\n",
       "      <td>1</td>\n",
       "      <td>273</td>\n",
       "      <td>21.0</td>\n",
       "      <td>396.90</td>\n",
       "      <td>5.64</td>\n",
       "      <td>23.9</td>\n",
       "    </tr>\n",
       "    <tr>\n",
       "      <th>504</th>\n",
       "      <td>0.10959</td>\n",
       "      <td>0.0</td>\n",
       "      <td>11.93</td>\n",
       "      <td>0</td>\n",
       "      <td>0.573</td>\n",
       "      <td>6.794</td>\n",
       "      <td>89.3</td>\n",
       "      <td>2.3889</td>\n",
       "      <td>1</td>\n",
       "      <td>273</td>\n",
       "      <td>21.0</td>\n",
       "      <td>393.45</td>\n",
       "      <td>6.48</td>\n",
       "      <td>22.0</td>\n",
       "    </tr>\n",
       "    <tr>\n",
       "      <th>505</th>\n",
       "      <td>0.04741</td>\n",
       "      <td>0.0</td>\n",
       "      <td>11.93</td>\n",
       "      <td>0</td>\n",
       "      <td>0.573</td>\n",
       "      <td>6.030</td>\n",
       "      <td>80.8</td>\n",
       "      <td>2.5050</td>\n",
       "      <td>1</td>\n",
       "      <td>273</td>\n",
       "      <td>21.0</td>\n",
       "      <td>396.90</td>\n",
       "      <td>7.88</td>\n",
       "      <td>11.9</td>\n",
       "    </tr>\n",
       "  </tbody>\n",
       "</table>\n",
       "<p>506 rows × 14 columns</p>\n",
       "</div>"
      ],
      "text/plain": [
       "        crim    zn  indus  chas    nox     rm   age     dis  rad  tax  \\\n",
       "0    0.00632  18.0   2.31     0  0.538  6.575  65.2  4.0900    1  296   \n",
       "1    0.02731   0.0   7.07     0  0.469  6.421  78.9  4.9671    2  242   \n",
       "2    0.02729   0.0   7.07     0  0.469  7.185  61.1  4.9671    2  242   \n",
       "3    0.03237   0.0   2.18     0  0.458  6.998  45.8  6.0622    3  222   \n",
       "4    0.06905   0.0   2.18     0  0.458  7.147  54.2  6.0622    3  222   \n",
       "..       ...   ...    ...   ...    ...    ...   ...     ...  ...  ...   \n",
       "501  0.06263   0.0  11.93     0  0.573  6.593  69.1  2.4786    1  273   \n",
       "502  0.04527   0.0  11.93     0  0.573  6.120  76.7  2.2875    1  273   \n",
       "503  0.06076   0.0  11.93     0  0.573  6.976  91.0  2.1675    1  273   \n",
       "504  0.10959   0.0  11.93     0  0.573  6.794  89.3  2.3889    1  273   \n",
       "505  0.04741   0.0  11.93     0  0.573  6.030  80.8  2.5050    1  273   \n",
       "\n",
       "     ptratio   black  lstat  medv  \n",
       "0       15.3  396.90   4.98  24.0  \n",
       "1       17.8  396.90   9.14  21.6  \n",
       "2       17.8  392.83   4.03  34.7  \n",
       "3       18.7  394.63   2.94  33.4  \n",
       "4       18.7  396.90   5.33  36.2  \n",
       "..       ...     ...    ...   ...  \n",
       "501     21.0  391.99   9.67  22.4  \n",
       "502     21.0  396.90   9.08  20.6  \n",
       "503     21.0  396.90   5.64  23.9  \n",
       "504     21.0  393.45   6.48  22.0  \n",
       "505     21.0  396.90   7.88  11.9  \n",
       "\n",
       "[506 rows x 14 columns]"
      ]
     },
     "execution_count": 44,
     "metadata": {},
     "output_type": "execute_result"
    }
   ],
   "source": [
    "import pandas as pd\n",
    "import os\n",
    "percorso_attuale=os.getcwd()\n",
    "path='/beginner_datasets/boston.csv'\n",
    "dfb=pd.read_csv(percorso_attuale+path)\n",
    "dfb"
   ]
  },
  {
   "cell_type": "code",
   "execution_count": 45,
   "id": "c869bc41-7106-4962-adec-5dd5d161fe8e",
   "metadata": {},
   "outputs": [
    {
     "name": "stdout",
     "output_type": "stream",
     "text": [
      "il costo medio per le case distanti dal fiume Charles è: 22093.842887473464 $\n",
      "il costo medio per le case sul fiume Charles è: 28439.999999999996 $\n",
      "la differenza del costo medio dele case sul fiume rispetto a quelle più distanti è: 6346.157112526533 $\n"
     ]
    }
   ],
   "source": [
    "case_distanti=dfb.groupby('chas').medv.mean()[0]*1000\n",
    "case_fiume=dfb.groupby('chas').medv.mean()[1]*1000\n",
    "print('il costo medio per le case distanti dal fiume Charles è:',case_distanti,'$')\n",
    "print('il costo medio per le case sul fiume Charles è:',case_fiume,'$')\n",
    "print('la differenza del costo medio dele case sul fiume rispetto a quelle più distanti è:',\n",
    "      case_fiume-case_distanti,'$')"
   ]
  },
  {
   "cell_type": "markdown",
   "id": "90fcbb3f-97ac-4a73-8090-d386247ea461",
   "metadata": {},
   "source": [
    "# Esercizio 3/3\n",
    "* La media del prezzo delle case cambia a seconda della distanza dal fiume Charles?\n",
    "* Si nota una correlazione tra il tasso di criminalità e il valore delle abitazioni? Come si può spiegare il risultato?\n",
    "* Qual è la media del numero di stanze rispetto al rapporto alunni-insegnanti? E del valore delle case? Appare esserci una qualche correlazione? Come si può spiegare il risultato?\n",
    "* Rispetto all'accessibilità alle autostrade, cambia qualcosa la media delle età delle abitazioni? E del numero di stanze? E delle tasse?"
   ]
  },
  {
   "cell_type": "code",
   "execution_count": 46,
   "id": "77976b04-afbd-4038-8445-1cea20079bb3",
   "metadata": {},
   "outputs": [
    {
     "data": {
      "text/plain": [
       "<Axes: xlabel='crim'>"
      ]
     },
     "execution_count": 46,
     "metadata": {},
     "output_type": "execute_result"
    },
    {
     "data": {
      "image/png": "[encoded data removed]",
      "text/plain": [
       "<Figure size 640x480 with 1 Axes>"
      ]
     },
     "metadata": {},
     "output_type": "display_data"
    }
   ],
   "source": [
    "dfb.groupby('crim').medv.mean().plot() # al crescere del tasso di criminalalità \n",
    "                                       # il prezzo medio si abbassa"
   ]
  },
  {
   "cell_type": "code",
   "execution_count": 47,
   "id": "e6273585-3d60-4228-995f-32600d857cf7",
   "metadata": {},
   "outputs": [
    {
     "data": {
      "text/plain": [
       "ptratio\n",
       "12.6    7.222667\n",
       "13.0    7.406167\n",
       "13.6    7.923000\n",
       "14.4    7.875000\n",
       "14.7    6.246235\n",
       "14.8    6.752333\n",
       "14.9    7.311250\n",
       "15.1    6.816000\n",
       "15.2    6.421923\n",
       "15.3    6.705333\n",
       "15.5    7.241000\n",
       "15.6    6.702000\n",
       "15.9    6.997000\n",
       "16.0    6.230600\n",
       "16.1    6.428800\n",
       "16.4    6.139667\n",
       "16.6    6.344188\n",
       "16.8    6.146750\n",
       "16.9    6.016400\n",
       "17.0    6.868250\n",
       "17.3    6.383000\n",
       "17.4    7.212333\n",
       "17.6    6.822429\n",
       "17.8    6.496130\n",
       "17.9    6.134818\n",
       "18.0    7.218600\n",
       "18.2    6.283000\n",
       "18.3    6.520500\n",
       "18.4    6.285938\n",
       "18.5    6.288750\n",
       "18.6    6.111588\n",
       "18.7    6.406556\n",
       "18.8    5.956000\n",
       "18.9    5.785667\n",
       "19.0    6.453750\n",
       "19.1    6.234882\n",
       "19.2    6.053632\n",
       "19.6    6.224000\n",
       "19.7    6.303250\n",
       "20.1    5.585400\n",
       "20.2    6.024021\n",
       "20.9    6.266273\n",
       "21.0    6.039778\n",
       "21.1    5.888000\n",
       "21.2    6.028533\n",
       "22.0    5.799500\n",
       "Name: rm, dtype: float64"
      ]
     },
     "execution_count": 47,
     "metadata": {},
     "output_type": "execute_result"
    }
   ],
   "source": [
    "dfb.groupby('ptratio').rm.mean()   # più è basso il rapporto alunni/inseganti più è alto \n",
    "                                   # il numero di stanze \n",
    " # il rappoto alunni/insegnati basso vuol dire che ci sono più insegnati che alunni e quindi credo che\n",
    " # la densità della popoloazione è bassa e le case sono più grandi con più stanze, ci sono più spazi."
   ]
  },
  {
   "cell_type": "code",
   "execution_count": 48,
   "id": "d2473404-cb89-469b-86d2-a240355ce0b6",
   "metadata": {},
   "outputs": [
    {
     "data": {
      "text/plain": [
       "ptratio\n",
       "12.6    32.733333\n",
       "13.0    38.025000\n",
       "13.6    50.000000\n",
       "14.4    50.000000\n",
       "14.7    25.717647\n",
       "14.8    25.433333\n",
       "14.9    40.475000\n",
       "15.1    31.600000\n",
       "15.2    26.276923\n",
       "15.3    26.066667\n",
       "15.5    32.700000\n",
       "15.6    30.100000\n",
       "15.9    30.250000\n",
       "16.0    24.320000\n",
       "16.1    24.880000\n",
       "16.4    23.216667\n",
       "16.6    23.856250\n",
       "16.8    22.150000\n",
       "16.9    19.640000\n",
       "17.0    30.600000\n",
       "17.3    24.700000\n",
       "17.4    33.544444\n",
       "17.6    30.700000\n",
       "17.8    26.956522\n",
       "17.9    22.363636\n",
       "18.0    33.100000\n",
       "18.2    22.150000\n",
       "18.3    27.100000\n",
       "18.4    23.131250\n",
       "18.5    23.800000\n",
       "18.6    24.335294\n",
       "18.7    25.122222\n",
       "18.8    17.350000\n",
       "18.9    20.100000\n",
       "19.0    24.900000\n",
       "19.1    22.894118\n",
       "19.2    22.805263\n",
       "19.6    22.575000\n",
       "19.7    21.787500\n",
       "20.1    12.800000\n",
       "20.2    16.611429\n",
       "20.9    21.118182\n",
       "21.0    17.351852\n",
       "21.1    18.900000\n",
       "21.2    17.093333\n",
       "22.0    19.400000\n",
       "Name: medv, dtype: float64"
      ]
     },
     "execution_count": 48,
     "metadata": {},
     "output_type": "execute_result"
    }
   ],
   "source": [
    "dfb.groupby('ptratio').medv.mean()   # più è alto il rapporto alunni/inseganti più è basso il costo medio\n",
    "# anche perchè le case sono più piccole"
   ]
  },
  {
   "cell_type": "code",
   "execution_count": 49,
   "id": "ecb2ebe3-a40e-44c5-b172-224d6382052f",
   "metadata": {},
   "outputs": [
    {
     "data": {
      "text/plain": [
       "rad\n",
       "1     45.025000\n",
       "2     64.770833\n",
       "3     49.310526\n",
       "4     60.841818\n",
       "5     69.223478\n",
       "6     60.142308\n",
       "7     40.141176\n",
       "8     67.350000\n",
       "24    89.805303\n",
       "Name: age, dtype: float64"
      ]
     },
     "execution_count": 49,
     "metadata": {},
     "output_type": "execute_result"
    }
   ],
   "source": [
    "dfb.groupby('rad').age.mean()  # si la lontananza dalla autostrada è corredlata \n",
    "                               # ad un anzianità delle case"
   ]
  },
  {
   "cell_type": "code",
   "execution_count": 50,
   "id": "ba1e46a0-36b6-497f-af60-256e5ced3f75",
   "metadata": {},
   "outputs": [
    {
     "data": {
      "text/plain": [
       "rad\n",
       "1     6.555850\n",
       "2     6.649958\n",
       "3     6.473026\n",
       "4     6.133118\n",
       "5     6.393157\n",
       "6     6.104731\n",
       "7     6.647765\n",
       "8     6.950792\n",
       "24    6.022152\n",
       "Name: rm, dtype: float64"
      ]
     },
     "execution_count": 50,
     "metadata": {},
     "output_type": "execute_result"
    }
   ],
   "source": [
    "dfb.groupby('rad').rm.mean() # non ci sono grandi differenze"
   ]
  },
  {
   "cell_type": "code",
   "execution_count": 51,
   "id": "8e4f50be-9295-4b0b-8be7-1e3d4ba415f7",
   "metadata": {},
   "outputs": [
    {
     "data": {
      "text/plain": [
       "rad\n",
       "1     291.450000\n",
       "2     260.666667\n",
       "3     246.078947\n",
       "4     335.981818\n",
       "5     331.843478\n",
       "6     372.884615\n",
       "7     304.411765\n",
       "8     301.250000\n",
       "24    666.000000\n",
       "Name: tax, dtype: float64"
      ]
     },
     "execution_count": 51,
     "metadata": {},
     "output_type": "execute_result"
    }
   ],
   "source": [
    "dfb.groupby('rad').tax.mean() # più siamo lontani dalle autostr. più le tasse aumentano"
   ]
  },
  {
   "cell_type": "markdown",
   "id": "80c23833-f544-4ee6-9b3b-d273e0918f36",
   "metadata": {},
   "source": [
    "# Esercizio 1/3 \n",
    "Abbiamo un DataFrame di dipendenti: \n",
    "\n",
    "    employees_df = pd.DataFrame({ \n",
    "        \n",
    "        'employee_id': [101, 102, 103, 104, 105],\n",
    "        \n",
    "        'name': ['Alice', 'Bob', 'Charlie', 'David','Emma'], \n",
    "        \n",
    "        'department_id': [1, 2, 1, 2, 3] })"
   ]
  },
  {
   "cell_type": "markdown",
   "id": "c708479c-17a6-44d3-94e0-3ff460432f2f",
   "metadata": {},
   "source": [
    "# Esercizio 2/3 \n",
    "\n",
    "E un DataFrame di dipartimenti: \n",
    "\n",
    "departments_df = pd.DataFrame({ \n",
    "    \n",
    "    'department_id': [1, 2, 3],\n",
    "    \n",
    "    'department_name': ['HR', 'IT', 'Finance'],\n",
    "    \n",
    "    'location': ['New York', 'San Francisco', 'Chicago'] })"
   ]
  },
  {
   "cell_type": "code",
   "execution_count": 52,
   "id": "d260c147-06a4-46df-95f7-eeadd6c454bd",
   "metadata": {},
   "outputs": [
    {
     "data": {
      "text/html": [
       "<div>\n",
       "<style scoped>\n",
       "    .dataframe tbody tr th:only-of-type {\n",
       "        vertical-align: middle;\n",
       "    }\n",
       "\n",
       "    .dataframe tbody tr th {\n",
       "        vertical-align: top;\n",
       "    }\n",
       "\n",
       "    .dataframe thead th {\n",
       "        text-align: right;\n",
       "    }\n",
       "</style>\n",
       "<table border=\"1\" class=\"dataframe\">\n",
       "  <thead>\n",
       "    <tr style=\"text-align: right;\">\n",
       "      <th></th>\n",
       "      <th>employee_id</th>\n",
       "      <th>name</th>\n",
       "      <th>department_id</th>\n",
       "    </tr>\n",
       "  </thead>\n",
       "  <tbody>\n",
       "    <tr>\n",
       "      <th>0</th>\n",
       "      <td>101</td>\n",
       "      <td>Alice</td>\n",
       "      <td>1</td>\n",
       "    </tr>\n",
       "    <tr>\n",
       "      <th>1</th>\n",
       "      <td>102</td>\n",
       "      <td>Bob</td>\n",
       "      <td>2</td>\n",
       "    </tr>\n",
       "    <tr>\n",
       "      <th>2</th>\n",
       "      <td>103</td>\n",
       "      <td>Charlie</td>\n",
       "      <td>1</td>\n",
       "    </tr>\n",
       "    <tr>\n",
       "      <th>3</th>\n",
       "      <td>104</td>\n",
       "      <td>David</td>\n",
       "      <td>2</td>\n",
       "    </tr>\n",
       "    <tr>\n",
       "      <th>4</th>\n",
       "      <td>105</td>\n",
       "      <td>Emma</td>\n",
       "      <td>3</td>\n",
       "    </tr>\n",
       "  </tbody>\n",
       "</table>\n",
       "</div>"
      ],
      "text/plain": [
       "   employee_id     name  department_id\n",
       "0          101    Alice              1\n",
       "1          102      Bob              2\n",
       "2          103  Charlie              1\n",
       "3          104    David              2\n",
       "4          105     Emma              3"
      ]
     },
     "execution_count": 52,
     "metadata": {},
     "output_type": "execute_result"
    }
   ],
   "source": [
    "employees_df = pd.DataFrame({ \n",
    "        'employee_id': [101, 102, 103, 104, 105],\n",
    "        'name': ['Alice', 'Bob', 'Charlie', 'David','Emma'], \n",
    "        'department_id': [1, 2, 1, 2, 3] })\n",
    "employees_df"
   ]
  },
  {
   "cell_type": "code",
   "execution_count": 53,
   "id": "d05510cb-6dca-4da3-89d1-673b419ee362",
   "metadata": {},
   "outputs": [
    {
     "data": {
      "text/html": [
       "<div>\n",
       "<style scoped>\n",
       "    .dataframe tbody tr th:only-of-type {\n",
       "        vertical-align: middle;\n",
       "    }\n",
       "\n",
       "    .dataframe tbody tr th {\n",
       "        vertical-align: top;\n",
       "    }\n",
       "\n",
       "    .dataframe thead th {\n",
       "        text-align: right;\n",
       "    }\n",
       "</style>\n",
       "<table border=\"1\" class=\"dataframe\">\n",
       "  <thead>\n",
       "    <tr style=\"text-align: right;\">\n",
       "      <th></th>\n",
       "      <th>department_id</th>\n",
       "      <th>department_name</th>\n",
       "      <th>location</th>\n",
       "    </tr>\n",
       "  </thead>\n",
       "  <tbody>\n",
       "    <tr>\n",
       "      <th>0</th>\n",
       "      <td>1</td>\n",
       "      <td>HR</td>\n",
       "      <td>New York</td>\n",
       "    </tr>\n",
       "    <tr>\n",
       "      <th>1</th>\n",
       "      <td>2</td>\n",
       "      <td>IT</td>\n",
       "      <td>San Francisco</td>\n",
       "    </tr>\n",
       "    <tr>\n",
       "      <th>2</th>\n",
       "      <td>3</td>\n",
       "      <td>Finance</td>\n",
       "      <td>Chicago</td>\n",
       "    </tr>\n",
       "  </tbody>\n",
       "</table>\n",
       "</div>"
      ],
      "text/plain": [
       "   department_id department_name       location\n",
       "0              1              HR       New York\n",
       "1              2              IT  San Francisco\n",
       "2              3         Finance        Chicago"
      ]
     },
     "execution_count": 53,
     "metadata": {},
     "output_type": "execute_result"
    }
   ],
   "source": [
    "departments_df = pd.DataFrame({\n",
    "'department_id': [1, 2, 3],\n",
    "'department_name': ['HR', 'IT', 'Finance'],\n",
    "'location': ['New York', 'San Francisco', 'Chicago'] })\n",
    "departments_df\n"
   ]
  },
  {
   "cell_type": "markdown",
   "id": "b498d60f-4298-47e0-98f4-94f2363ccdef",
   "metadata": {},
   "source": [
    "# Esercizio 3/3\n",
    "* Unire questi DataFrame in base alla colonna comune department_id, in modo da avere nel risultato informazioni sia sui dipendenti che sui dipartimenti, usando la funzione .merge()\n",
    "* Per ogni DataFrame, trasformare la colonna department_id nell'indice, facendo in modo che la modifica sia permanente; poi unire i due dataset mediante il metodo .join()\n",
    "* Ci sono differenze nel risultato? Quali? Perché?"
   ]
  },
  {
   "cell_type": "code",
   "execution_count": 54,
   "id": "2bb1ba64-63ee-4fc4-8723-60f749543290",
   "metadata": {},
   "outputs": [
    {
     "data": {
      "text/html": [
       "<div>\n",
       "<style scoped>\n",
       "    .dataframe tbody tr th:only-of-type {\n",
       "        vertical-align: middle;\n",
       "    }\n",
       "\n",
       "    .dataframe tbody tr th {\n",
       "        vertical-align: top;\n",
       "    }\n",
       "\n",
       "    .dataframe thead th {\n",
       "        text-align: right;\n",
       "    }\n",
       "</style>\n",
       "<table border=\"1\" class=\"dataframe\">\n",
       "  <thead>\n",
       "    <tr style=\"text-align: right;\">\n",
       "      <th></th>\n",
       "      <th>employee_id</th>\n",
       "      <th>name</th>\n",
       "      <th>department_id</th>\n",
       "      <th>department_name</th>\n",
       "      <th>location</th>\n",
       "    </tr>\n",
       "  </thead>\n",
       "  <tbody>\n",
       "    <tr>\n",
       "      <th>0</th>\n",
       "      <td>101</td>\n",
       "      <td>Alice</td>\n",
       "      <td>1</td>\n",
       "      <td>HR</td>\n",
       "      <td>New York</td>\n",
       "    </tr>\n",
       "    <tr>\n",
       "      <th>1</th>\n",
       "      <td>103</td>\n",
       "      <td>Charlie</td>\n",
       "      <td>1</td>\n",
       "      <td>HR</td>\n",
       "      <td>New York</td>\n",
       "    </tr>\n",
       "    <tr>\n",
       "      <th>2</th>\n",
       "      <td>102</td>\n",
       "      <td>Bob</td>\n",
       "      <td>2</td>\n",
       "      <td>IT</td>\n",
       "      <td>San Francisco</td>\n",
       "    </tr>\n",
       "    <tr>\n",
       "      <th>3</th>\n",
       "      <td>104</td>\n",
       "      <td>David</td>\n",
       "      <td>2</td>\n",
       "      <td>IT</td>\n",
       "      <td>San Francisco</td>\n",
       "    </tr>\n",
       "    <tr>\n",
       "      <th>4</th>\n",
       "      <td>105</td>\n",
       "      <td>Emma</td>\n",
       "      <td>3</td>\n",
       "      <td>Finance</td>\n",
       "      <td>Chicago</td>\n",
       "    </tr>\n",
       "  </tbody>\n",
       "</table>\n",
       "</div>"
      ],
      "text/plain": [
       "   employee_id     name  department_id department_name       location\n",
       "0          101    Alice              1              HR       New York\n",
       "1          103  Charlie              1              HR       New York\n",
       "2          102      Bob              2              IT  San Francisco\n",
       "3          104    David              2              IT  San Francisco\n",
       "4          105     Emma              3         Finance        Chicago"
      ]
     },
     "execution_count": 54,
     "metadata": {},
     "output_type": "execute_result"
    }
   ],
   "source": [
    "df_usa=employees_df.merge(departments_df, on=\"department_id\")\n",
    "df_usa"
   ]
  },
  {
   "cell_type": "code",
   "execution_count": 55,
   "id": "27748423-9b7b-4303-b7db-b1504ec841ec",
   "metadata": {},
   "outputs": [
    {
     "data": {
      "text/html": [
       "<div>\n",
       "<style scoped>\n",
       "    .dataframe tbody tr th:only-of-type {\n",
       "        vertical-align: middle;\n",
       "    }\n",
       "\n",
       "    .dataframe tbody tr th {\n",
       "        vertical-align: top;\n",
       "    }\n",
       "\n",
       "    .dataframe thead th {\n",
       "        text-align: right;\n",
       "    }\n",
       "</style>\n",
       "<table border=\"1\" class=\"dataframe\">\n",
       "  <thead>\n",
       "    <tr style=\"text-align: right;\">\n",
       "      <th></th>\n",
       "      <th>employee_id</th>\n",
       "      <th>name</th>\n",
       "      <th>department_name</th>\n",
       "      <th>location</th>\n",
       "    </tr>\n",
       "    <tr>\n",
       "      <th>department_id</th>\n",
       "      <th></th>\n",
       "      <th></th>\n",
       "      <th></th>\n",
       "      <th></th>\n",
       "    </tr>\n",
       "  </thead>\n",
       "  <tbody>\n",
       "    <tr>\n",
       "      <th>1</th>\n",
       "      <td>101</td>\n",
       "      <td>Alice</td>\n",
       "      <td>HR</td>\n",
       "      <td>New York</td>\n",
       "    </tr>\n",
       "    <tr>\n",
       "      <th>1</th>\n",
       "      <td>103</td>\n",
       "      <td>Charlie</td>\n",
       "      <td>HR</td>\n",
       "      <td>New York</td>\n",
       "    </tr>\n",
       "    <tr>\n",
       "      <th>2</th>\n",
       "      <td>102</td>\n",
       "      <td>Bob</td>\n",
       "      <td>IT</td>\n",
       "      <td>San Francisco</td>\n",
       "    </tr>\n",
       "    <tr>\n",
       "      <th>2</th>\n",
       "      <td>104</td>\n",
       "      <td>David</td>\n",
       "      <td>IT</td>\n",
       "      <td>San Francisco</td>\n",
       "    </tr>\n",
       "    <tr>\n",
       "      <th>3</th>\n",
       "      <td>105</td>\n",
       "      <td>Emma</td>\n",
       "      <td>Finance</td>\n",
       "      <td>Chicago</td>\n",
       "    </tr>\n",
       "  </tbody>\n",
       "</table>\n",
       "</div>"
      ],
      "text/plain": [
       "               employee_id     name department_name       location\n",
       "department_id                                                     \n",
       "1                      101    Alice              HR       New York\n",
       "1                      103  Charlie              HR       New York\n",
       "2                      102      Bob              IT  San Francisco\n",
       "2                      104    David              IT  San Francisco\n",
       "3                      105     Emma         Finance        Chicago"
      ]
     },
     "execution_count": 55,
     "metadata": {},
     "output_type": "execute_result"
    }
   ],
   "source": [
    "employees_df=employees_df.set_index(\"department_id\")\n",
    "departments_df=departments_df.set_index(\"department_id\")\n",
    "employees_df.join(departments_df)"
   ]
  },
  {
   "cell_type": "markdown",
   "id": "d3cd49c5-ea40-4ba7-b70d-4a79f89c4e92",
   "metadata": {},
   "source": [
    "La differenza tra il merge e la join è strutturale, nel merge ottengo una tabella con 6 colonne dove una è l'indice impostato di default, una department_id, le restanti quattro sono quelle delle info che trovo in comune anche nella join. Nella join ho 5 colonne, le quattro in comune con il merge e in più una corrisponde al department_id che è indice."
   ]
  },
  {
   "cell_type": "markdown",
   "id": "ead6df52-c84e-4483-accf-5cdef9ede25f",
   "metadata": {},
   "source": [
    "# Esercizio \n",
    "* Dal database AdventureWorksDW importiamo le tabelle dimemployee e dimemployeesalesterritory come DataFrame\n",
    "* Effettuiamo un join tra i due DataFrame usando le colonne EmployeeKey\n",
    "* Controlliamo la dimensione del DataFrame risultante: è quella attesa?\n",
    "* Importiamo ora la tabella dimsalesterritory ed effettuiamo un join tra questa e il DataFrame risultante della join precedente, usando le colonne SalesTerritoryKey\n",
    "* Su questo DataFrame contare quanti dipendenti ci sono per ogni paese (country) e per ogni regione (region)\n",
    "* Valutiamo la media del BaseRate per ogni paese: ci sono differenze?"
   ]
  },
  {
   "cell_type": "code",
   "execution_count": 56,
   "id": "ee11003e-f598-4f59-9322-0d518b302973",
   "metadata": {},
   "outputs": [],
   "source": [
    "from sqlalchemy import create_engine\n",
    "import dotenv\n",
    "import os\n",
    "import pandas as pd\n",
    "dotenv.load_dotenv(override=True)\n",
    "username = os.getenv('username')\n",
    "password = os.getenv('password')\n",
    "host = os.getenv('host')\n",
    "dbname = os.getenv('dbname')\n",
    "dbname = \"AdventureWorksDW\"\n",
    "conn_string = f\"mysql+pymysql://{username}:{password}@{host}/{dbname}\"\n",
    "db_engine = create_engine(conn_string)"
   ]
  },
  {
   "cell_type": "code",
   "execution_count": 57,
   "id": "dda478e4-f8d8-43f8-a2b6-104006df9eac",
   "metadata": {},
   "outputs": [
    {
     "data": {
      "text/html": [
       "<div>\n",
       "<style scoped>\n",
       "    .dataframe tbody tr th:only-of-type {\n",
       "        vertical-align: middle;\n",
       "    }\n",
       "\n",
       "    .dataframe tbody tr th {\n",
       "        vertical-align: top;\n",
       "    }\n",
       "\n",
       "    .dataframe thead th {\n",
       "        text-align: right;\n",
       "    }\n",
       "</style>\n",
       "<table border=\"1\" class=\"dataframe\">\n",
       "  <thead>\n",
       "    <tr style=\"text-align: right;\">\n",
       "      <th></th>\n",
       "      <th>EmployeeKey</th>\n",
       "      <th>ParentEmployeeKey</th>\n",
       "      <th>EmployeeNationalIDAlternateKey</th>\n",
       "      <th>ParentEmployeeNationalIDAlternateKey</th>\n",
       "      <th>FirstName</th>\n",
       "      <th>LastName</th>\n",
       "      <th>MiddleName</th>\n",
       "      <th>NameStyle</th>\n",
       "      <th>Title</th>\n",
       "      <th>HireDate</th>\n",
       "      <th>...</th>\n",
       "      <th>Gender</th>\n",
       "      <th>PayFrequency</th>\n",
       "      <th>BaseRate</th>\n",
       "      <th>VacationHours</th>\n",
       "      <th>SickLeaveHours</th>\n",
       "      <th>CurrentFlag</th>\n",
       "      <th>SalesPersonFlag</th>\n",
       "      <th>DepartmentName</th>\n",
       "      <th>EmployeePhoto</th>\n",
       "      <th>Position</th>\n",
       "    </tr>\n",
       "  </thead>\n",
       "  <tbody>\n",
       "    <tr>\n",
       "      <th>0</th>\n",
       "      <td>1</td>\n",
       "      <td>18.0</td>\n",
       "      <td>14417807</td>\n",
       "      <td>446466105.0</td>\n",
       "      <td>Guy</td>\n",
       "      <td>Gilbert</td>\n",
       "      <td>R</td>\n",
       "      <td>0</td>\n",
       "      <td>Production Technician - WC60</td>\n",
       "      <td>2006-01-28</td>\n",
       "      <td>...</td>\n",
       "      <td>M</td>\n",
       "      <td>1</td>\n",
       "      <td>12.4500</td>\n",
       "      <td>21</td>\n",
       "      <td>30</td>\n",
       "      <td>1</td>\n",
       "      <td>0</td>\n",
       "      <td>Production</td>\n",
       "      <td>b'\\xff\\xd8\\xff\\xe0\\x00\\x10JFIF\\x00\\x01\\x01\\x01...</td>\n",
       "      <td>None</td>\n",
       "    </tr>\n",
       "    <tr>\n",
       "      <th>1</th>\n",
       "      <td>2</td>\n",
       "      <td>7.0</td>\n",
       "      <td>253022876</td>\n",
       "      <td>24756624.0</td>\n",
       "      <td>Kevin</td>\n",
       "      <td>Brown</td>\n",
       "      <td>F</td>\n",
       "      <td>0</td>\n",
       "      <td>Marketing Assistant</td>\n",
       "      <td>2006-08-26</td>\n",
       "      <td>...</td>\n",
       "      <td>M</td>\n",
       "      <td>2</td>\n",
       "      <td>13.4615</td>\n",
       "      <td>42</td>\n",
       "      <td>41</td>\n",
       "      <td>1</td>\n",
       "      <td>0</td>\n",
       "      <td>Marketing</td>\n",
       "      <td>b'\\xff\\xd8\\xff\\xe0\\x00\\x10JFIF\\x00\\x01\\x01\\x01...</td>\n",
       "      <td>None</td>\n",
       "    </tr>\n",
       "    <tr>\n",
       "      <th>2</th>\n",
       "      <td>3</td>\n",
       "      <td>14.0</td>\n",
       "      <td>509647174</td>\n",
       "      <td>245797967.0</td>\n",
       "      <td>Roberto</td>\n",
       "      <td>Tamburello</td>\n",
       "      <td>None</td>\n",
       "      <td>0</td>\n",
       "      <td>Engineering Manager</td>\n",
       "      <td>2007-06-11</td>\n",
       "      <td>...</td>\n",
       "      <td>M</td>\n",
       "      <td>2</td>\n",
       "      <td>43.2692</td>\n",
       "      <td>2</td>\n",
       "      <td>21</td>\n",
       "      <td>1</td>\n",
       "      <td>0</td>\n",
       "      <td>Engineering</td>\n",
       "      <td>b'\\xff\\xd8\\xff\\xe0\\x00\\x10JFIF\\x00\\x01\\x01\\x01...</td>\n",
       "      <td>None</td>\n",
       "    </tr>\n",
       "    <tr>\n",
       "      <th>3</th>\n",
       "      <td>4</td>\n",
       "      <td>3.0</td>\n",
       "      <td>112457891</td>\n",
       "      <td>509647174.0</td>\n",
       "      <td>Rob</td>\n",
       "      <td>Walters</td>\n",
       "      <td>None</td>\n",
       "      <td>0</td>\n",
       "      <td>Senior Tool Designer</td>\n",
       "      <td>2007-07-05</td>\n",
       "      <td>...</td>\n",
       "      <td>M</td>\n",
       "      <td>2</td>\n",
       "      <td>29.8462</td>\n",
       "      <td>48</td>\n",
       "      <td>80</td>\n",
       "      <td>1</td>\n",
       "      <td>0</td>\n",
       "      <td>Tool Design</td>\n",
       "      <td>b'\\xff\\xd8\\xff\\xe0\\x00\\x10JFIF\\x00\\x01\\x01\\x01...</td>\n",
       "      <td>None</td>\n",
       "    </tr>\n",
       "    <tr>\n",
       "      <th>4</th>\n",
       "      <td>5</td>\n",
       "      <td>3.0</td>\n",
       "      <td>112457891</td>\n",
       "      <td>509647174.0</td>\n",
       "      <td>Rob</td>\n",
       "      <td>Walters</td>\n",
       "      <td>None</td>\n",
       "      <td>0</td>\n",
       "      <td>Senior Tool Designer</td>\n",
       "      <td>2007-07-05</td>\n",
       "      <td>...</td>\n",
       "      <td>M</td>\n",
       "      <td>2</td>\n",
       "      <td>29.8462</td>\n",
       "      <td>48</td>\n",
       "      <td>80</td>\n",
       "      <td>1</td>\n",
       "      <td>0</td>\n",
       "      <td>Tool Design</td>\n",
       "      <td>b'\\xff\\xd8\\xff\\xe0\\x00\\x10JFIF\\x00\\x01\\x01\\x01...</td>\n",
       "      <td>None</td>\n",
       "    </tr>\n",
       "  </tbody>\n",
       "</table>\n",
       "<p>5 rows × 28 columns</p>\n",
       "</div>"
      ],
      "text/plain": [
       "   EmployeeKey  ParentEmployeeKey  EmployeeNationalIDAlternateKey  \\\n",
       "0            1               18.0                        14417807   \n",
       "1            2                7.0                       253022876   \n",
       "2            3               14.0                       509647174   \n",
       "3            4                3.0                       112457891   \n",
       "4            5                3.0                       112457891   \n",
       "\n",
       "   ParentEmployeeNationalIDAlternateKey FirstName    LastName MiddleName  \\\n",
       "0                           446466105.0       Guy     Gilbert          R   \n",
       "1                            24756624.0     Kevin       Brown          F   \n",
       "2                           245797967.0   Roberto  Tamburello       None   \n",
       "3                           509647174.0       Rob     Walters       None   \n",
       "4                           509647174.0       Rob     Walters       None   \n",
       "\n",
       "   NameStyle                         Title    HireDate  ... Gender  \\\n",
       "0          0  Production Technician - WC60  2006-01-28  ...      M   \n",
       "1          0           Marketing Assistant  2006-08-26  ...      M   \n",
       "2          0           Engineering Manager  2007-06-11  ...      M   \n",
       "3          0          Senior Tool Designer  2007-07-05  ...      M   \n",
       "4          0          Senior Tool Designer  2007-07-05  ...      M   \n",
       "\n",
       "  PayFrequency BaseRate VacationHours SickLeaveHours CurrentFlag  \\\n",
       "0            1  12.4500            21             30           1   \n",
       "1            2  13.4615            42             41           1   \n",
       "2            2  43.2692             2             21           1   \n",
       "3            2  29.8462            48             80           1   \n",
       "4            2  29.8462            48             80           1   \n",
       "\n",
       "  SalesPersonFlag  DepartmentName  \\\n",
       "0               0      Production   \n",
       "1               0       Marketing   \n",
       "2               0     Engineering   \n",
       "3               0     Tool Design   \n",
       "4               0     Tool Design   \n",
       "\n",
       "                                       EmployeePhoto  Position  \n",
       "0  b'\\xff\\xd8\\xff\\xe0\\x00\\x10JFIF\\x00\\x01\\x01\\x01...      None  \n",
       "1  b'\\xff\\xd8\\xff\\xe0\\x00\\x10JFIF\\x00\\x01\\x01\\x01...      None  \n",
       "2  b'\\xff\\xd8\\xff\\xe0\\x00\\x10JFIF\\x00\\x01\\x01\\x01...      None  \n",
       "3  b'\\xff\\xd8\\xff\\xe0\\x00\\x10JFIF\\x00\\x01\\x01\\x01...      None  \n",
       "4  b'\\xff\\xd8\\xff\\xe0\\x00\\x10JFIF\\x00\\x01\\x01\\x01...      None  \n",
       "\n",
       "[5 rows x 28 columns]"
      ]
     },
     "execution_count": 57,
     "metadata": {},
     "output_type": "execute_result"
    }
   ],
   "source": [
    "query=\"\"\"SELECT * FROM dimemployee\"\"\"\n",
    "dimemployee=pd.read_sql(query,db_engine)\n",
    "dimemployee.head()"
   ]
  },
  {
   "cell_type": "code",
   "execution_count": 58,
   "id": "282b5bb6-b5af-4ae3-9692-b73b7b77d554",
   "metadata": {},
   "outputs": [
    {
     "data": {
      "text/html": [
       "<div>\n",
       "<style scoped>\n",
       "    .dataframe tbody tr th:only-of-type {\n",
       "        vertical-align: middle;\n",
       "    }\n",
       "\n",
       "    .dataframe tbody tr th {\n",
       "        vertical-align: top;\n",
       "    }\n",
       "\n",
       "    .dataframe thead th {\n",
       "        text-align: right;\n",
       "    }\n",
       "</style>\n",
       "<table border=\"1\" class=\"dataframe\">\n",
       "  <thead>\n",
       "    <tr style=\"text-align: right;\">\n",
       "      <th></th>\n",
       "      <th>EmployeeKey</th>\n",
       "      <th>SalesTerritoryKey</th>\n",
       "    </tr>\n",
       "  </thead>\n",
       "  <tbody>\n",
       "    <tr>\n",
       "      <th>0</th>\n",
       "      <td>272</td>\n",
       "      <td>1</td>\n",
       "    </tr>\n",
       "    <tr>\n",
       "      <th>1</th>\n",
       "      <td>277</td>\n",
       "      <td>1</td>\n",
       "    </tr>\n",
       "    <tr>\n",
       "      <th>2</th>\n",
       "      <td>286</td>\n",
       "      <td>1</td>\n",
       "    </tr>\n",
       "    <tr>\n",
       "      <th>3</th>\n",
       "      <td>289</td>\n",
       "      <td>1</td>\n",
       "    </tr>\n",
       "    <tr>\n",
       "      <th>4</th>\n",
       "      <td>293</td>\n",
       "      <td>1</td>\n",
       "    </tr>\n",
       "  </tbody>\n",
       "</table>\n",
       "</div>"
      ],
      "text/plain": [
       "   EmployeeKey  SalesTerritoryKey\n",
       "0          272                  1\n",
       "1          277                  1\n",
       "2          286                  1\n",
       "3          289                  1\n",
       "4          293                  1"
      ]
     },
     "execution_count": 58,
     "metadata": {},
     "output_type": "execute_result"
    }
   ],
   "source": [
    "query=\"\"\"SELECT * FROM dimemployeesalesterritory\"\"\"\n",
    "dimemployeesalesterritory=pd.read_sql(query,db_engine)\n",
    "dimemployeesalesterritory.head()"
   ]
  },
  {
   "cell_type": "code",
   "execution_count": 59,
   "id": "e0fd904a-691a-42e9-8a44-a1bb9e59d8a2",
   "metadata": {},
   "outputs": [
    {
     "data": {
      "text/html": [
       "<div>\n",
       "<style scoped>\n",
       "    .dataframe tbody tr th:only-of-type {\n",
       "        vertical-align: middle;\n",
       "    }\n",
       "\n",
       "    .dataframe tbody tr th {\n",
       "        vertical-align: top;\n",
       "    }\n",
       "\n",
       "    .dataframe thead th {\n",
       "        text-align: right;\n",
       "    }\n",
       "</style>\n",
       "<table border=\"1\" class=\"dataframe\">\n",
       "  <thead>\n",
       "    <tr style=\"text-align: right;\">\n",
       "      <th></th>\n",
       "      <th>EmployeeKey</th>\n",
       "      <th>ParentEmployeeKey</th>\n",
       "      <th>EmployeeNationalIDAlternateKey</th>\n",
       "      <th>ParentEmployeeNationalIDAlternateKey</th>\n",
       "      <th>FirstName</th>\n",
       "      <th>LastName</th>\n",
       "      <th>MiddleName</th>\n",
       "      <th>NameStyle</th>\n",
       "      <th>Title</th>\n",
       "      <th>HireDate</th>\n",
       "      <th>...</th>\n",
       "      <th>PayFrequency</th>\n",
       "      <th>BaseRate</th>\n",
       "      <th>VacationHours</th>\n",
       "      <th>SickLeaveHours</th>\n",
       "      <th>CurrentFlag</th>\n",
       "      <th>SalesPersonFlag</th>\n",
       "      <th>DepartmentName</th>\n",
       "      <th>EmployeePhoto</th>\n",
       "      <th>Position</th>\n",
       "      <th>SalesTerritoryKey</th>\n",
       "    </tr>\n",
       "  </thead>\n",
       "  <tbody>\n",
       "    <tr>\n",
       "      <th>0</th>\n",
       "      <td>272</td>\n",
       "      <td>277.0</td>\n",
       "      <td>502097814</td>\n",
       "      <td>112432117.0</td>\n",
       "      <td>Stephen</td>\n",
       "      <td>Jiang</td>\n",
       "      <td>Y</td>\n",
       "      <td>0</td>\n",
       "      <td>North American Sales Manager</td>\n",
       "      <td>2010-08-04</td>\n",
       "      <td>...</td>\n",
       "      <td>2</td>\n",
       "      <td>48.101</td>\n",
       "      <td>14</td>\n",
       "      <td>27</td>\n",
       "      <td>1</td>\n",
       "      <td>1</td>\n",
       "      <td>Sales</td>\n",
       "      <td>b'\\xff\\xd8\\xff\\xe0\\x00\\x10JFIF\\x00\\x01\\x01\\x01...</td>\n",
       "      <td>Sales Manager</td>\n",
       "      <td>1</td>\n",
       "    </tr>\n",
       "    <tr>\n",
       "      <th>1</th>\n",
       "      <td>272</td>\n",
       "      <td>277.0</td>\n",
       "      <td>502097814</td>\n",
       "      <td>112432117.0</td>\n",
       "      <td>Stephen</td>\n",
       "      <td>Jiang</td>\n",
       "      <td>Y</td>\n",
       "      <td>0</td>\n",
       "      <td>North American Sales Manager</td>\n",
       "      <td>2010-08-04</td>\n",
       "      <td>...</td>\n",
       "      <td>2</td>\n",
       "      <td>48.101</td>\n",
       "      <td>14</td>\n",
       "      <td>27</td>\n",
       "      <td>1</td>\n",
       "      <td>1</td>\n",
       "      <td>Sales</td>\n",
       "      <td>b'\\xff\\xd8\\xff\\xe0\\x00\\x10JFIF\\x00\\x01\\x01\\x01...</td>\n",
       "      <td>Sales Manager</td>\n",
       "      <td>2</td>\n",
       "    </tr>\n",
       "    <tr>\n",
       "      <th>2</th>\n",
       "      <td>272</td>\n",
       "      <td>277.0</td>\n",
       "      <td>502097814</td>\n",
       "      <td>112432117.0</td>\n",
       "      <td>Stephen</td>\n",
       "      <td>Jiang</td>\n",
       "      <td>Y</td>\n",
       "      <td>0</td>\n",
       "      <td>North American Sales Manager</td>\n",
       "      <td>2010-08-04</td>\n",
       "      <td>...</td>\n",
       "      <td>2</td>\n",
       "      <td>48.101</td>\n",
       "      <td>14</td>\n",
       "      <td>27</td>\n",
       "      <td>1</td>\n",
       "      <td>1</td>\n",
       "      <td>Sales</td>\n",
       "      <td>b'\\xff\\xd8\\xff\\xe0\\x00\\x10JFIF\\x00\\x01\\x01\\x01...</td>\n",
       "      <td>Sales Manager</td>\n",
       "      <td>3</td>\n",
       "    </tr>\n",
       "    <tr>\n",
       "      <th>3</th>\n",
       "      <td>272</td>\n",
       "      <td>277.0</td>\n",
       "      <td>502097814</td>\n",
       "      <td>112432117.0</td>\n",
       "      <td>Stephen</td>\n",
       "      <td>Jiang</td>\n",
       "      <td>Y</td>\n",
       "      <td>0</td>\n",
       "      <td>North American Sales Manager</td>\n",
       "      <td>2010-08-04</td>\n",
       "      <td>...</td>\n",
       "      <td>2</td>\n",
       "      <td>48.101</td>\n",
       "      <td>14</td>\n",
       "      <td>27</td>\n",
       "      <td>1</td>\n",
       "      <td>1</td>\n",
       "      <td>Sales</td>\n",
       "      <td>b'\\xff\\xd8\\xff\\xe0\\x00\\x10JFIF\\x00\\x01\\x01\\x01...</td>\n",
       "      <td>Sales Manager</td>\n",
       "      <td>4</td>\n",
       "    </tr>\n",
       "    <tr>\n",
       "      <th>4</th>\n",
       "      <td>272</td>\n",
       "      <td>277.0</td>\n",
       "      <td>502097814</td>\n",
       "      <td>112432117.0</td>\n",
       "      <td>Stephen</td>\n",
       "      <td>Jiang</td>\n",
       "      <td>Y</td>\n",
       "      <td>0</td>\n",
       "      <td>North American Sales Manager</td>\n",
       "      <td>2010-08-04</td>\n",
       "      <td>...</td>\n",
       "      <td>2</td>\n",
       "      <td>48.101</td>\n",
       "      <td>14</td>\n",
       "      <td>27</td>\n",
       "      <td>1</td>\n",
       "      <td>1</td>\n",
       "      <td>Sales</td>\n",
       "      <td>b'\\xff\\xd8\\xff\\xe0\\x00\\x10JFIF\\x00\\x01\\x01\\x01...</td>\n",
       "      <td>Sales Manager</td>\n",
       "      <td>5</td>\n",
       "    </tr>\n",
       "  </tbody>\n",
       "</table>\n",
       "<p>5 rows × 29 columns</p>\n",
       "</div>"
      ],
      "text/plain": [
       "   EmployeeKey  ParentEmployeeKey  EmployeeNationalIDAlternateKey  \\\n",
       "0          272              277.0                       502097814   \n",
       "1          272              277.0                       502097814   \n",
       "2          272              277.0                       502097814   \n",
       "3          272              277.0                       502097814   \n",
       "4          272              277.0                       502097814   \n",
       "\n",
       "   ParentEmployeeNationalIDAlternateKey FirstName LastName MiddleName  \\\n",
       "0                           112432117.0   Stephen    Jiang          Y   \n",
       "1                           112432117.0   Stephen    Jiang          Y   \n",
       "2                           112432117.0   Stephen    Jiang          Y   \n",
       "3                           112432117.0   Stephen    Jiang          Y   \n",
       "4                           112432117.0   Stephen    Jiang          Y   \n",
       "\n",
       "   NameStyle                         Title    HireDate  ... PayFrequency  \\\n",
       "0          0  North American Sales Manager  2010-08-04  ...            2   \n",
       "1          0  North American Sales Manager  2010-08-04  ...            2   \n",
       "2          0  North American Sales Manager  2010-08-04  ...            2   \n",
       "3          0  North American Sales Manager  2010-08-04  ...            2   \n",
       "4          0  North American Sales Manager  2010-08-04  ...            2   \n",
       "\n",
       "  BaseRate VacationHours SickLeaveHours CurrentFlag SalesPersonFlag  \\\n",
       "0   48.101            14             27           1               1   \n",
       "1   48.101            14             27           1               1   \n",
       "2   48.101            14             27           1               1   \n",
       "3   48.101            14             27           1               1   \n",
       "4   48.101            14             27           1               1   \n",
       "\n",
       "  DepartmentName                                      EmployeePhoto  \\\n",
       "0          Sales  b'\\xff\\xd8\\xff\\xe0\\x00\\x10JFIF\\x00\\x01\\x01\\x01...   \n",
       "1          Sales  b'\\xff\\xd8\\xff\\xe0\\x00\\x10JFIF\\x00\\x01\\x01\\x01...   \n",
       "2          Sales  b'\\xff\\xd8\\xff\\xe0\\x00\\x10JFIF\\x00\\x01\\x01\\x01...   \n",
       "3          Sales  b'\\xff\\xd8\\xff\\xe0\\x00\\x10JFIF\\x00\\x01\\x01\\x01...   \n",
       "4          Sales  b'\\xff\\xd8\\xff\\xe0\\x00\\x10JFIF\\x00\\x01\\x01\\x01...   \n",
       "\n",
       "        Position  SalesTerritoryKey  \n",
       "0  Sales Manager                  1  \n",
       "1  Sales Manager                  2  \n",
       "2  Sales Manager                  3  \n",
       "3  Sales Manager                  4  \n",
       "4  Sales Manager                  5  \n",
       "\n",
       "[5 rows x 29 columns]"
      ]
     },
     "execution_count": 59,
     "metadata": {},
     "output_type": "execute_result"
    }
   ],
   "source": [
    "employee_sales_join=dimemployee.merge(dimemployeesalesterritory,on=\"EmployeeKey\")\n",
    "employee_sales_join.head()"
   ]
  },
  {
   "cell_type": "code",
   "execution_count": 60,
   "id": "44722d57-a392-410f-901e-5ab28302e9ac",
   "metadata": {},
   "outputs": [
    {
     "data": {
      "text/html": [
       "<div>\n",
       "<style scoped>\n",
       "    .dataframe tbody tr th:only-of-type {\n",
       "        vertical-align: middle;\n",
       "    }\n",
       "\n",
       "    .dataframe tbody tr th {\n",
       "        vertical-align: top;\n",
       "    }\n",
       "\n",
       "    .dataframe thead th {\n",
       "        text-align: right;\n",
       "    }\n",
       "</style>\n",
       "<table border=\"1\" class=\"dataframe\">\n",
       "  <thead>\n",
       "    <tr style=\"text-align: right;\">\n",
       "      <th></th>\n",
       "      <th>SalesTerritoryKey</th>\n",
       "      <th>SalesTerritoryAlternateKey</th>\n",
       "      <th>SalesTerritoryRegion</th>\n",
       "      <th>SalesTerritoryCountry</th>\n",
       "      <th>SalesTerritoryGroup</th>\n",
       "      <th>SalesTerritoryImage</th>\n",
       "    </tr>\n",
       "  </thead>\n",
       "  <tbody>\n",
       "    <tr>\n",
       "      <th>0</th>\n",
       "      <td>1</td>\n",
       "      <td>1</td>\n",
       "      <td>Northwest</td>\n",
       "      <td>United States</td>\n",
       "      <td>North America</td>\n",
       "      <td>b'\\xff\\xd8\\xff\\xe0\\x00\\x10JFIF\\x00\\x01\\x01\\x01...</td>\n",
       "    </tr>\n",
       "    <tr>\n",
       "      <th>1</th>\n",
       "      <td>2</td>\n",
       "      <td>2</td>\n",
       "      <td>Northeast</td>\n",
       "      <td>United States</td>\n",
       "      <td>North America</td>\n",
       "      <td>b'\\xff\\xd8\\xff\\xe0\\x00\\x10JFIF\\x00\\x01\\x01\\x01...</td>\n",
       "    </tr>\n",
       "    <tr>\n",
       "      <th>2</th>\n",
       "      <td>3</td>\n",
       "      <td>3</td>\n",
       "      <td>Central</td>\n",
       "      <td>United States</td>\n",
       "      <td>North America</td>\n",
       "      <td>b'\\xff\\xd8\\xff\\xe0\\x00\\x10JFIF\\x00\\x01\\x01\\x01...</td>\n",
       "    </tr>\n",
       "    <tr>\n",
       "      <th>3</th>\n",
       "      <td>4</td>\n",
       "      <td>4</td>\n",
       "      <td>Southwest</td>\n",
       "      <td>United States</td>\n",
       "      <td>North America</td>\n",
       "      <td>b'\\xff\\xd8\\xff\\xe0\\x00\\x10JFIF\\x00\\x01\\x01\\x01...</td>\n",
       "    </tr>\n",
       "    <tr>\n",
       "      <th>4</th>\n",
       "      <td>5</td>\n",
       "      <td>5</td>\n",
       "      <td>Southeast</td>\n",
       "      <td>United States</td>\n",
       "      <td>North America</td>\n",
       "      <td>b'\\xff\\xd8\\xff\\xe0\\x00\\x10JFIF\\x00\\x01\\x01\\x01...</td>\n",
       "    </tr>\n",
       "  </tbody>\n",
       "</table>\n",
       "</div>"
      ],
      "text/plain": [
       "   SalesTerritoryKey  SalesTerritoryAlternateKey SalesTerritoryRegion  \\\n",
       "0                  1                           1            Northwest   \n",
       "1                  2                           2            Northeast   \n",
       "2                  3                           3              Central   \n",
       "3                  4                           4            Southwest   \n",
       "4                  5                           5            Southeast   \n",
       "\n",
       "  SalesTerritoryCountry SalesTerritoryGroup  \\\n",
       "0         United States       North America   \n",
       "1         United States       North America   \n",
       "2         United States       North America   \n",
       "3         United States       North America   \n",
       "4         United States       North America   \n",
       "\n",
       "                                 SalesTerritoryImage  \n",
       "0  b'\\xff\\xd8\\xff\\xe0\\x00\\x10JFIF\\x00\\x01\\x01\\x01...  \n",
       "1  b'\\xff\\xd8\\xff\\xe0\\x00\\x10JFIF\\x00\\x01\\x01\\x01...  \n",
       "2  b'\\xff\\xd8\\xff\\xe0\\x00\\x10JFIF\\x00\\x01\\x01\\x01...  \n",
       "3  b'\\xff\\xd8\\xff\\xe0\\x00\\x10JFIF\\x00\\x01\\x01\\x01...  \n",
       "4  b'\\xff\\xd8\\xff\\xe0\\x00\\x10JFIF\\x00\\x01\\x01\\x01...  "
      ]
     },
     "execution_count": 60,
     "metadata": {},
     "output_type": "execute_result"
    }
   ],
   "source": [
    "query=\"\"\"SELECT * FROM dimsalesterritory\"\"\"\n",
    "salesterritory=pd.read_sql(query,db_engine)\n",
    "salesterritory.head()"
   ]
  },
  {
   "cell_type": "code",
   "execution_count": 61,
   "id": "db8570f3-fb7d-43ca-b4d6-57d5b92eee9b",
   "metadata": {},
   "outputs": [
    {
     "data": {
      "text/html": [
       "<div>\n",
       "<style scoped>\n",
       "    .dataframe tbody tr th:only-of-type {\n",
       "        vertical-align: middle;\n",
       "    }\n",
       "\n",
       "    .dataframe tbody tr th {\n",
       "        vertical-align: top;\n",
       "    }\n",
       "\n",
       "    .dataframe thead th {\n",
       "        text-align: right;\n",
       "    }\n",
       "</style>\n",
       "<table border=\"1\" class=\"dataframe\">\n",
       "  <thead>\n",
       "    <tr style=\"text-align: right;\">\n",
       "      <th></th>\n",
       "      <th>EmployeeKey</th>\n",
       "      <th>ParentEmployeeKey</th>\n",
       "      <th>EmployeeNationalIDAlternateKey</th>\n",
       "      <th>ParentEmployeeNationalIDAlternateKey</th>\n",
       "      <th>FirstName</th>\n",
       "      <th>LastName</th>\n",
       "      <th>MiddleName</th>\n",
       "      <th>NameStyle</th>\n",
       "      <th>Title</th>\n",
       "      <th>HireDate</th>\n",
       "      <th>...</th>\n",
       "      <th>SalesPersonFlag</th>\n",
       "      <th>DepartmentName</th>\n",
       "      <th>EmployeePhoto</th>\n",
       "      <th>Position</th>\n",
       "      <th>SalesTerritoryKey</th>\n",
       "      <th>SalesTerritoryAlternateKey</th>\n",
       "      <th>SalesTerritoryRegion</th>\n",
       "      <th>SalesTerritoryCountry</th>\n",
       "      <th>SalesTerritoryGroup</th>\n",
       "      <th>SalesTerritoryImage</th>\n",
       "    </tr>\n",
       "  </thead>\n",
       "  <tbody>\n",
       "    <tr>\n",
       "      <th>0</th>\n",
       "      <td>272</td>\n",
       "      <td>277.0</td>\n",
       "      <td>502097814</td>\n",
       "      <td>112432117.0</td>\n",
       "      <td>Stephen</td>\n",
       "      <td>Jiang</td>\n",
       "      <td>Y</td>\n",
       "      <td>0</td>\n",
       "      <td>North American Sales Manager</td>\n",
       "      <td>2010-08-04</td>\n",
       "      <td>...</td>\n",
       "      <td>1</td>\n",
       "      <td>Sales</td>\n",
       "      <td>b'\\xff\\xd8\\xff\\xe0\\x00\\x10JFIF\\x00\\x01\\x01\\x01...</td>\n",
       "      <td>Sales Manager</td>\n",
       "      <td>1</td>\n",
       "      <td>1</td>\n",
       "      <td>Northwest</td>\n",
       "      <td>United States</td>\n",
       "      <td>North America</td>\n",
       "      <td>b'\\xff\\xd8\\xff\\xe0\\x00\\x10JFIF\\x00\\x01\\x01\\x01...</td>\n",
       "    </tr>\n",
       "    <tr>\n",
       "      <th>1</th>\n",
       "      <td>277</td>\n",
       "      <td>277.0</td>\n",
       "      <td>112432117</td>\n",
       "      <td>112432117.0</td>\n",
       "      <td>Brian</td>\n",
       "      <td>Welcker</td>\n",
       "      <td>S</td>\n",
       "      <td>0</td>\n",
       "      <td>Director of Sales</td>\n",
       "      <td>2010-09-15</td>\n",
       "      <td>...</td>\n",
       "      <td>1</td>\n",
       "      <td>Sales</td>\n",
       "      <td>b'\\xff\\xd8\\xff\\xe0\\x00\\x10JFIF\\x00\\x01\\x01\\x01...</td>\n",
       "      <td>Sales Director</td>\n",
       "      <td>1</td>\n",
       "      <td>1</td>\n",
       "      <td>Northwest</td>\n",
       "      <td>United States</td>\n",
       "      <td>North America</td>\n",
       "      <td>b'\\xff\\xd8\\xff\\xe0\\x00\\x10JFIF\\x00\\x01\\x01\\x01...</td>\n",
       "    </tr>\n",
       "    <tr>\n",
       "      <th>2</th>\n",
       "      <td>286</td>\n",
       "      <td>272.0</td>\n",
       "      <td>61161660</td>\n",
       "      <td>502097814.0</td>\n",
       "      <td>Pamela</td>\n",
       "      <td>Ansman-Wolfe</td>\n",
       "      <td>O</td>\n",
       "      <td>0</td>\n",
       "      <td>Sales Representative</td>\n",
       "      <td>2010-12-29</td>\n",
       "      <td>...</td>\n",
       "      <td>1</td>\n",
       "      <td>Sales</td>\n",
       "      <td>b'\\x89PNG\\r\\n\\x1a\\n\\x00\\x00\\x00\\rIHDR\\x00\\x00\\...</td>\n",
       "      <td>Sales Representative</td>\n",
       "      <td>1</td>\n",
       "      <td>1</td>\n",
       "      <td>Northwest</td>\n",
       "      <td>United States</td>\n",
       "      <td>North America</td>\n",
       "      <td>b'\\xff\\xd8\\xff\\xe0\\x00\\x10JFIF\\x00\\x01\\x01\\x01...</td>\n",
       "    </tr>\n",
       "    <tr>\n",
       "      <th>3</th>\n",
       "      <td>289</td>\n",
       "      <td>272.0</td>\n",
       "      <td>987554265</td>\n",
       "      <td>502097814.0</td>\n",
       "      <td>David</td>\n",
       "      <td>Campbell</td>\n",
       "      <td>R</td>\n",
       "      <td>0</td>\n",
       "      <td>Sales Representative</td>\n",
       "      <td>2010-12-29</td>\n",
       "      <td>...</td>\n",
       "      <td>1</td>\n",
       "      <td>Sales</td>\n",
       "      <td>b'\\xff\\xd8\\xff\\xe0\\x00\\x10JFIF\\x00\\x01\\x01\\x01...</td>\n",
       "      <td>Sales Representative</td>\n",
       "      <td>1</td>\n",
       "      <td>1</td>\n",
       "      <td>Northwest</td>\n",
       "      <td>United States</td>\n",
       "      <td>North America</td>\n",
       "      <td>b'\\xff\\xd8\\xff\\xe0\\x00\\x10JFIF\\x00\\x01\\x01\\x01...</td>\n",
       "    </tr>\n",
       "    <tr>\n",
       "      <th>4</th>\n",
       "      <td>293</td>\n",
       "      <td>272.0</td>\n",
       "      <td>90836195</td>\n",
       "      <td>502097814.0</td>\n",
       "      <td>Tete</td>\n",
       "      <td>Mensa-Annan</td>\n",
       "      <td>A</td>\n",
       "      <td>0</td>\n",
       "      <td>Sales Representative</td>\n",
       "      <td>2012-04-30</td>\n",
       "      <td>...</td>\n",
       "      <td>1</td>\n",
       "      <td>Sales</td>\n",
       "      <td>b'\\xff\\xd8\\xff\\xe0\\x00\\x10JFIF\\x00\\x01\\x01\\x01...</td>\n",
       "      <td>Sales Representative</td>\n",
       "      <td>1</td>\n",
       "      <td>1</td>\n",
       "      <td>Northwest</td>\n",
       "      <td>United States</td>\n",
       "      <td>North America</td>\n",
       "      <td>b'\\xff\\xd8\\xff\\xe0\\x00\\x10JFIF\\x00\\x01\\x01\\x01...</td>\n",
       "    </tr>\n",
       "  </tbody>\n",
       "</table>\n",
       "<p>5 rows × 34 columns</p>\n",
       "</div>"
      ],
      "text/plain": [
       "   EmployeeKey  ParentEmployeeKey  EmployeeNationalIDAlternateKey  \\\n",
       "0          272              277.0                       502097814   \n",
       "1          277              277.0                       112432117   \n",
       "2          286              272.0                        61161660   \n",
       "3          289              272.0                       987554265   \n",
       "4          293              272.0                        90836195   \n",
       "\n",
       "   ParentEmployeeNationalIDAlternateKey FirstName      LastName MiddleName  \\\n",
       "0                           112432117.0   Stephen         Jiang          Y   \n",
       "1                           112432117.0     Brian       Welcker          S   \n",
       "2                           502097814.0    Pamela  Ansman-Wolfe          O   \n",
       "3                           502097814.0     David      Campbell          R   \n",
       "4                           502097814.0      Tete   Mensa-Annan          A   \n",
       "\n",
       "   NameStyle                         Title    HireDate  ... SalesPersonFlag  \\\n",
       "0          0  North American Sales Manager  2010-08-04  ...               1   \n",
       "1          0             Director of Sales  2010-09-15  ...               1   \n",
       "2          0          Sales Representative  2010-12-29  ...               1   \n",
       "3          0          Sales Representative  2010-12-29  ...               1   \n",
       "4          0          Sales Representative  2012-04-30  ...               1   \n",
       "\n",
       "  DepartmentName                                      EmployeePhoto  \\\n",
       "0          Sales  b'\\xff\\xd8\\xff\\xe0\\x00\\x10JFIF\\x00\\x01\\x01\\x01...   \n",
       "1          Sales  b'\\xff\\xd8\\xff\\xe0\\x00\\x10JFIF\\x00\\x01\\x01\\x01...   \n",
       "2          Sales  b'\\x89PNG\\r\\n\\x1a\\n\\x00\\x00\\x00\\rIHDR\\x00\\x00\\...   \n",
       "3          Sales  b'\\xff\\xd8\\xff\\xe0\\x00\\x10JFIF\\x00\\x01\\x01\\x01...   \n",
       "4          Sales  b'\\xff\\xd8\\xff\\xe0\\x00\\x10JFIF\\x00\\x01\\x01\\x01...   \n",
       "\n",
       "               Position SalesTerritoryKey SalesTerritoryAlternateKey  \\\n",
       "0         Sales Manager                 1                          1   \n",
       "1        Sales Director                 1                          1   \n",
       "2  Sales Representative                 1                          1   \n",
       "3  Sales Representative                 1                          1   \n",
       "4  Sales Representative                 1                          1   \n",
       "\n",
       "  SalesTerritoryRegion  SalesTerritoryCountry SalesTerritoryGroup  \\\n",
       "0            Northwest          United States       North America   \n",
       "1            Northwest          United States       North America   \n",
       "2            Northwest          United States       North America   \n",
       "3            Northwest          United States       North America   \n",
       "4            Northwest          United States       North America   \n",
       "\n",
       "                                 SalesTerritoryImage  \n",
       "0  b'\\xff\\xd8\\xff\\xe0\\x00\\x10JFIF\\x00\\x01\\x01\\x01...  \n",
       "1  b'\\xff\\xd8\\xff\\xe0\\x00\\x10JFIF\\x00\\x01\\x01\\x01...  \n",
       "2  b'\\xff\\xd8\\xff\\xe0\\x00\\x10JFIF\\x00\\x01\\x01\\x01...  \n",
       "3  b'\\xff\\xd8\\xff\\xe0\\x00\\x10JFIF\\x00\\x01\\x01\\x01...  \n",
       "4  b'\\xff\\xd8\\xff\\xe0\\x00\\x10JFIF\\x00\\x01\\x01\\x01...  \n",
       "\n",
       "[5 rows x 34 columns]"
      ]
     },
     "execution_count": 61,
     "metadata": {},
     "output_type": "execute_result"
    }
   ],
   "source": [
    "employee_territory_join=employee_sales_join.merge(salesterritory, on=\"SalesTerritoryKey\")\n",
    "employee_territory_join.head()"
   ]
  },
  {
   "cell_type": "code",
   "execution_count": 62,
   "id": "fe6f896c-bfc8-4c72-b62a-193634eafe18",
   "metadata": {},
   "outputs": [
    {
     "data": {
      "text/plain": [
       "(296, 28)"
      ]
     },
     "execution_count": 62,
     "metadata": {},
     "output_type": "execute_result"
    }
   ],
   "source": [
    "dimemployee.shape"
   ]
  },
  {
   "cell_type": "code",
   "execution_count": 63,
   "id": "c4012728-9f3d-4aa9-94a0-e7fc8432f2d0",
   "metadata": {},
   "outputs": [
    {
     "data": {
      "text/plain": [
       "(39, 2)"
      ]
     },
     "execution_count": 63,
     "metadata": {},
     "output_type": "execute_result"
    }
   ],
   "source": [
    "dimemployeesalesterritory.shape"
   ]
  },
  {
   "cell_type": "code",
   "execution_count": 64,
   "id": "c25a5213-4629-4764-afa1-56d40b24e817",
   "metadata": {},
   "outputs": [
    {
     "data": {
      "text/plain": [
       "(39, 29)"
      ]
     },
     "execution_count": 64,
     "metadata": {},
     "output_type": "execute_result"
    }
   ],
   "source": [
    "employee_sales_join.shape  # la join risultante tra 28 e 2 colonne è 29 colonne=28-1+2-1+1"
   ]
  },
  {
   "cell_type": "code",
   "execution_count": 65,
   "id": "200a1e70-5556-4c5c-9426-eb8810e833dd",
   "metadata": {},
   "outputs": [
    {
     "data": {
      "text/plain": [
       "(11, 6)"
      ]
     },
     "execution_count": 65,
     "metadata": {},
     "output_type": "execute_result"
    }
   ],
   "source": [
    "salesterritory.shape"
   ]
  },
  {
   "cell_type": "code",
   "execution_count": 66,
   "id": "f0879e95-b1ad-4c11-bbbf-d663e80d86e1",
   "metadata": {},
   "outputs": [
    {
     "data": {
      "text/plain": [
       "(39, 34)"
      ]
     },
     "execution_count": 66,
     "metadata": {},
     "output_type": "execute_result"
    }
   ],
   "source": [
    "employee_territory_join.shape #la join risultante tra 29 e 6 colonne tolta la chiave è di 34 colonne"
   ]
  },
  {
   "cell_type": "code",
   "execution_count": 67,
   "id": "5eac2586-fc39-499e-8fb7-5352b31c29fe",
   "metadata": {},
   "outputs": [
    {
     "data": {
      "text/plain": [
       "SalesTerritoryCountry  SalesTerritoryRegion\n",
       "Australia              Australia               3\n",
       "Canada                 Canada                  4\n",
       "France                 France                  4\n",
       "Germany                Germany                 3\n",
       "United Kingdom         United Kingdom          3\n",
       "United States          Central                 5\n",
       "                       Northeast               3\n",
       "                       Northwest               5\n",
       "                       Southeast               4\n",
       "                       Southwest               5\n",
       "Name: EmployeeKey, dtype: int64"
      ]
     },
     "execution_count": 67,
     "metadata": {},
     "output_type": "execute_result"
    }
   ],
   "source": [
    "employee_territory_join.groupby(['SalesTerritoryCountry','SalesTerritoryRegion'])['EmployeeKey'].count()"
   ]
  },
  {
   "cell_type": "code",
   "execution_count": 68,
   "id": "e8c510fa-b2b8-43be-989c-525d5517fad6",
   "metadata": {},
   "outputs": [
    {
     "data": {
      "text/plain": [
       "SalesTerritoryCountry\n",
       "Australia         47.764433\n",
       "Canada            41.592550\n",
       "France            41.592550\n",
       "Germany           47.764433\n",
       "United Kingdom    47.764433\n",
       "United States     39.909309\n",
       "Name: BaseRate, dtype: float64"
      ]
     },
     "execution_count": 68,
     "metadata": {},
     "output_type": "execute_result"
    }
   ],
   "source": [
    "employee_territory_join.groupby('SalesTerritoryCountry').BaseRate.mean()# poche differenza"
   ]
  },
  {
   "cell_type": "code",
   "execution_count": null,
   "id": "5660b72b-0467-4afc-be65-163d0a43ae9d",
   "metadata": {},
   "outputs": [],
   "source": []
  }
 ],
 "metadata": {
  "kernelspec": {
   "display_name": "Python 3 (ipykernel)",
   "language": "python",
   "name": "python3"
  },
  "language_info": {
   "codemirror_mode": {
    "name": "ipython",
    "version": 3
   },
   "file_extension": ".py",
   "mimetype": "text/x-python",
   "name": "python",
   "nbconvert_exporter": "python",
   "pygments_lexer": "ipython3",
   "version": "3.11.7"
  }
 },
 "nbformat": 4,
 "nbformat_minor": 5
}
