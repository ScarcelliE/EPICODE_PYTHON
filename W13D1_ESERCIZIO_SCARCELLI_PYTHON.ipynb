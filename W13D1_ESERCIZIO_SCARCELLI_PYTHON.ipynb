{
 "cells": [
  {
   "cell_type": "markdown",
   "id": "531b3ba5-a986-4631-ad7a-eb59baa27168",
   "metadata": {},
   "source": [
    "# Esercizio Lezione_1"
   ]
  },
  {
   "cell_type": "markdown",
   "id": "575bae11-2dde-48f1-8f50-cd0dfaa39a5b",
   "metadata": {},
   "source": [
    "## FARE LA SPESA: LISTA SPESA\n",
    " * Fino a quando i prodotti non sono terminati\n",
    "   * Leggo prodotto su lista della spesa\n",
    "   * Mi porto allo scaffale prodotto \n",
    "   * Prelevo prodotto\n",
    "   * Riporgo nel carello\n",
    " * Mi avvio alla cassa\n",
    "## STUDIARE UN CONCETTO\n",
    "* Leggo un concetto\n",
    "* Ripeto concetto\n",
    "* Se non compreso torno al passo 1\n",
    "* Memorizzo\n",
    "## RIEMPIRE SERBATOIO AUTO\n",
    "* Inserisco la carta\n",
    "* Digido il codice\n",
    "* Seleziono la pompa\n",
    "* Apro sportello serbatoio\n",
    "* Affero la pompa\n",
    "* Inserisco la pompa\n",
    "* Erogo fino a che il serbatoio stacca per il pieno\n",
    "* Riporgo la pompa\n",
    "* Chiudo sportello serbatoio\n",
    "## ACQUISTARE UNO SNACK\n",
    "* Digito il codice dello snack desiderato\n",
    "* Verifico disponibilita’\n",
    "* Inserisco i contanti\n",
    "* Seleziono il numero dello snack desiderato \n",
    "* Prelevo eventuale resto\n",
    "* Prelevo lo snack\n",
    "\n"
   ]
  },
  {
   "cell_type": "code",
   "execution_count": 1,
   "id": "ef137084-fae7-4c02-8b68-1c0d43c5e2c4",
   "metadata": {},
   "outputs": [],
   "source": [
    "n_studenti=25"
   ]
  },
  {
   "cell_type": "code",
   "execution_count": 2,
   "id": "80302471-87ad-4f3e-97b0-6497eb910a7e",
   "metadata": {},
   "outputs": [
    {
     "name": "stdout",
     "output_type": "stream",
     "text": [
      "25\n"
     ]
    }
   ],
   "source": [
    "print(n_studenti)"
   ]
  },
  {
   "cell_type": "code",
   "execution_count": 3,
   "id": "f946c778-48a2-474d-a763-65adabefd29f",
   "metadata": {},
   "outputs": [],
   "source": [
    "n_studenti_new=3"
   ]
  },
  {
   "cell_type": "code",
   "execution_count": 4,
   "id": "b9d73472-9b6a-428e-af01-fb50ac68d359",
   "metadata": {},
   "outputs": [],
   "source": [
    "somma_studenti=n_studenti+n_studenti_new"
   ]
  },
  {
   "cell_type": "code",
   "execution_count": 5,
   "id": "5b663c39-1186-476a-b22b-eb96694ffede",
   "metadata": {},
   "outputs": [
    {
     "name": "stdout",
     "output_type": "stream",
     "text": [
      "28\n"
     ]
    }
   ],
   "source": [
    "print(somma_studenti)"
   ]
  },
  {
   "cell_type": "code",
   "execution_count": 6,
   "id": "12c2df1c-e16f-4fda-9f2a-15e93dc3733f",
   "metadata": {},
   "outputs": [],
   "source": [
    "scuola='Epicode'"
   ]
  },
  {
   "cell_type": "code",
   "execution_count": 7,
   "id": "647be67c-f7e5-4ff3-8cc0-46a6c2277696",
   "metadata": {},
   "outputs": [
    {
     "name": "stdout",
     "output_type": "stream",
     "text": [
      "Epicode\n"
     ]
    }
   ],
   "source": [
    "print(scuola)"
   ]
  },
  {
   "cell_type": "code",
   "execution_count": 8,
   "id": "74a3b920-a97c-4ec2-995e-0496f5c4be34",
   "metadata": {},
   "outputs": [],
   "source": [
    "x=10"
   ]
  },
  {
   "cell_type": "code",
   "execution_count": 9,
   "id": "52ec8c1c-1ed5-4aeb-bc83-14f0abe8c3bf",
   "metadata": {},
   "outputs": [],
   "source": [
    "x+=2\n",
    "x*=3"
   ]
  },
  {
   "cell_type": "code",
   "execution_count": 10,
   "id": "cafb39d9-eb39-4668-b334-c4e9bcdc29e7",
   "metadata": {},
   "outputs": [
    {
     "name": "stdout",
     "output_type": "stream",
     "text": [
      "36\n"
     ]
    }
   ],
   "source": [
    "print(x)"
   ]
  },
  {
   "cell_type": "code",
   "execution_count": 11,
   "id": "1fdc6205-acee-4c98-bf0d-34a1e7d412ad",
   "metadata": {},
   "outputs": [],
   "source": [
    "x=10\n",
    "x=x+2\n",
    "x=x*3"
   ]
  },
  {
   "cell_type": "code",
   "execution_count": 12,
   "id": "e7b3291c-c059-4e0d-ac98-df6beee6d16f",
   "metadata": {},
   "outputs": [
    {
     "data": {
      "text/plain": [
       "36"
      ]
     },
     "execution_count": 12,
     "metadata": {},
     "output_type": "execute_result"
    }
   ],
   "source": [
    "x"
   ]
  },
  {
   "cell_type": "code",
   "execution_count": 13,
   "id": "f5c013bb-0be2-4231-a59d-f4965a57488d",
   "metadata": {},
   "outputs": [],
   "source": [
    "str1 = \"Windows\"\n",
    "str2 = \"Excel\"\n",
    "str3 = \"Powerpoint\"\n",
    "str4 = \"Word\""
   ]
  },
  {
   "cell_type": "code",
   "execution_count": 14,
   "id": "ed1df07f-0f28-4280-8a20-449047ffbb21",
   "metadata": {},
   "outputs": [
    {
     "data": {
      "text/plain": [
       "True"
      ]
     },
     "execution_count": 14,
     "metadata": {},
     "output_type": "execute_result"
    }
   ],
   "source": [
    "len(str1)<8 and len(str1)>5"
   ]
  },
  {
   "cell_type": "code",
   "execution_count": 15,
   "id": "99bcab1a-121e-41bd-b640-8f72bbe82440",
   "metadata": {},
   "outputs": [
    {
     "data": {
      "text/plain": [
       "False"
      ]
     },
     "execution_count": 15,
     "metadata": {},
     "output_type": "execute_result"
    }
   ],
   "source": [
    "len(str2)<8 and len(str2)>5"
   ]
  },
  {
   "cell_type": "code",
   "execution_count": 16,
   "id": "3dc6c42c-065f-4cc2-b8e6-255fc173eb1a",
   "metadata": {},
   "outputs": [
    {
     "data": {
      "text/plain": [
       "False"
      ]
     },
     "execution_count": 16,
     "metadata": {},
     "output_type": "execute_result"
    }
   ],
   "source": [
    "len(str3)<8 and len(str3)>5"
   ]
  },
  {
   "cell_type": "code",
   "execution_count": 17,
   "id": "ec36dbc6-fd1c-4d18-9144-4cc359d153f9",
   "metadata": {},
   "outputs": [
    {
     "data": {
      "text/plain": [
       "False"
      ]
     },
     "execution_count": 17,
     "metadata": {},
     "output_type": "execute_result"
    }
   ],
   "source": [
    "len(str4)<8 and len(str4)>5"
   ]
  },
  {
   "cell_type": "code",
   "execution_count": 18,
   "id": "2da12641-0cf1-48a0-aaeb-336eab89e239",
   "metadata": {},
   "outputs": [
    {
     "name": "stdout",
     "output_type": "stream",
     "text": [
      "31536000\n"
     ]
    }
   ],
   "source": [
    "print(365*24*60*60)"
   ]
  },
  {
   "cell_type": "code",
   "execution_count": 19,
   "id": "53396118-393c-4c70-9660-f04a7d2f705c",
   "metadata": {},
   "outputs": [],
   "source": [
    "my_string = \"I am studying Python\""
   ]
  },
  {
   "cell_type": "code",
   "execution_count": 20,
   "id": "8aea55d3-c90d-428b-a062-f624b930dfe5",
   "metadata": {},
   "outputs": [
    {
     "data": {
      "text/plain": [
       "'I AM STUDYING PYTHON'"
      ]
     },
     "execution_count": 20,
     "metadata": {},
     "output_type": "execute_result"
    }
   ],
   "source": [
    "my_string.upper()"
   ]
  },
  {
   "cell_type": "code",
   "execution_count": 21,
   "id": "ea5cc240-a274-491d-a6ba-d03f6a0aea8a",
   "metadata": {},
   "outputs": [
    {
     "data": {
      "text/plain": [
       "'i am studying python'"
      ]
     },
     "execution_count": 21,
     "metadata": {},
     "output_type": "execute_result"
    }
   ],
   "source": [
    "my_string.lower()"
   ]
  },
  {
   "cell_type": "code",
   "execution_count": 22,
   "id": "88c662e3-55b8-4d2e-8d53-de68939ca296",
   "metadata": {},
   "outputs": [
    {
     "data": {
      "text/plain": [
       "'I am studying a lot'"
      ]
     },
     "execution_count": 22,
     "metadata": {},
     "output_type": "execute_result"
    }
   ],
   "source": [
    "my_string.replace('Python','a lot')"
   ]
  },
  {
   "cell_type": "code",
   "execution_count": 23,
   "id": "69b09fd0-ac6b-44be-92b6-dbae4d81704b",
   "metadata": {},
   "outputs": [
    {
     "data": {
      "text/plain": [
       "'I am studying Python'"
      ]
     },
     "execution_count": 23,
     "metadata": {},
     "output_type": "execute_result"
    }
   ],
   "source": [
    "my_string.strip()"
   ]
  },
  {
   "cell_type": "markdown",
   "id": "424d853f-1337-486b-9474-73fca8ee9107",
   "metadata": {},
   "source": [
    "Non cambia nulla perchè non ho spazi prima e dopo la strip"
   ]
  }
 ],
 "metadata": {
  "kernelspec": {
   "display_name": "Python 3 (ipykernel)",
   "language": "python",
   "name": "python3"
  },
  "language_info": {
   "codemirror_mode": {
    "name": "ipython",
    "version": 3
   },
   "file_extension": ".py",
   "mimetype": "text/x-python",
   "name": "python",
   "nbconvert_exporter": "python",
   "pygments_lexer": "ipython3",
   "version": "3.11.7"
  }
 },
 "nbformat": 4,
 "nbformat_minor": 5
}
